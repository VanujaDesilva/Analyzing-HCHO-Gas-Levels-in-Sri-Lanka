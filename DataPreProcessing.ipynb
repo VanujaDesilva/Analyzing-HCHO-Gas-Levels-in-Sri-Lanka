{
 "cells": [
  {
   "cell_type": "markdown",
   "source": [
    "# Data Pre Processing "
   ],
   "metadata": {
    "collapsed": false
   },
   "id": "e5cb4d654d52022f"
  },
  {
   "cell_type": "code",
   "execution_count": 2,
   "outputs": [],
   "source": [
    "import pandas as pd"
   ],
   "metadata": {
    "collapsed": false,
    "ExecuteTime": {
     "end_time": "2024-04-16T13:38:47.975021200Z",
     "start_time": "2024-04-16T13:38:46.483754400Z"
    }
   },
   "id": "cf469a685ad3607a"
  },
  {
   "cell_type": "code",
   "execution_count": 3,
   "id": "initial_id",
   "metadata": {
    "collapsed": true,
    "ExecuteTime": {
     "end_time": "2024-04-16T13:38:48.046545900Z",
     "start_time": "2024-04-16T13:38:47.964022200Z"
    }
   },
   "outputs": [
    {
     "data": {
      "text/plain": "(12782, 4)"
     },
     "execution_count": 3,
     "metadata": {},
     "output_type": "execute_result"
    }
   ],
   "source": [
    "#read data from data set \n",
    "data1 = pd.read_csv(\"DataSets/col_mat_nuw_output.csv\",header = None)\n",
    "data2 = pd.read_csv(\"DataSets/kan_output.csv\", header=None)\n",
    "data3 = pd.read_csv(\"DataSets/mon_kur_jaf_output.csv\", header=None)\n",
    "data = pd.concat([data1,data2,data3])\n",
    "data.shape"
   ]
  },
  {
   "cell_type": "code",
   "execution_count": 4,
   "outputs": [
    {
     "data": {
      "text/plain": "      HCHO reading        Location Current Date   Next Date\n0         0.000197  Colombo Proper   2019-01-01  2019-01-02\n1         0.000263  Colombo Proper   2019-01-02  2019-01-03\n2         0.000099  Colombo Proper   2019-01-03  2019-01-04\n3         0.000210  Colombo Proper   2019-01-04  2019-01-05\n4         0.000179  Colombo Proper   2019-01-05  2019-01-06\n...            ...             ...          ...         ...\n5473           NaN   Jaffna Proper   2023-12-27  2023-12-28\n5474      0.000051   Jaffna Proper   2023-12-28  2023-12-29\n5475      0.000127   Jaffna Proper   2023-12-29  2023-12-30\n5476      0.000117   Jaffna Proper   2023-12-30  2023-12-31\n5477      0.000065   Jaffna Proper   2023-12-31  2024-01-01\n\n[12782 rows x 4 columns]",
      "text/html": "<div>\n<style scoped>\n    .dataframe tbody tr th:only-of-type {\n        vertical-align: middle;\n    }\n\n    .dataframe tbody tr th {\n        vertical-align: top;\n    }\n\n    .dataframe thead th {\n        text-align: right;\n    }\n</style>\n<table border=\"1\" class=\"dataframe\">\n  <thead>\n    <tr style=\"text-align: right;\">\n      <th></th>\n      <th>HCHO reading</th>\n      <th>Location</th>\n      <th>Current Date</th>\n      <th>Next Date</th>\n    </tr>\n  </thead>\n  <tbody>\n    <tr>\n      <th>0</th>\n      <td>0.000197</td>\n      <td>Colombo Proper</td>\n      <td>2019-01-01</td>\n      <td>2019-01-02</td>\n    </tr>\n    <tr>\n      <th>1</th>\n      <td>0.000263</td>\n      <td>Colombo Proper</td>\n      <td>2019-01-02</td>\n      <td>2019-01-03</td>\n    </tr>\n    <tr>\n      <th>2</th>\n      <td>0.000099</td>\n      <td>Colombo Proper</td>\n      <td>2019-01-03</td>\n      <td>2019-01-04</td>\n    </tr>\n    <tr>\n      <th>3</th>\n      <td>0.000210</td>\n      <td>Colombo Proper</td>\n      <td>2019-01-04</td>\n      <td>2019-01-05</td>\n    </tr>\n    <tr>\n      <th>4</th>\n      <td>0.000179</td>\n      <td>Colombo Proper</td>\n      <td>2019-01-05</td>\n      <td>2019-01-06</td>\n    </tr>\n    <tr>\n      <th>...</th>\n      <td>...</td>\n      <td>...</td>\n      <td>...</td>\n      <td>...</td>\n    </tr>\n    <tr>\n      <th>5473</th>\n      <td>NaN</td>\n      <td>Jaffna Proper</td>\n      <td>2023-12-27</td>\n      <td>2023-12-28</td>\n    </tr>\n    <tr>\n      <th>5474</th>\n      <td>0.000051</td>\n      <td>Jaffna Proper</td>\n      <td>2023-12-28</td>\n      <td>2023-12-29</td>\n    </tr>\n    <tr>\n      <th>5475</th>\n      <td>0.000127</td>\n      <td>Jaffna Proper</td>\n      <td>2023-12-29</td>\n      <td>2023-12-30</td>\n    </tr>\n    <tr>\n      <th>5476</th>\n      <td>0.000117</td>\n      <td>Jaffna Proper</td>\n      <td>2023-12-30</td>\n      <td>2023-12-31</td>\n    </tr>\n    <tr>\n      <th>5477</th>\n      <td>0.000065</td>\n      <td>Jaffna Proper</td>\n      <td>2023-12-31</td>\n      <td>2024-01-01</td>\n    </tr>\n  </tbody>\n</table>\n<p>12782 rows × 4 columns</p>\n</div>"
     },
     "execution_count": 4,
     "metadata": {},
     "output_type": "execute_result"
    }
   ],
   "source": [
    "data.columns = [\"HCHO reading\", \"Location\", \"Current Date\", \"Next Date\"]\n",
    "data"
   ],
   "metadata": {
    "collapsed": false,
    "ExecuteTime": {
     "end_time": "2024-04-16T13:38:48.050555200Z",
     "start_time": "2024-04-16T13:38:47.996023Z"
    }
   },
   "id": "e33bebd4fe05ae7d"
  },
  {
   "cell_type": "code",
   "execution_count": 5,
   "outputs": [
    {
     "name": "stdout",
     "output_type": "stream",
     "text": [
      "HCHO reading\n",
      "[1.96983440e-04 2.62552217e-04 9.85211890e-05 ... 1.26723537e-04\n",
      " 1.16658954e-04 6.54085299e-05]\n",
      "\n",
      "\n",
      "Location\n",
      "['Colombo Proper' 'Deniyaya, Matara' 'Nuwara Eliya Proper' 'Kandy Proper'\n",
      " 'Bibile, Monaragala' 'Kurunegala Proper' 'Jaffna Proper']\n",
      "\n",
      "\n",
      "Current Date\n",
      "['2019-01-01' '2019-01-02' '2019-01-03' ... '2023-12-29' '2023-12-30'\n",
      " '2023-12-31']\n",
      "\n",
      "\n",
      "Next Date\n",
      "['2019-01-02' '2019-01-03' '2019-01-04' ... '2023-12-30' '2023-12-31'\n",
      " '2024-01-01']\n"
     ]
    }
   ],
   "source": [
    "for column in data:\n",
    "    print(column)\n",
    "    print(data[column].unique())\n",
    "    print('\\n')"
   ],
   "metadata": {
    "collapsed": false,
    "ExecuteTime": {
     "end_time": "2024-04-16T13:38:48.067552900Z",
     "start_time": "2024-04-16T13:38:48.012022100Z"
    }
   },
   "id": "b4fe2e72ec2b40dd"
  },
  {
   "cell_type": "code",
   "execution_count": 6,
   "outputs": [],
   "source": [
    "colombo_df = data[data['Location'] == \"Colombo Proper\"]\n",
    "jaffna_df = data[data['Location'] == \"Jaffna Proper\"]\n",
    "deniyaya_df = data[data['Location'] == \"Deniyaya, Matara\"]\n",
    "nuwaraEliya_df = data[data['Location'] == \"Nuwara Eliya Proper\"]\n",
    "kandy_df = data[data['Location'] == \"Kandy Proper\"]\n",
    "bibile_df = data[data['Location'] == \"Bibile, Monaragala\"]\n",
    "kurunegala_df = data[data['Location'] == \"Kurunegala Proper\"]"
   ],
   "metadata": {
    "collapsed": false,
    "ExecuteTime": {
     "end_time": "2024-04-16T13:38:48.086552700Z",
     "start_time": "2024-04-16T13:38:48.029020800Z"
    }
   },
   "id": "4fee0c528e539716"
  },
  {
   "cell_type": "code",
   "execution_count": 7,
   "outputs": [
    {
     "data": {
      "text/plain": "      HCHO reading        Location Current Date   Next Date\n0         0.000197  Colombo Proper   2019-01-01  2019-01-02\n1         0.000263  Colombo Proper   2019-01-02  2019-01-03\n2         0.000099  Colombo Proper   2019-01-03  2019-01-04\n3         0.000210  Colombo Proper   2019-01-04  2019-01-05\n4         0.000179  Colombo Proper   2019-01-05  2019-01-06\n...            ...             ...          ...         ...\n1821      0.000118  Colombo Proper   2023-12-27  2023-12-28\n1822           NaN  Colombo Proper   2023-12-28  2023-12-29\n1823           NaN  Colombo Proper   2023-12-29  2023-12-30\n1824      0.000140  Colombo Proper   2023-12-30  2023-12-31\n1825      0.000080  Colombo Proper   2023-12-31  2024-01-01\n\n[1826 rows x 4 columns]",
      "text/html": "<div>\n<style scoped>\n    .dataframe tbody tr th:only-of-type {\n        vertical-align: middle;\n    }\n\n    .dataframe tbody tr th {\n        vertical-align: top;\n    }\n\n    .dataframe thead th {\n        text-align: right;\n    }\n</style>\n<table border=\"1\" class=\"dataframe\">\n  <thead>\n    <tr style=\"text-align: right;\">\n      <th></th>\n      <th>HCHO reading</th>\n      <th>Location</th>\n      <th>Current Date</th>\n      <th>Next Date</th>\n    </tr>\n  </thead>\n  <tbody>\n    <tr>\n      <th>0</th>\n      <td>0.000197</td>\n      <td>Colombo Proper</td>\n      <td>2019-01-01</td>\n      <td>2019-01-02</td>\n    </tr>\n    <tr>\n      <th>1</th>\n      <td>0.000263</td>\n      <td>Colombo Proper</td>\n      <td>2019-01-02</td>\n      <td>2019-01-03</td>\n    </tr>\n    <tr>\n      <th>2</th>\n      <td>0.000099</td>\n      <td>Colombo Proper</td>\n      <td>2019-01-03</td>\n      <td>2019-01-04</td>\n    </tr>\n    <tr>\n      <th>3</th>\n      <td>0.000210</td>\n      <td>Colombo Proper</td>\n      <td>2019-01-04</td>\n      <td>2019-01-05</td>\n    </tr>\n    <tr>\n      <th>4</th>\n      <td>0.000179</td>\n      <td>Colombo Proper</td>\n      <td>2019-01-05</td>\n      <td>2019-01-06</td>\n    </tr>\n    <tr>\n      <th>...</th>\n      <td>...</td>\n      <td>...</td>\n      <td>...</td>\n      <td>...</td>\n    </tr>\n    <tr>\n      <th>1821</th>\n      <td>0.000118</td>\n      <td>Colombo Proper</td>\n      <td>2023-12-27</td>\n      <td>2023-12-28</td>\n    </tr>\n    <tr>\n      <th>1822</th>\n      <td>NaN</td>\n      <td>Colombo Proper</td>\n      <td>2023-12-28</td>\n      <td>2023-12-29</td>\n    </tr>\n    <tr>\n      <th>1823</th>\n      <td>NaN</td>\n      <td>Colombo Proper</td>\n      <td>2023-12-29</td>\n      <td>2023-12-30</td>\n    </tr>\n    <tr>\n      <th>1824</th>\n      <td>0.000140</td>\n      <td>Colombo Proper</td>\n      <td>2023-12-30</td>\n      <td>2023-12-31</td>\n    </tr>\n    <tr>\n      <th>1825</th>\n      <td>0.000080</td>\n      <td>Colombo Proper</td>\n      <td>2023-12-31</td>\n      <td>2024-01-01</td>\n    </tr>\n  </tbody>\n</table>\n<p>1826 rows × 4 columns</p>\n</div>"
     },
     "execution_count": 7,
     "metadata": {},
     "output_type": "execute_result"
    }
   ],
   "source": [
    "colombo_df"
   ],
   "metadata": {
    "collapsed": false,
    "ExecuteTime": {
     "end_time": "2024-04-16T13:38:48.148074100Z",
     "start_time": "2024-04-16T13:38:48.043037100Z"
    }
   },
   "id": "5cbc4d2abd86c153"
  },
  {
   "cell_type": "code",
   "execution_count": 8,
   "outputs": [],
   "source": [
    "colombo_df= colombo_df.drop(columns=['Next Date'])\n",
    "colombo_df[\"Current Date\"] = pd.to_datetime(colombo_df[\"Current Date\"])\n",
    "colombo_df.set_index(\"Current Date\", inplace=True)"
   ],
   "metadata": {
    "collapsed": false,
    "ExecuteTime": {
     "end_time": "2024-04-16T13:38:48.177073100Z",
     "start_time": "2024-04-16T13:38:48.058552900Z"
    }
   },
   "id": "6f622b41f74c0e2c"
  },
  {
   "cell_type": "code",
   "execution_count": 9,
   "outputs": [
    {
     "data": {
      "text/plain": "      HCHO reading       Location Current Date   Next Date\n3652      0.000058  Jaffna Proper   2019-01-01  2019-01-02\n3653      0.000102  Jaffna Proper   2019-01-02  2019-01-03\n3654      0.000039  Jaffna Proper   2019-01-03  2019-01-04\n3655     -0.000002  Jaffna Proper   2019-01-04  2019-01-05\n3656      0.000159  Jaffna Proper   2019-01-05  2019-01-06\n...            ...            ...          ...         ...\n5473           NaN  Jaffna Proper   2023-12-27  2023-12-28\n5474      0.000051  Jaffna Proper   2023-12-28  2023-12-29\n5475      0.000127  Jaffna Proper   2023-12-29  2023-12-30\n5476      0.000117  Jaffna Proper   2023-12-30  2023-12-31\n5477      0.000065  Jaffna Proper   2023-12-31  2024-01-01\n\n[1826 rows x 4 columns]",
      "text/html": "<div>\n<style scoped>\n    .dataframe tbody tr th:only-of-type {\n        vertical-align: middle;\n    }\n\n    .dataframe tbody tr th {\n        vertical-align: top;\n    }\n\n    .dataframe thead th {\n        text-align: right;\n    }\n</style>\n<table border=\"1\" class=\"dataframe\">\n  <thead>\n    <tr style=\"text-align: right;\">\n      <th></th>\n      <th>HCHO reading</th>\n      <th>Location</th>\n      <th>Current Date</th>\n      <th>Next Date</th>\n    </tr>\n  </thead>\n  <tbody>\n    <tr>\n      <th>3652</th>\n      <td>0.000058</td>\n      <td>Jaffna Proper</td>\n      <td>2019-01-01</td>\n      <td>2019-01-02</td>\n    </tr>\n    <tr>\n      <th>3653</th>\n      <td>0.000102</td>\n      <td>Jaffna Proper</td>\n      <td>2019-01-02</td>\n      <td>2019-01-03</td>\n    </tr>\n    <tr>\n      <th>3654</th>\n      <td>0.000039</td>\n      <td>Jaffna Proper</td>\n      <td>2019-01-03</td>\n      <td>2019-01-04</td>\n    </tr>\n    <tr>\n      <th>3655</th>\n      <td>-0.000002</td>\n      <td>Jaffna Proper</td>\n      <td>2019-01-04</td>\n      <td>2019-01-05</td>\n    </tr>\n    <tr>\n      <th>3656</th>\n      <td>0.000159</td>\n      <td>Jaffna Proper</td>\n      <td>2019-01-05</td>\n      <td>2019-01-06</td>\n    </tr>\n    <tr>\n      <th>...</th>\n      <td>...</td>\n      <td>...</td>\n      <td>...</td>\n      <td>...</td>\n    </tr>\n    <tr>\n      <th>5473</th>\n      <td>NaN</td>\n      <td>Jaffna Proper</td>\n      <td>2023-12-27</td>\n      <td>2023-12-28</td>\n    </tr>\n    <tr>\n      <th>5474</th>\n      <td>0.000051</td>\n      <td>Jaffna Proper</td>\n      <td>2023-12-28</td>\n      <td>2023-12-29</td>\n    </tr>\n    <tr>\n      <th>5475</th>\n      <td>0.000127</td>\n      <td>Jaffna Proper</td>\n      <td>2023-12-29</td>\n      <td>2023-12-30</td>\n    </tr>\n    <tr>\n      <th>5476</th>\n      <td>0.000117</td>\n      <td>Jaffna Proper</td>\n      <td>2023-12-30</td>\n      <td>2023-12-31</td>\n    </tr>\n    <tr>\n      <th>5477</th>\n      <td>0.000065</td>\n      <td>Jaffna Proper</td>\n      <td>2023-12-31</td>\n      <td>2024-01-01</td>\n    </tr>\n  </tbody>\n</table>\n<p>1826 rows × 4 columns</p>\n</div>"
     },
     "execution_count": 9,
     "metadata": {},
     "output_type": "execute_result"
    }
   ],
   "source": [
    "jaffna_df"
   ],
   "metadata": {
    "collapsed": false,
    "ExecuteTime": {
     "end_time": "2024-04-16T13:38:48.196077700Z",
     "start_time": "2024-04-16T13:38:48.073554500Z"
    }
   },
   "id": "fe40bfaf9d9769a3"
  },
  {
   "cell_type": "code",
   "execution_count": 10,
   "outputs": [],
   "source": [
    "jaffna_df= jaffna_df.drop(columns=['Next Date'])\n",
    "jaffna_df[\"Current Date\"] = pd.to_datetime(jaffna_df[\"Current Date\"])\n",
    "jaffna_df.set_index(\"Current Date\", inplace=True)"
   ],
   "metadata": {
    "collapsed": false,
    "ExecuteTime": {
     "end_time": "2024-04-16T13:38:48.200074900Z",
     "start_time": "2024-04-16T13:38:48.090553400Z"
    }
   },
   "id": "5333e742a911300b"
  },
  {
   "cell_type": "code",
   "execution_count": 11,
   "outputs": [
    {
     "data": {
      "text/plain": "      HCHO reading          Location Current Date   Next Date\n1826           NaN  Deniyaya, Matara   2019-01-01  2019-01-02\n1827      0.000006  Deniyaya, Matara   2019-01-02  2019-01-03\n1828      0.000236  Deniyaya, Matara   2019-01-03  2019-01-04\n1829      0.000064  Deniyaya, Matara   2019-01-04  2019-01-05\n1830      0.000053  Deniyaya, Matara   2019-01-05  2019-01-06\n...            ...               ...          ...         ...\n3647      0.000228  Deniyaya, Matara   2023-12-27  2023-12-28\n3648           NaN  Deniyaya, Matara   2023-12-28  2023-12-29\n3649           NaN  Deniyaya, Matara   2023-12-29  2023-12-30\n3650      0.000116  Deniyaya, Matara   2023-12-30  2023-12-31\n3651           NaN  Deniyaya, Matara   2023-12-31  2024-01-01\n\n[1826 rows x 4 columns]",
      "text/html": "<div>\n<style scoped>\n    .dataframe tbody tr th:only-of-type {\n        vertical-align: middle;\n    }\n\n    .dataframe tbody tr th {\n        vertical-align: top;\n    }\n\n    .dataframe thead th {\n        text-align: right;\n    }\n</style>\n<table border=\"1\" class=\"dataframe\">\n  <thead>\n    <tr style=\"text-align: right;\">\n      <th></th>\n      <th>HCHO reading</th>\n      <th>Location</th>\n      <th>Current Date</th>\n      <th>Next Date</th>\n    </tr>\n  </thead>\n  <tbody>\n    <tr>\n      <th>1826</th>\n      <td>NaN</td>\n      <td>Deniyaya, Matara</td>\n      <td>2019-01-01</td>\n      <td>2019-01-02</td>\n    </tr>\n    <tr>\n      <th>1827</th>\n      <td>0.000006</td>\n      <td>Deniyaya, Matara</td>\n      <td>2019-01-02</td>\n      <td>2019-01-03</td>\n    </tr>\n    <tr>\n      <th>1828</th>\n      <td>0.000236</td>\n      <td>Deniyaya, Matara</td>\n      <td>2019-01-03</td>\n      <td>2019-01-04</td>\n    </tr>\n    <tr>\n      <th>1829</th>\n      <td>0.000064</td>\n      <td>Deniyaya, Matara</td>\n      <td>2019-01-04</td>\n      <td>2019-01-05</td>\n    </tr>\n    <tr>\n      <th>1830</th>\n      <td>0.000053</td>\n      <td>Deniyaya, Matara</td>\n      <td>2019-01-05</td>\n      <td>2019-01-06</td>\n    </tr>\n    <tr>\n      <th>...</th>\n      <td>...</td>\n      <td>...</td>\n      <td>...</td>\n      <td>...</td>\n    </tr>\n    <tr>\n      <th>3647</th>\n      <td>0.000228</td>\n      <td>Deniyaya, Matara</td>\n      <td>2023-12-27</td>\n      <td>2023-12-28</td>\n    </tr>\n    <tr>\n      <th>3648</th>\n      <td>NaN</td>\n      <td>Deniyaya, Matara</td>\n      <td>2023-12-28</td>\n      <td>2023-12-29</td>\n    </tr>\n    <tr>\n      <th>3649</th>\n      <td>NaN</td>\n      <td>Deniyaya, Matara</td>\n      <td>2023-12-29</td>\n      <td>2023-12-30</td>\n    </tr>\n    <tr>\n      <th>3650</th>\n      <td>0.000116</td>\n      <td>Deniyaya, Matara</td>\n      <td>2023-12-30</td>\n      <td>2023-12-31</td>\n    </tr>\n    <tr>\n      <th>3651</th>\n      <td>NaN</td>\n      <td>Deniyaya, Matara</td>\n      <td>2023-12-31</td>\n      <td>2024-01-01</td>\n    </tr>\n  </tbody>\n</table>\n<p>1826 rows × 4 columns</p>\n</div>"
     },
     "execution_count": 11,
     "metadata": {},
     "output_type": "execute_result"
    }
   ],
   "source": [
    "deniyaya_df"
   ],
   "metadata": {
    "collapsed": false,
    "ExecuteTime": {
     "end_time": "2024-04-16T13:38:48.231074200Z",
     "start_time": "2024-04-16T13:38:48.105553300Z"
    }
   },
   "id": "5566cb21f240381"
  },
  {
   "cell_type": "code",
   "execution_count": 12,
   "outputs": [],
   "source": [
    "deniyaya_df= deniyaya_df.drop(columns=['Next Date'])\n",
    "deniyaya_df[\"Current Date\"] = pd.to_datetime(deniyaya_df[\"Current Date\"])\n",
    "deniyaya_df.set_index(\"Current Date\", inplace=True)"
   ],
   "metadata": {
    "collapsed": false,
    "ExecuteTime": {
     "end_time": "2024-04-16T13:38:48.300246100Z",
     "start_time": "2024-04-16T13:38:48.120554600Z"
    }
   },
   "id": "6b1cbf9e456516c8"
  },
  {
   "cell_type": "code",
   "execution_count": 13,
   "outputs": [
    {
     "data": {
      "text/plain": "      HCHO reading             Location Current Date   Next Date\n3652           NaN  Nuwara Eliya Proper   2019-01-01  2019-01-02\n3653           NaN  Nuwara Eliya Proper   2019-01-02  2019-01-03\n3654      0.000191  Nuwara Eliya Proper   2019-01-03  2019-01-04\n3655      0.000051  Nuwara Eliya Proper   2019-01-04  2019-01-05\n3656      0.000065  Nuwara Eliya Proper   2019-01-05  2019-01-06\n...            ...                  ...          ...         ...\n5473           NaN  Nuwara Eliya Proper   2023-12-27  2023-12-28\n5474           NaN  Nuwara Eliya Proper   2023-12-28  2023-12-29\n5475           NaN  Nuwara Eliya Proper   2023-12-29  2023-12-30\n5476           NaN  Nuwara Eliya Proper   2023-12-30  2023-12-31\n5477           NaN  Nuwara Eliya Proper   2023-12-31  2024-01-01\n\n[1826 rows x 4 columns]",
      "text/html": "<div>\n<style scoped>\n    .dataframe tbody tr th:only-of-type {\n        vertical-align: middle;\n    }\n\n    .dataframe tbody tr th {\n        vertical-align: top;\n    }\n\n    .dataframe thead th {\n        text-align: right;\n    }\n</style>\n<table border=\"1\" class=\"dataframe\">\n  <thead>\n    <tr style=\"text-align: right;\">\n      <th></th>\n      <th>HCHO reading</th>\n      <th>Location</th>\n      <th>Current Date</th>\n      <th>Next Date</th>\n    </tr>\n  </thead>\n  <tbody>\n    <tr>\n      <th>3652</th>\n      <td>NaN</td>\n      <td>Nuwara Eliya Proper</td>\n      <td>2019-01-01</td>\n      <td>2019-01-02</td>\n    </tr>\n    <tr>\n      <th>3653</th>\n      <td>NaN</td>\n      <td>Nuwara Eliya Proper</td>\n      <td>2019-01-02</td>\n      <td>2019-01-03</td>\n    </tr>\n    <tr>\n      <th>3654</th>\n      <td>0.000191</td>\n      <td>Nuwara Eliya Proper</td>\n      <td>2019-01-03</td>\n      <td>2019-01-04</td>\n    </tr>\n    <tr>\n      <th>3655</th>\n      <td>0.000051</td>\n      <td>Nuwara Eliya Proper</td>\n      <td>2019-01-04</td>\n      <td>2019-01-05</td>\n    </tr>\n    <tr>\n      <th>3656</th>\n      <td>0.000065</td>\n      <td>Nuwara Eliya Proper</td>\n      <td>2019-01-05</td>\n      <td>2019-01-06</td>\n    </tr>\n    <tr>\n      <th>...</th>\n      <td>...</td>\n      <td>...</td>\n      <td>...</td>\n      <td>...</td>\n    </tr>\n    <tr>\n      <th>5473</th>\n      <td>NaN</td>\n      <td>Nuwara Eliya Proper</td>\n      <td>2023-12-27</td>\n      <td>2023-12-28</td>\n    </tr>\n    <tr>\n      <th>5474</th>\n      <td>NaN</td>\n      <td>Nuwara Eliya Proper</td>\n      <td>2023-12-28</td>\n      <td>2023-12-29</td>\n    </tr>\n    <tr>\n      <th>5475</th>\n      <td>NaN</td>\n      <td>Nuwara Eliya Proper</td>\n      <td>2023-12-29</td>\n      <td>2023-12-30</td>\n    </tr>\n    <tr>\n      <th>5476</th>\n      <td>NaN</td>\n      <td>Nuwara Eliya Proper</td>\n      <td>2023-12-30</td>\n      <td>2023-12-31</td>\n    </tr>\n    <tr>\n      <th>5477</th>\n      <td>NaN</td>\n      <td>Nuwara Eliya Proper</td>\n      <td>2023-12-31</td>\n      <td>2024-01-01</td>\n    </tr>\n  </tbody>\n</table>\n<p>1826 rows × 4 columns</p>\n</div>"
     },
     "execution_count": 13,
     "metadata": {},
     "output_type": "execute_result"
    }
   ],
   "source": [
    "nuwaraEliya_df"
   ],
   "metadata": {
    "collapsed": false,
    "ExecuteTime": {
     "end_time": "2024-04-16T13:38:48.309247400Z",
     "start_time": "2024-04-16T13:38:48.135556800Z"
    }
   },
   "id": "9396f9325324030c"
  },
  {
   "cell_type": "code",
   "execution_count": 14,
   "outputs": [],
   "source": [
    "nuwaraEliya_df= nuwaraEliya_df.drop(columns=['Next Date'])\n",
    "nuwaraEliya_df[\"Current Date\"] = pd.to_datetime(nuwaraEliya_df[\"Current Date\"])\n",
    "nuwaraEliya_df.set_index(\"Current Date\", inplace=True)"
   ],
   "metadata": {
    "collapsed": false,
    "ExecuteTime": {
     "end_time": "2024-04-16T13:38:48.325247Z",
     "start_time": "2024-04-16T13:38:48.152074Z"
    }
   },
   "id": "107064c5538a02b3"
  },
  {
   "cell_type": "code",
   "execution_count": 15,
   "outputs": [
    {
     "data": {
      "text/plain": "      HCHO reading      Location Current Date   Next Date\n0         0.000176  Kandy Proper   2019-01-01  2019-01-02\n1         0.000092  Kandy Proper   2019-01-02  2019-01-03\n2              NaN  Kandy Proper   2019-01-03  2019-01-04\n3         0.000191  Kandy Proper   2019-01-04  2019-01-05\n4         0.000122  Kandy Proper   2019-01-05  2019-01-06\n...            ...           ...          ...         ...\n1821           NaN  Kandy Proper   2023-12-27  2023-12-28\n1822           NaN  Kandy Proper   2023-12-28  2023-12-29\n1823           NaN  Kandy Proper   2023-12-29  2023-12-30\n1824      0.000056  Kandy Proper   2023-12-30  2023-12-31\n1825           NaN  Kandy Proper   2023-12-31  2024-01-01\n\n[1826 rows x 4 columns]",
      "text/html": "<div>\n<style scoped>\n    .dataframe tbody tr th:only-of-type {\n        vertical-align: middle;\n    }\n\n    .dataframe tbody tr th {\n        vertical-align: top;\n    }\n\n    .dataframe thead th {\n        text-align: right;\n    }\n</style>\n<table border=\"1\" class=\"dataframe\">\n  <thead>\n    <tr style=\"text-align: right;\">\n      <th></th>\n      <th>HCHO reading</th>\n      <th>Location</th>\n      <th>Current Date</th>\n      <th>Next Date</th>\n    </tr>\n  </thead>\n  <tbody>\n    <tr>\n      <th>0</th>\n      <td>0.000176</td>\n      <td>Kandy Proper</td>\n      <td>2019-01-01</td>\n      <td>2019-01-02</td>\n    </tr>\n    <tr>\n      <th>1</th>\n      <td>0.000092</td>\n      <td>Kandy Proper</td>\n      <td>2019-01-02</td>\n      <td>2019-01-03</td>\n    </tr>\n    <tr>\n      <th>2</th>\n      <td>NaN</td>\n      <td>Kandy Proper</td>\n      <td>2019-01-03</td>\n      <td>2019-01-04</td>\n    </tr>\n    <tr>\n      <th>3</th>\n      <td>0.000191</td>\n      <td>Kandy Proper</td>\n      <td>2019-01-04</td>\n      <td>2019-01-05</td>\n    </tr>\n    <tr>\n      <th>4</th>\n      <td>0.000122</td>\n      <td>Kandy Proper</td>\n      <td>2019-01-05</td>\n      <td>2019-01-06</td>\n    </tr>\n    <tr>\n      <th>...</th>\n      <td>...</td>\n      <td>...</td>\n      <td>...</td>\n      <td>...</td>\n    </tr>\n    <tr>\n      <th>1821</th>\n      <td>NaN</td>\n      <td>Kandy Proper</td>\n      <td>2023-12-27</td>\n      <td>2023-12-28</td>\n    </tr>\n    <tr>\n      <th>1822</th>\n      <td>NaN</td>\n      <td>Kandy Proper</td>\n      <td>2023-12-28</td>\n      <td>2023-12-29</td>\n    </tr>\n    <tr>\n      <th>1823</th>\n      <td>NaN</td>\n      <td>Kandy Proper</td>\n      <td>2023-12-29</td>\n      <td>2023-12-30</td>\n    </tr>\n    <tr>\n      <th>1824</th>\n      <td>0.000056</td>\n      <td>Kandy Proper</td>\n      <td>2023-12-30</td>\n      <td>2023-12-31</td>\n    </tr>\n    <tr>\n      <th>1825</th>\n      <td>NaN</td>\n      <td>Kandy Proper</td>\n      <td>2023-12-31</td>\n      <td>2024-01-01</td>\n    </tr>\n  </tbody>\n</table>\n<p>1826 rows × 4 columns</p>\n</div>"
     },
     "execution_count": 15,
     "metadata": {},
     "output_type": "execute_result"
    }
   ],
   "source": [
    "kandy_df"
   ],
   "metadata": {
    "collapsed": false,
    "ExecuteTime": {
     "end_time": "2024-04-16T13:38:48.339249800Z",
     "start_time": "2024-04-16T13:38:48.166072700Z"
    }
   },
   "id": "548776f14594f9e7"
  },
  {
   "cell_type": "code",
   "execution_count": 16,
   "outputs": [],
   "source": [
    "kandy_df= kandy_df.drop(columns=['Next Date'])\n",
    "kandy_df[\"Current Date\"] = pd.to_datetime(kandy_df[\"Current Date\"])\n",
    "kandy_df.set_index(\"Current Date\", inplace=True)"
   ],
   "metadata": {
    "collapsed": false,
    "ExecuteTime": {
     "end_time": "2024-04-16T13:38:48.348762300Z",
     "start_time": "2024-04-16T13:38:48.183074Z"
    }
   },
   "id": "d1fd711406808dae"
  },
  {
   "cell_type": "code",
   "execution_count": 17,
   "outputs": [
    {
     "data": {
      "text/plain": "      HCHO reading            Location Current Date   Next Date\n0              NaN  Bibile, Monaragala   2019-01-01  2019-01-02\n1         0.000019  Bibile, Monaragala   2019-01-02  2019-01-03\n2         0.000028  Bibile, Monaragala   2019-01-03  2019-01-04\n3         0.000037  Bibile, Monaragala   2019-01-04  2019-01-05\n4        -0.000018  Bibile, Monaragala   2019-01-05  2019-01-06\n...            ...                 ...          ...         ...\n1821           NaN  Bibile, Monaragala   2023-12-27  2023-12-28\n1822           NaN  Bibile, Monaragala   2023-12-28  2023-12-29\n1823           NaN  Bibile, Monaragala   2023-12-29  2023-12-30\n1824           NaN  Bibile, Monaragala   2023-12-30  2023-12-31\n1825           NaN  Bibile, Monaragala   2023-12-31  2024-01-01\n\n[1826 rows x 4 columns]",
      "text/html": "<div>\n<style scoped>\n    .dataframe tbody tr th:only-of-type {\n        vertical-align: middle;\n    }\n\n    .dataframe tbody tr th {\n        vertical-align: top;\n    }\n\n    .dataframe thead th {\n        text-align: right;\n    }\n</style>\n<table border=\"1\" class=\"dataframe\">\n  <thead>\n    <tr style=\"text-align: right;\">\n      <th></th>\n      <th>HCHO reading</th>\n      <th>Location</th>\n      <th>Current Date</th>\n      <th>Next Date</th>\n    </tr>\n  </thead>\n  <tbody>\n    <tr>\n      <th>0</th>\n      <td>NaN</td>\n      <td>Bibile, Monaragala</td>\n      <td>2019-01-01</td>\n      <td>2019-01-02</td>\n    </tr>\n    <tr>\n      <th>1</th>\n      <td>0.000019</td>\n      <td>Bibile, Monaragala</td>\n      <td>2019-01-02</td>\n      <td>2019-01-03</td>\n    </tr>\n    <tr>\n      <th>2</th>\n      <td>0.000028</td>\n      <td>Bibile, Monaragala</td>\n      <td>2019-01-03</td>\n      <td>2019-01-04</td>\n    </tr>\n    <tr>\n      <th>3</th>\n      <td>0.000037</td>\n      <td>Bibile, Monaragala</td>\n      <td>2019-01-04</td>\n      <td>2019-01-05</td>\n    </tr>\n    <tr>\n      <th>4</th>\n      <td>-0.000018</td>\n      <td>Bibile, Monaragala</td>\n      <td>2019-01-05</td>\n      <td>2019-01-06</td>\n    </tr>\n    <tr>\n      <th>...</th>\n      <td>...</td>\n      <td>...</td>\n      <td>...</td>\n      <td>...</td>\n    </tr>\n    <tr>\n      <th>1821</th>\n      <td>NaN</td>\n      <td>Bibile, Monaragala</td>\n      <td>2023-12-27</td>\n      <td>2023-12-28</td>\n    </tr>\n    <tr>\n      <th>1822</th>\n      <td>NaN</td>\n      <td>Bibile, Monaragala</td>\n      <td>2023-12-28</td>\n      <td>2023-12-29</td>\n    </tr>\n    <tr>\n      <th>1823</th>\n      <td>NaN</td>\n      <td>Bibile, Monaragala</td>\n      <td>2023-12-29</td>\n      <td>2023-12-30</td>\n    </tr>\n    <tr>\n      <th>1824</th>\n      <td>NaN</td>\n      <td>Bibile, Monaragala</td>\n      <td>2023-12-30</td>\n      <td>2023-12-31</td>\n    </tr>\n    <tr>\n      <th>1825</th>\n      <td>NaN</td>\n      <td>Bibile, Monaragala</td>\n      <td>2023-12-31</td>\n      <td>2024-01-01</td>\n    </tr>\n  </tbody>\n</table>\n<p>1826 rows × 4 columns</p>\n</div>"
     },
     "execution_count": 17,
     "metadata": {},
     "output_type": "execute_result"
    }
   ],
   "source": [
    "bibile_df"
   ],
   "metadata": {
    "collapsed": false,
    "ExecuteTime": {
     "end_time": "2024-04-16T13:38:48.361763600Z",
     "start_time": "2024-04-16T13:38:48.198074Z"
    }
   },
   "id": "6c34ab8673ef6d1a"
  },
  {
   "cell_type": "code",
   "execution_count": 18,
   "outputs": [],
   "source": [
    "bibile_df= bibile_df.drop(columns=['Next Date'])\n",
    "bibile_df[\"Current Date\"] = pd.to_datetime(bibile_df[\"Current Date\"])\n",
    "bibile_df.set_index(\"Current Date\", inplace=True)"
   ],
   "metadata": {
    "collapsed": false,
    "ExecuteTime": {
     "end_time": "2024-04-16T13:38:48.421763500Z",
     "start_time": "2024-04-16T13:38:48.214074100Z"
    }
   },
   "id": "11d6d67210c6a85e"
  },
  {
   "cell_type": "code",
   "execution_count": 19,
   "outputs": [
    {
     "data": {
      "text/plain": "      HCHO reading           Location Current Date   Next Date\n1826      0.000088  Kurunegala Proper   2019-01-01  2019-01-02\n1827      0.000137  Kurunegala Proper   2019-01-02  2019-01-03\n1828      0.000148  Kurunegala Proper   2019-01-03  2019-01-04\n1829     -0.000002  Kurunegala Proper   2019-01-04  2019-01-05\n1830      0.000249  Kurunegala Proper   2019-01-05  2019-01-06\n...            ...                ...          ...         ...\n3647      0.000075  Kurunegala Proper   2023-12-27  2023-12-28\n3648           NaN  Kurunegala Proper   2023-12-28  2023-12-29\n3649           NaN  Kurunegala Proper   2023-12-29  2023-12-30\n3650      0.000158  Kurunegala Proper   2023-12-30  2023-12-31\n3651           NaN  Kurunegala Proper   2023-12-31  2024-01-01\n\n[1826 rows x 4 columns]",
      "text/html": "<div>\n<style scoped>\n    .dataframe tbody tr th:only-of-type {\n        vertical-align: middle;\n    }\n\n    .dataframe tbody tr th {\n        vertical-align: top;\n    }\n\n    .dataframe thead th {\n        text-align: right;\n    }\n</style>\n<table border=\"1\" class=\"dataframe\">\n  <thead>\n    <tr style=\"text-align: right;\">\n      <th></th>\n      <th>HCHO reading</th>\n      <th>Location</th>\n      <th>Current Date</th>\n      <th>Next Date</th>\n    </tr>\n  </thead>\n  <tbody>\n    <tr>\n      <th>1826</th>\n      <td>0.000088</td>\n      <td>Kurunegala Proper</td>\n      <td>2019-01-01</td>\n      <td>2019-01-02</td>\n    </tr>\n    <tr>\n      <th>1827</th>\n      <td>0.000137</td>\n      <td>Kurunegala Proper</td>\n      <td>2019-01-02</td>\n      <td>2019-01-03</td>\n    </tr>\n    <tr>\n      <th>1828</th>\n      <td>0.000148</td>\n      <td>Kurunegala Proper</td>\n      <td>2019-01-03</td>\n      <td>2019-01-04</td>\n    </tr>\n    <tr>\n      <th>1829</th>\n      <td>-0.000002</td>\n      <td>Kurunegala Proper</td>\n      <td>2019-01-04</td>\n      <td>2019-01-05</td>\n    </tr>\n    <tr>\n      <th>1830</th>\n      <td>0.000249</td>\n      <td>Kurunegala Proper</td>\n      <td>2019-01-05</td>\n      <td>2019-01-06</td>\n    </tr>\n    <tr>\n      <th>...</th>\n      <td>...</td>\n      <td>...</td>\n      <td>...</td>\n      <td>...</td>\n    </tr>\n    <tr>\n      <th>3647</th>\n      <td>0.000075</td>\n      <td>Kurunegala Proper</td>\n      <td>2023-12-27</td>\n      <td>2023-12-28</td>\n    </tr>\n    <tr>\n      <th>3648</th>\n      <td>NaN</td>\n      <td>Kurunegala Proper</td>\n      <td>2023-12-28</td>\n      <td>2023-12-29</td>\n    </tr>\n    <tr>\n      <th>3649</th>\n      <td>NaN</td>\n      <td>Kurunegala Proper</td>\n      <td>2023-12-29</td>\n      <td>2023-12-30</td>\n    </tr>\n    <tr>\n      <th>3650</th>\n      <td>0.000158</td>\n      <td>Kurunegala Proper</td>\n      <td>2023-12-30</td>\n      <td>2023-12-31</td>\n    </tr>\n    <tr>\n      <th>3651</th>\n      <td>NaN</td>\n      <td>Kurunegala Proper</td>\n      <td>2023-12-31</td>\n      <td>2024-01-01</td>\n    </tr>\n  </tbody>\n</table>\n<p>1826 rows × 4 columns</p>\n</div>"
     },
     "execution_count": 19,
     "metadata": {},
     "output_type": "execute_result"
    }
   ],
   "source": [
    "kurunegala_df"
   ],
   "metadata": {
    "collapsed": false,
    "ExecuteTime": {
     "end_time": "2024-04-16T13:38:48.478288400Z",
     "start_time": "2024-04-16T13:38:48.227074600Z"
    }
   },
   "id": "b4285b203991e568"
  },
  {
   "cell_type": "code",
   "execution_count": 20,
   "outputs": [],
   "source": [
    "kurunegala_df= kurunegala_df.drop(columns=['Next Date'])\n",
    "kurunegala_df[\"Current Date\"] = pd.to_datetime(kurunegala_df[\"Current Date\"])\n",
    "kurunegala_df.set_index(\"Current Date\", inplace=True)"
   ],
   "metadata": {
    "collapsed": false,
    "ExecuteTime": {
     "end_time": "2024-04-16T13:38:48.498288600Z",
     "start_time": "2024-04-16T13:38:48.247594700Z"
    }
   },
   "id": "cf166d9ba2d888e0"
  },
  {
   "cell_type": "code",
   "execution_count": 21,
   "outputs": [
    {
     "data": {
      "text/plain": "HCHO reading    487\nLocation          0\ndtype: int64"
     },
     "execution_count": 21,
     "metadata": {},
     "output_type": "execute_result"
    }
   ],
   "source": [
    "colombo_df.isnull().sum()"
   ],
   "metadata": {
    "collapsed": false,
    "ExecuteTime": {
     "end_time": "2024-04-16T13:38:48.520288100Z",
     "start_time": "2024-04-16T13:38:48.262600800Z"
    }
   },
   "id": "1e9c67166c9811fe"
  },
  {
   "cell_type": "code",
   "execution_count": 22,
   "outputs": [],
   "source": [
    "#Filling null values using mode method\n",
    "colombo_df_mode_value = colombo_df[\"HCHO reading\"].fillna(method='bfill').fillna(method='ffill')\n",
    "colombo_df['HCHO reading'].fillna(colombo_df_mode_value, inplace=True)"
   ],
   "metadata": {
    "collapsed": false,
    "ExecuteTime": {
     "end_time": "2024-04-16T13:38:48.554810700Z",
     "start_time": "2024-04-16T13:38:48.279608200Z"
    }
   },
   "id": "37c60a8cbd771718"
  },
  {
   "cell_type": "code",
   "execution_count": 23,
   "outputs": [
    {
     "data": {
      "text/plain": "HCHO reading    0\nLocation        0\ndtype: int64"
     },
     "execution_count": 23,
     "metadata": {},
     "output_type": "execute_result"
    }
   ],
   "source": [
    "colombo_df.isnull().sum()"
   ],
   "metadata": {
    "collapsed": false,
    "ExecuteTime": {
     "end_time": "2024-04-16T13:38:48.623812100Z",
     "start_time": "2024-04-16T13:38:48.291107500Z"
    }
   },
   "id": "b30d921d1123fce2"
  },
  {
   "cell_type": "code",
   "execution_count": 24,
   "outputs": [
    {
     "data": {
      "text/plain": "HCHO reading    365\nLocation          0\ndtype: int64"
     },
     "execution_count": 24,
     "metadata": {},
     "output_type": "execute_result"
    }
   ],
   "source": [
    "jaffna_df.isnull().sum()"
   ],
   "metadata": {
    "collapsed": false,
    "ExecuteTime": {
     "end_time": "2024-04-16T13:38:48.626810400Z",
     "start_time": "2024-04-16T13:38:48.306245800Z"
    }
   },
   "id": "216e87676147848b"
  },
  {
   "cell_type": "code",
   "execution_count": 25,
   "outputs": [],
   "source": [
    "jaffna_mode_value = jaffna_df[\"HCHO reading\"].fillna(method='bfill').fillna(method='ffill')\n",
    "jaffna_df['HCHO reading'].fillna(jaffna_mode_value, inplace=True)"
   ],
   "metadata": {
    "collapsed": false,
    "ExecuteTime": {
     "end_time": "2024-04-16T13:38:48.668329900Z",
     "start_time": "2024-04-16T13:38:48.322247200Z"
    }
   },
   "id": "798c5c5aeaff0d77"
  },
  {
   "cell_type": "code",
   "execution_count": 26,
   "outputs": [
    {
     "data": {
      "text/plain": "HCHO reading    0\nLocation        0\ndtype: int64"
     },
     "execution_count": 26,
     "metadata": {},
     "output_type": "execute_result"
    }
   ],
   "source": [
    "jaffna_df.isnull().sum()"
   ],
   "metadata": {
    "collapsed": false,
    "ExecuteTime": {
     "end_time": "2024-04-16T13:38:48.681330300Z",
     "start_time": "2024-04-16T13:38:48.337251200Z"
    }
   },
   "id": "f87c4fc663d9c095"
  },
  {
   "cell_type": "code",
   "execution_count": 27,
   "outputs": [
    {
     "data": {
      "text/plain": "HCHO reading    793\nLocation          0\ndtype: int64"
     },
     "execution_count": 27,
     "metadata": {},
     "output_type": "execute_result"
    }
   ],
   "source": [
    "kandy_df.isnull().sum()"
   ],
   "metadata": {
    "collapsed": false,
    "ExecuteTime": {
     "end_time": "2024-04-16T13:38:48.687330200Z",
     "start_time": "2024-04-16T13:38:48.352766900Z"
    }
   },
   "id": "cc889a70987910d3"
  },
  {
   "cell_type": "code",
   "execution_count": 28,
   "outputs": [],
   "source": [
    "kandy_mode_value = kandy_df[\"HCHO reading\"].fillna(method='bfill').fillna(method='ffill')\n",
    "kandy_df['HCHO reading'].fillna(kandy_mode_value, inplace=True)"
   ],
   "metadata": {
    "collapsed": false,
    "ExecuteTime": {
     "end_time": "2024-04-16T13:38:48.688330Z",
     "start_time": "2024-04-16T13:38:48.369766Z"
    }
   },
   "id": "3a80141012b00036"
  },
  {
   "cell_type": "code",
   "execution_count": 29,
   "outputs": [
    {
     "data": {
      "text/plain": "HCHO reading    0\nLocation        0\ndtype: int64"
     },
     "execution_count": 29,
     "metadata": {},
     "output_type": "execute_result"
    }
   ],
   "source": [
    "kandy_df.isnull().sum()"
   ],
   "metadata": {
    "collapsed": false,
    "ExecuteTime": {
     "end_time": "2024-04-16T13:38:48.690328400Z",
     "start_time": "2024-04-16T13:38:48.387763900Z"
    }
   },
   "id": "79dc476539aa50d5"
  },
  {
   "cell_type": "code",
   "execution_count": 30,
   "outputs": [
    {
     "data": {
      "text/plain": "HCHO reading    1085\nLocation           0\ndtype: int64"
     },
     "execution_count": 30,
     "metadata": {},
     "output_type": "execute_result"
    }
   ],
   "source": [
    "nuwaraEliya_df.isnull().sum()"
   ],
   "metadata": {
    "collapsed": false,
    "ExecuteTime": {
     "end_time": "2024-04-16T13:38:48.701328900Z",
     "start_time": "2024-04-16T13:38:48.401768Z"
    }
   },
   "id": "f0415daa69c593b8"
  },
  {
   "cell_type": "code",
   "execution_count": 31,
   "outputs": [],
   "source": [
    "nuwaraEliya_mode_value = nuwaraEliya_df[\"HCHO reading\"].fillna(method='bfill').fillna(method='ffill')\n",
    "nuwaraEliya_df['HCHO reading'].fillna(nuwaraEliya_mode_value, inplace = True)"
   ],
   "metadata": {
    "collapsed": false,
    "ExecuteTime": {
     "end_time": "2024-04-16T13:38:48.706330200Z",
     "start_time": "2024-04-16T13:38:48.416765300Z"
    }
   },
   "id": "2333ef5454e559cc"
  },
  {
   "cell_type": "code",
   "execution_count": 32,
   "outputs": [
    {
     "data": {
      "text/plain": "HCHO reading    0\nLocation        0\ndtype: int64"
     },
     "execution_count": 32,
     "metadata": {},
     "output_type": "execute_result"
    }
   ],
   "source": [
    "nuwaraEliya_df.isnull().sum()"
   ],
   "metadata": {
    "collapsed": false,
    "ExecuteTime": {
     "end_time": "2024-04-16T13:38:48.715329200Z",
     "start_time": "2024-04-16T13:38:48.432777500Z"
    }
   },
   "id": "87d84b917597f853"
  },
  {
   "cell_type": "code",
   "execution_count": 33,
   "outputs": [
    {
     "data": {
      "text/plain": "HCHO reading    695\nLocation          0\ndtype: int64"
     },
     "execution_count": 33,
     "metadata": {},
     "output_type": "execute_result"
    }
   ],
   "source": [
    "bibile_df.isnull().sum()"
   ],
   "metadata": {
    "collapsed": false,
    "ExecuteTime": {
     "end_time": "2024-04-16T13:38:48.717328900Z",
     "start_time": "2024-04-16T13:38:48.447282100Z"
    }
   },
   "id": "5b2be70a5709ee15"
  },
  {
   "cell_type": "code",
   "execution_count": 34,
   "outputs": [],
   "source": [
    "bibille_mode_value = bibile_df[\"HCHO reading\"].fillna(method='bfill').fillna(method='ffill')\n",
    "bibile_df['HCHO reading'].fillna(bibille_mode_value, inplace = True)"
   ],
   "metadata": {
    "collapsed": false,
    "ExecuteTime": {
     "end_time": "2024-04-16T13:38:48.721329200Z",
     "start_time": "2024-04-16T13:38:48.463288700Z"
    }
   },
   "id": "c443511a210e5212"
  },
  {
   "cell_type": "code",
   "execution_count": 35,
   "outputs": [
    {
     "data": {
      "text/plain": "HCHO reading    0\nLocation        0\ndtype: int64"
     },
     "execution_count": 35,
     "metadata": {},
     "output_type": "execute_result"
    }
   ],
   "source": [
    "bibile_df.isnull().sum()"
   ],
   "metadata": {
    "collapsed": false,
    "ExecuteTime": {
     "end_time": "2024-04-16T13:38:48.726330900Z",
     "start_time": "2024-04-16T13:38:48.479292200Z"
    }
   },
   "id": "fd8acdff2d682bb"
  },
  {
   "cell_type": "code",
   "execution_count": 36,
   "outputs": [
    {
     "data": {
      "text/plain": "HCHO reading    847\nLocation          0\ndtype: int64"
     },
     "execution_count": 36,
     "metadata": {},
     "output_type": "execute_result"
    }
   ],
   "source": [
    "deniyaya_df.isnull().sum()"
   ],
   "metadata": {
    "collapsed": false,
    "ExecuteTime": {
     "end_time": "2024-04-16T13:38:48.771856400Z",
     "start_time": "2024-04-16T13:38:48.495290100Z"
    }
   },
   "id": "5868b44d7ae12c8d"
  },
  {
   "cell_type": "code",
   "execution_count": 37,
   "outputs": [],
   "source": [
    "deniyaya_mode_value =deniyaya_df[\"HCHO reading\"].fillna(method='bfill').fillna(method='ffill')\n",
    "deniyaya_df[\"HCHO reading\"].fillna(deniyaya_mode_value, inplace = True)"
   ],
   "metadata": {
    "collapsed": false,
    "ExecuteTime": {
     "end_time": "2024-04-16T13:38:48.795858Z",
     "start_time": "2024-04-16T13:38:48.510289400Z"
    }
   },
   "id": "b9bc263d6c6c4ecb"
  },
  {
   "cell_type": "code",
   "execution_count": 38,
   "outputs": [
    {
     "data": {
      "text/plain": "HCHO reading    0\nLocation        0\ndtype: int64"
     },
     "execution_count": 38,
     "metadata": {},
     "output_type": "execute_result"
    }
   ],
   "source": [
    "deniyaya_df.isnull().sum()"
   ],
   "metadata": {
    "collapsed": false,
    "ExecuteTime": {
     "end_time": "2024-04-16T13:38:48.846863300Z",
     "start_time": "2024-04-16T13:38:48.526294900Z"
    }
   },
   "id": "97bfa19066f47ac5"
  },
  {
   "cell_type": "code",
   "execution_count": 39,
   "outputs": [
    {
     "data": {
      "text/plain": "HCHO reading    592\nLocation          0\ndtype: int64"
     },
     "execution_count": 39,
     "metadata": {},
     "output_type": "execute_result"
    }
   ],
   "source": [
    "kurunegala_df.isnull().sum()"
   ],
   "metadata": {
    "collapsed": false,
    "ExecuteTime": {
     "end_time": "2024-04-16T13:38:48.850919800Z",
     "start_time": "2024-04-16T13:38:48.542295700Z"
    }
   },
   "id": "aeaae5e4ed9950e8"
  },
  {
   "cell_type": "code",
   "execution_count": 40,
   "outputs": [],
   "source": [
    "kurunegala_mode_value =kurunegala_df[\"HCHO reading\"].fillna(method='bfill').fillna(method='ffill')\n",
    "kurunegala_df[\"HCHO reading\"].fillna(kurunegala_mode_value,inplace = True)"
   ],
   "metadata": {
    "collapsed": false,
    "ExecuteTime": {
     "end_time": "2024-04-16T13:38:48.884921800Z",
     "start_time": "2024-04-16T13:38:48.557811Z"
    }
   },
   "id": "ad9fa8c1f46927ae"
  },
  {
   "cell_type": "code",
   "execution_count": 41,
   "outputs": [
    {
     "data": {
      "text/plain": "HCHO reading    0\nLocation        0\ndtype: int64"
     },
     "execution_count": 41,
     "metadata": {},
     "output_type": "execute_result"
    }
   ],
   "source": [
    "kurunegala_df.isnull().sum()"
   ],
   "metadata": {
    "collapsed": false,
    "ExecuteTime": {
     "end_time": "2024-04-16T13:38:48.971318100Z",
     "start_time": "2024-04-16T13:38:48.572812900Z"
    }
   },
   "id": "e7381527010b044f"
  },
  {
   "cell_type": "code",
   "execution_count": 42,
   "outputs": [
    {
     "data": {
      "text/plain": "<Figure size 800x600 with 1 Axes>",
      "image/png": "[encoded data removed]"
     },
     "metadata": {},
     "output_type": "display_data"
    }
   ],
   "source": [
    "import matplotlib.pyplot as plt\n",
    "plt.figure(figsize=(8, 6))\n",
    "plt.boxplot(colombo_df['HCHO reading'])\n",
    "plt.title('Box plot of colombo reading')\n",
    "plt.xlabel('HCHO reading')\n",
    "plt.ylabel('Values')\n",
    "plt.show()"
   ],
   "metadata": {
    "collapsed": false,
    "ExecuteTime": {
     "end_time": "2024-04-16T13:38:49.454938800Z",
     "start_time": "2024-04-16T13:38:48.589813400Z"
    }
   },
   "id": "b7ff6461d241d03f"
  },
  {
   "cell_type": "code",
   "execution_count": 43,
   "outputs": [
    {
     "data": {
      "text/plain": "<Figure size 800x600 with 1 Axes>",
      "image/png": "[encoded data removed]"
     },
     "metadata": {},
     "output_type": "display_data"
    }
   ],
   "source": [
    "plt.figure(figsize=(8, 6))\n",
    "plt.boxplot(kandy_df['HCHO reading'])\n",
    "plt.title('Box plot of Kandy reading')\n",
    "plt.xlabel('HCHO reading')\n",
    "plt.ylabel('Values')\n",
    "plt.show()"
   ],
   "metadata": {
    "collapsed": false,
    "ExecuteTime": {
     "end_time": "2024-04-16T13:38:49.662652Z",
     "start_time": "2024-04-16T13:38:49.384430800Z"
    }
   },
   "id": "4b5111bf1f9fb304"
  },
  {
   "cell_type": "code",
   "execution_count": 44,
   "outputs": [
    {
     "data": {
      "text/plain": "<Figure size 800x600 with 1 Axes>",
      "image/png": "[encoded data removed]"
     },
     "metadata": {},
     "output_type": "display_data"
    }
   ],
   "source": [
    "plt.figure(figsize=(8, 6))\n",
    "plt.boxplot(deniyaya_df['HCHO reading'])\n",
    "plt.title('Box plot of Deniyaya reading')\n",
    "plt.xlabel('HCHO reading')\n",
    "plt.ylabel('Values')\n",
    "plt.show()"
   ],
   "metadata": {
    "collapsed": false,
    "ExecuteTime": {
     "end_time": "2024-04-16T13:38:49.706650900Z",
     "start_time": "2024-04-16T13:38:49.529937900Z"
    }
   },
   "id": "1968082e7033989"
  },
  {
   "cell_type": "code",
   "execution_count": 45,
   "outputs": [
    {
     "name": "stdout",
     "output_type": "stream",
     "text": [
      "Upper bound within the boxplot: 0.0002964527594232\n"
     ]
    }
   ],
   "source": [
    "# Upper Bound and lower bound of the Dataset\n",
    "# Calculate Q1, Q3, and IQR\n",
    "Q1 = deniyaya_df['HCHO reading'].quantile(0.25)\n",
    "Q3 = deniyaya_df['HCHO reading'].quantile(0.75)\n",
    "IQR = Q3 - Q1\n",
    "\n",
    "# Compute upper whisker and lower whisker value\n",
    "upper_whisker = Q3 + 1.5 * IQR\n",
    "lower_whisker = Q1 - 1.5 * IQR\n",
    "# Find the highest data point within the upper whisker range\n",
    "upper_bound_data = deniyaya_df['HCHO reading'][deniyaya_df['HCHO reading'] <= upper_whisker].max()\n",
    "\n",
    "print(\"Upper bound within the boxplot:\", upper_bound_data)"
   ],
   "metadata": {
    "collapsed": false,
    "ExecuteTime": {
     "end_time": "2024-04-16T13:38:49.708649900Z",
     "start_time": "2024-04-16T13:38:49.590125700Z"
    }
   },
   "id": "ed1821adb82cb939"
  },
  {
   "cell_type": "code",
   "execution_count": 46,
   "outputs": [],
   "source": [
    "deniyaya_df = deniyaya_df.drop(deniyaya_df[(deniyaya_df['HCHO reading'] >= 0.0005638530012409)].index)"
   ],
   "metadata": {
    "collapsed": false,
    "ExecuteTime": {
     "end_time": "2024-04-16T13:38:49.780169400Z",
     "start_time": "2024-04-16T13:38:49.605127200Z"
    }
   },
   "id": "43fd5592d1a4996f"
  },
  {
   "cell_type": "code",
   "execution_count": 47,
   "outputs": [
    {
     "data": {
      "text/plain": "<Figure size 800x600 with 1 Axes>",
      "image/png": "[encoded data removed]"
     },
     "metadata": {},
     "output_type": "display_data"
    }
   ],
   "source": [
    "plt.figure(figsize=(8, 6))\n",
    "plt.boxplot(deniyaya_df['HCHO reading'])\n",
    "plt.title('Box plot of Deniyaya reading')\n",
    "plt.xlabel('HCHO reading')\n",
    "plt.ylabel('Values')\n",
    "plt.show()"
   ],
   "metadata": {
    "collapsed": false,
    "ExecuteTime": {
     "end_time": "2024-04-16T13:38:49.833177Z",
     "start_time": "2024-04-16T13:38:49.618127800Z"
    }
   },
   "id": "931f084caa9485e3"
  },
  {
   "cell_type": "code",
   "execution_count": 48,
   "outputs": [
    {
     "data": {
      "text/plain": "<Figure size 800x600 with 1 Axes>",
      "image/png": "[encoded data removed]"
     },
     "metadata": {},
     "output_type": "display_data"
    }
   ],
   "source": [
    "plt.figure(figsize=(8, 6))\n",
    "plt.boxplot(kurunegala_df['HCHO reading'])\n",
    "plt.title('Box plot of Kurunegala reading')\n",
    "plt.xlabel('HCHO reading')\n",
    "plt.ylabel('Values')\n",
    "plt.show()"
   ],
   "metadata": {
    "collapsed": false,
    "ExecuteTime": {
     "end_time": "2024-04-16T13:38:49.909688700Z",
     "start_time": "2024-04-16T13:38:49.728649500Z"
    }
   },
   "id": "5d930f27fbfcd80"
  },
  {
   "cell_type": "code",
   "execution_count": 49,
   "outputs": [
    {
     "data": {
      "text/plain": "<Figure size 800x600 with 1 Axes>",
      "image/png": "[encoded data removed]"
     },
     "metadata": {},
     "output_type": "display_data"
    }
   ],
   "source": [
    "plt.figure(figsize=(8, 6))\n",
    "plt.boxplot(nuwaraEliya_df['HCHO reading'])\n",
    "plt.title('Box plot of NuwaraEliya reading')\n",
    "plt.xlabel('HCHO reading')\n",
    "plt.ylabel('Values')\n",
    "plt.show()"
   ],
   "metadata": {
    "collapsed": false,
    "ExecuteTime": {
     "end_time": "2024-04-16T13:38:49.932691600Z",
     "start_time": "2024-04-16T13:38:49.823170Z"
    }
   },
   "id": "6073b156e6707bb9"
  },
  {
   "cell_type": "code",
   "execution_count": 50,
   "outputs": [
    {
     "name": "stdout",
     "output_type": "stream",
     "text": [
      "Upper bound within the boxplot: 0.0002771661984116\n"
     ]
    }
   ],
   "source": [
    "# Upper Bound and lower bound of the Dataset\n",
    "# Calculate Q1, Q3, and IQR\n",
    "Q1 = nuwaraEliya_df['HCHO reading'].quantile(0.25)\n",
    "Q3 = nuwaraEliya_df['HCHO reading'].quantile(0.75)\n",
    "IQR = Q3 - Q1\n",
    "\n",
    "# Compute upper whisker and lower whisker value\n",
    "upper_whisker = Q3 + 1.5 * IQR\n",
    "lower_whisker = Q1 - 1.5 * IQR\n",
    "# Find the highest data point within the upper whisker range\n",
    "upper_bound_data = nuwaraEliya_df['HCHO reading'][nuwaraEliya_df['HCHO reading'] <= upper_whisker].max()\n",
    "\n",
    "\n",
    "print(\"Upper bound within the boxplot:\", upper_bound_data)"
   ],
   "metadata": {
    "collapsed": false,
    "ExecuteTime": {
     "end_time": "2024-04-16T13:38:50.055720200Z",
     "start_time": "2024-04-16T13:38:49.917696300Z"
    }
   },
   "id": "d35a1a2e76c54d7a"
  },
  {
   "cell_type": "code",
   "execution_count": 51,
   "outputs": [],
   "source": [
    "nuwaraEliya_df = nuwaraEliya_df.drop(nuwaraEliya_df[(nuwaraEliya_df['HCHO reading'] >= 0.0003689670671425)].index)"
   ],
   "metadata": {
    "collapsed": false,
    "ExecuteTime": {
     "end_time": "2024-04-16T13:38:50.072719300Z",
     "start_time": "2024-04-16T13:38:49.931686800Z"
    }
   },
   "id": "607c4dd1a51a5657"
  },
  {
   "cell_type": "code",
   "execution_count": 52,
   "outputs": [
    {
     "data": {
      "text/plain": "<Figure size 800x600 with 1 Axes>",
      "image/png": "[encoded data removed]"
     },
     "metadata": {},
     "output_type": "display_data"
    }
   ],
   "source": [
    "plt.figure(figsize=(8, 6))\n",
    "plt.boxplot(nuwaraEliya_df['HCHO reading'])\n",
    "plt.title('Box plot of NuwaraEliya reading')\n",
    "plt.xlabel('HCHO reading')\n",
    "plt.ylabel('Values')\n",
    "plt.show()"
   ],
   "metadata": {
    "collapsed": false,
    "ExecuteTime": {
     "end_time": "2024-04-16T13:38:50.096721200Z",
     "start_time": "2024-04-16T13:38:49.948205700Z"
    }
   },
   "id": "b57d7925c807db49"
  },
  {
   "cell_type": "code",
   "execution_count": 53,
   "outputs": [
    {
     "data": {
      "text/plain": "<Figure size 800x600 with 1 Axes>",
      "image/png": "[encoded data removed]"
     },
     "metadata": {},
     "output_type": "display_data"
    }
   ],
   "source": [
    "plt.figure(figsize=(8, 6))\n",
    "plt.boxplot(jaffna_df['HCHO reading'])\n",
    "plt.title('Box plot of Jaffna reading')\n",
    "plt.xlabel('HCHO reading')\n",
    "plt.ylabel('Values')\n",
    "plt.show()"
   ],
   "metadata": {
    "collapsed": false,
    "ExecuteTime": {
     "end_time": "2024-04-16T13:38:50.211232500Z",
     "start_time": "2024-04-16T13:38:50.043210500Z"
    }
   },
   "id": "7b27c99c168cabe9"
  },
  {
   "cell_type": "code",
   "execution_count": 54,
   "outputs": [
    {
     "name": "stdout",
     "output_type": "stream",
     "text": [
      "Upper bound within the boxplot: 0.0002729933174109\n",
      "Lower bound within the boxplot: -6.91114370543075e-05\n"
     ]
    }
   ],
   "source": [
    "# Upper Bound and lower bound of the Dataset\n",
    "# Calculate Q1, Q3, and IQR\n",
    "Q1 = jaffna_df['HCHO reading'].quantile(0.25)\n",
    "Q3 = jaffna_df['HCHO reading'].quantile(0.75)\n",
    "IQR = Q3 - Q1\n",
    "\n",
    "# Compute upper whisker and lower whisker value\n",
    "upper_whisker = Q3 + 1.5 * IQR\n",
    "lower_whisker = Q1 - 1.5 * IQR\n",
    "# Find the highest data point within the upper whisker range\n",
    "upper_bound_data = jaffna_df['HCHO reading'][jaffna_df['HCHO reading'] <= upper_whisker].max()\n",
    "# Find the lowest data point within the lower whisker range\n",
    "lower_bound_data = jaffna_df['HCHO reading'][jaffna_df['HCHO reading'] >= lower_whisker].min()\n",
    "\n",
    "print(\"Upper bound within the boxplot:\", upper_bound_data)\n",
    "print(\"Lower bound within the boxplot:\", lower_bound_data)"
   ],
   "metadata": {
    "collapsed": false,
    "ExecuteTime": {
     "end_time": "2024-04-16T13:38:50.213231900Z",
     "start_time": "2024-04-16T13:38:50.140727900Z"
    }
   },
   "id": "acff656e28dd84ca"
  },
  {
   "cell_type": "code",
   "execution_count": 55,
   "outputs": [],
   "source": [
    "jaffna_df = jaffna_df.drop(jaffna_df[(jaffna_df['HCHO reading'] >= 0.000307007082162)].index)\n",
    "jaffna_df = jaffna_df.drop(jaffna_df[(jaffna_df['HCHO reading'] <= -0.0001409249825353)].index)"
   ],
   "metadata": {
    "collapsed": false,
    "ExecuteTime": {
     "end_time": "2024-04-16T13:38:50.286744Z",
     "start_time": "2024-04-16T13:38:50.154231400Z"
    }
   },
   "id": "b7a5d5fab0a2a5e6"
  },
  {
   "cell_type": "code",
   "execution_count": 56,
   "outputs": [
    {
     "data": {
      "text/plain": "<Figure size 800x600 with 1 Axes>",
      "image/png": "[encoded data removed]"
     },
     "metadata": {},
     "output_type": "display_data"
    }
   ],
   "source": [
    "plt.figure(figsize=(8, 6))\n",
    "plt.boxplot(jaffna_df['HCHO reading'])\n",
    "plt.title('Box plot of Jaffna reading')\n",
    "plt.xlabel('HCHO reading')\n",
    "plt.ylabel('Values')\n",
    "plt.show()"
   ],
   "metadata": {
    "collapsed": false,
    "ExecuteTime": {
     "end_time": "2024-04-16T13:38:50.327742100Z",
     "start_time": "2024-04-16T13:38:50.170230700Z"
    }
   },
   "id": "21b1a6fde6e9ed08"
  },
  {
   "cell_type": "code",
   "execution_count": 57,
   "outputs": [
    {
     "data": {
      "text/plain": "<Figure size 800x600 with 1 Axes>",
      "image/png": "[encoded data removed]"
     },
     "metadata": {},
     "output_type": "display_data"
    }
   ],
   "source": [
    "plt.figure(figsize=(8, 6))\n",
    "plt.boxplot(bibile_df['HCHO reading'])\n",
    "plt.title('Box plot of Bible reading')\n",
    "plt.xlabel('HCHO reading')\n",
    "plt.ylabel('Values')\n",
    "plt.show()"
   ],
   "metadata": {
    "collapsed": false,
    "ExecuteTime": {
     "end_time": "2024-04-16T13:38:50.411257600Z",
     "start_time": "2024-04-16T13:38:50.274742300Z"
    }
   },
   "id": "acb065a1b3433d00"
  },
  {
   "cell_type": "code",
   "execution_count": 58,
   "outputs": [
    {
     "ename": "KeyError",
     "evalue": "'Next Date'",
     "output_type": "error",
     "traceback": [
      "\u001B[1;31m---------------------------------------------------------------------------\u001B[0m",
      "\u001B[1;31mKeyError\u001B[0m                                  Traceback (most recent call last)",
      "File \u001B[1;32m~\\AppData\\Local\\Programs\\Python\\Python38\\lib\\site-packages\\pandas\\core\\indexes\\base.py:3653\u001B[0m, in \u001B[0;36mIndex.get_loc\u001B[1;34m(self, key)\u001B[0m\n\u001B[0;32m   3652\u001B[0m \u001B[38;5;28;01mtry\u001B[39;00m:\n\u001B[1;32m-> 3653\u001B[0m     \u001B[38;5;28;01mreturn\u001B[39;00m \u001B[38;5;28;43mself\u001B[39;49m\u001B[38;5;241;43m.\u001B[39;49m\u001B[43m_engine\u001B[49m\u001B[38;5;241;43m.\u001B[39;49m\u001B[43mget_loc\u001B[49m\u001B[43m(\u001B[49m\u001B[43mcasted_key\u001B[49m\u001B[43m)\u001B[49m\n\u001B[0;32m   3654\u001B[0m \u001B[38;5;28;01mexcept\u001B[39;00m \u001B[38;5;167;01mKeyError\u001B[39;00m \u001B[38;5;28;01mas\u001B[39;00m err:\n",
      "File \u001B[1;32m~\\AppData\\Local\\Programs\\Python\\Python38\\lib\\site-packages\\pandas\\_libs\\index.pyx:147\u001B[0m, in \u001B[0;36mpandas._libs.index.IndexEngine.get_loc\u001B[1;34m()\u001B[0m\n",
      "File \u001B[1;32m~\\AppData\\Local\\Programs\\Python\\Python38\\lib\\site-packages\\pandas\\_libs\\index.pyx:176\u001B[0m, in \u001B[0;36mpandas._libs.index.IndexEngine.get_loc\u001B[1;34m()\u001B[0m\n",
      "File \u001B[1;32mpandas\\_libs\\hashtable_class_helper.pxi:7080\u001B[0m, in \u001B[0;36mpandas._libs.hashtable.PyObjectHashTable.get_item\u001B[1;34m()\u001B[0m\n",
      "File \u001B[1;32mpandas\\_libs\\hashtable_class_helper.pxi:7088\u001B[0m, in \u001B[0;36mpandas._libs.hashtable.PyObjectHashTable.get_item\u001B[1;34m()\u001B[0m\n",
      "\u001B[1;31mKeyError\u001B[0m: 'Next Date'",
      "\nThe above exception was the direct cause of the following exception:\n",
      "\u001B[1;31mKeyError\u001B[0m                                  Traceback (most recent call last)",
      "Cell \u001B[1;32mIn[58], line 1\u001B[0m\n\u001B[1;32m----> 1\u001B[0m \u001B[43mcolombo_df\u001B[49m\u001B[43m[\u001B[49m\u001B[38;5;124;43m\"\u001B[39;49m\u001B[38;5;124;43mNext Date\u001B[39;49m\u001B[38;5;124;43m\"\u001B[39;49m\u001B[43m]\u001B[49m\u001B[38;5;241m.\u001B[39mduplicated()\u001B[38;5;241m.\u001B[39msum()\n",
      "File \u001B[1;32m~\\AppData\\Local\\Programs\\Python\\Python38\\lib\\site-packages\\pandas\\core\\frame.py:3761\u001B[0m, in \u001B[0;36mDataFrame.__getitem__\u001B[1;34m(self, key)\u001B[0m\n\u001B[0;32m   3759\u001B[0m \u001B[38;5;28;01mif\u001B[39;00m \u001B[38;5;28mself\u001B[39m\u001B[38;5;241m.\u001B[39mcolumns\u001B[38;5;241m.\u001B[39mnlevels \u001B[38;5;241m>\u001B[39m \u001B[38;5;241m1\u001B[39m:\n\u001B[0;32m   3760\u001B[0m     \u001B[38;5;28;01mreturn\u001B[39;00m \u001B[38;5;28mself\u001B[39m\u001B[38;5;241m.\u001B[39m_getitem_multilevel(key)\n\u001B[1;32m-> 3761\u001B[0m indexer \u001B[38;5;241m=\u001B[39m \u001B[38;5;28;43mself\u001B[39;49m\u001B[38;5;241;43m.\u001B[39;49m\u001B[43mcolumns\u001B[49m\u001B[38;5;241;43m.\u001B[39;49m\u001B[43mget_loc\u001B[49m\u001B[43m(\u001B[49m\u001B[43mkey\u001B[49m\u001B[43m)\u001B[49m\n\u001B[0;32m   3762\u001B[0m \u001B[38;5;28;01mif\u001B[39;00m is_integer(indexer):\n\u001B[0;32m   3763\u001B[0m     indexer \u001B[38;5;241m=\u001B[39m [indexer]\n",
      "File \u001B[1;32m~\\AppData\\Local\\Programs\\Python\\Python38\\lib\\site-packages\\pandas\\core\\indexes\\base.py:3655\u001B[0m, in \u001B[0;36mIndex.get_loc\u001B[1;34m(self, key)\u001B[0m\n\u001B[0;32m   3653\u001B[0m     \u001B[38;5;28;01mreturn\u001B[39;00m \u001B[38;5;28mself\u001B[39m\u001B[38;5;241m.\u001B[39m_engine\u001B[38;5;241m.\u001B[39mget_loc(casted_key)\n\u001B[0;32m   3654\u001B[0m \u001B[38;5;28;01mexcept\u001B[39;00m \u001B[38;5;167;01mKeyError\u001B[39;00m \u001B[38;5;28;01mas\u001B[39;00m err:\n\u001B[1;32m-> 3655\u001B[0m     \u001B[38;5;28;01mraise\u001B[39;00m \u001B[38;5;167;01mKeyError\u001B[39;00m(key) \u001B[38;5;28;01mfrom\u001B[39;00m \u001B[38;5;21;01merr\u001B[39;00m\n\u001B[0;32m   3656\u001B[0m \u001B[38;5;28;01mexcept\u001B[39;00m \u001B[38;5;167;01mTypeError\u001B[39;00m:\n\u001B[0;32m   3657\u001B[0m     \u001B[38;5;66;03m# If we have a listlike key, _check_indexing_error will raise\u001B[39;00m\n\u001B[0;32m   3658\u001B[0m     \u001B[38;5;66;03m#  InvalidIndexError. Otherwise we fall through and re-raise\u001B[39;00m\n\u001B[0;32m   3659\u001B[0m     \u001B[38;5;66;03m#  the TypeError.\u001B[39;00m\n\u001B[0;32m   3660\u001B[0m     \u001B[38;5;28mself\u001B[39m\u001B[38;5;241m.\u001B[39m_check_indexing_error(key)\n",
      "\u001B[1;31mKeyError\u001B[0m: 'Next Date'"
     ]
    }
   ],
   "source": [
    "colombo_df[\"Next Date\"].duplicated().sum()"
   ],
   "metadata": {
    "collapsed": false,
    "ExecuteTime": {
     "end_time": "2024-04-16T13:38:51.118463200Z",
     "start_time": "2024-04-16T13:38:50.373256800Z"
    }
   },
   "id": "c4fc01adbee16ff4"
  },
  {
   "cell_type": "code",
   "execution_count": null,
   "outputs": [],
   "source": [
    "import pandas as pd\n",
    "from statsmodels.tsa.stattools import adfuller"
   ],
   "metadata": {
    "collapsed": false,
    "ExecuteTime": {
     "start_time": "2024-04-16T13:38:51.097463700Z"
    }
   },
   "id": "ba89232a64242259"
  },
  {
   "cell_type": "code",
   "execution_count": null,
   "outputs": [],
   "source": [
    "result = adfuller(colombo_df['HCHO reading'])\n",
    "print('ADF Statistic: %f' % result[0])\n",
    "print('p-value: %f' % result[1])\n",
    "for key, value in result[4].items():\n",
    " print('\\t%s: %.3f' % (key, value))\n",
    "if result[1] <= 0.05:\n",
    "    print(\"The dataframe is stationary\")"
   ],
   "metadata": {
    "collapsed": false,
    "ExecuteTime": {
     "start_time": "2024-04-16T13:38:51.099463500Z"
    }
   },
   "id": "58d19bc8a0f813f7"
  },
  {
   "cell_type": "code",
   "execution_count": null,
   "outputs": [],
   "source": [
    "result = adfuller(kandy_df['HCHO reading'])\n",
    "print('ADF Statistic: %f' % result[0])\n",
    "print('p-value: %f' % result[1])\n",
    "for key, value in result[4].items():\n",
    " print('\\t%s: %.3f' % (key, value))\n",
    "if result[1] <= 0.05:\n",
    "    print(\"The dataframe is stationary\")"
   ],
   "metadata": {
    "collapsed": false,
    "ExecuteTime": {
     "start_time": "2024-04-16T13:38:51.101473100Z"
    }
   },
   "id": "5b39a52b86f15a52"
  },
  {
   "cell_type": "code",
   "execution_count": null,
   "outputs": [],
   "source": [
    "result = adfuller(bibile_df['HCHO reading'])\n",
    "print('ADF Statistic: %f' % result[0])\n",
    "print('p-value: %f' % result[1])\n",
    "for key, value in result[4].items():\n",
    " print('\\t%s: %.3f' % (key, value))\n",
    "print (result[1])\n",
    "if result[1] <= 0.05:\n",
    "    print(\"The dataframe is stationary\")"
   ],
   "metadata": {
    "collapsed": false,
    "ExecuteTime": {
     "start_time": "2024-04-16T13:38:51.103463700Z"
    }
   },
   "id": "c9a84e7cf8ee50b2"
  },
  {
   "cell_type": "code",
   "execution_count": null,
   "outputs": [],
   "source": [
    "result = adfuller(kurunegala_df['HCHO reading'])\n",
    "print('ADF Statistic: %f' % result[0])\n",
    "print('p-value: %f' % result[1])\n",
    "for key, value in result[4].items():\n",
    " print('\\t%s: %.3f' % (key, value))\n",
    "print (result[1])\n",
    "if result[1] <= 0.05:\n",
    "    print(\"the The dataframe is stationary\")\n",
    "    "
   ],
   "metadata": {
    "collapsed": false,
    "ExecuteTime": {
     "start_time": "2024-04-16T13:38:51.104462100Z"
    }
   },
   "id": "61a170ca0d6b0db1"
  },
  {
   "cell_type": "code",
   "execution_count": null,
   "outputs": [],
   "source": [
    "result = adfuller(jaffna_df['HCHO reading'])\n",
    "print('ADF Statistic: %f' % result[0])\n",
    "print('p-value: %f' % result[1])\n",
    "for key, value in result[4].items():\n",
    " print('\\t%s: %.3f' % (key, value))\n",
    "print (result[1])\n",
    "if result[1] <= 0.05:\n",
    "    print(\"The dataframe is stationary\")"
   ],
   "metadata": {
    "collapsed": false,
    "ExecuteTime": {
     "start_time": "2024-04-16T13:38:51.105463100Z"
    }
   },
   "id": "8625afd8d5d52951"
  },
  {
   "cell_type": "code",
   "execution_count": null,
   "outputs": [],
   "source": [
    "result = adfuller(nuwaraEliya_df['HCHO reading'])\n",
    "print('ADF Statistic: %f' % result[0])\n",
    "print('p-value: %f' % result[1])\n",
    "for key, value in result[4].items():\n",
    " print('\\t%s: %.3f' % (key, value))\n",
    "print (result[1])\n",
    "if result[1] <= 0.05:\n",
    "    print(\"The dataframe is stationary\")"
   ],
   "metadata": {
    "collapsed": false,
    "ExecuteTime": {
     "start_time": "2024-04-16T13:38:51.107463700Z"
    }
   },
   "id": "73ba37f0e531a499"
  },
  {
   "cell_type": "code",
   "execution_count": null,
   "outputs": [],
   "source": [
    "result = adfuller(deniyaya_df['HCHO reading'])\n",
    "print('ADF Statistic: %f' % result[0])\n",
    "print('p-value: %f' % result[1])\n",
    "for key, value in result[4].items():\n",
    " print('\\t%s: %.3f' % (key, value))\n",
    "print (result[1])\n",
    "if result[1] <= 0.05:\n",
    "    print(\"The dataframe is stationary\")"
   ],
   "metadata": {
    "collapsed": false,
    "ExecuteTime": {
     "start_time": "2024-04-16T13:38:51.108464700Z"
    }
   },
   "id": "d8df2065ca6caf37"
  },
  {
   "cell_type": "code",
   "execution_count": null,
   "outputs": [],
   "source": [
    "from statsmodels.tsa.arima.model import ARIMA\n",
    "from sklearn.metrics import mean_squared_error, mean_absolute_percentage_error\n"
   ],
   "metadata": {
    "collapsed": false,
    "ExecuteTime": {
     "start_time": "2024-04-16T13:38:51.110463900Z"
    }
   },
   "id": "a0c94066e72059e1"
  },
  {
   "cell_type": "code",
   "execution_count": null,
   "outputs": [],
   "source": [
    "# Split data into training and testing sets (adjust split ratio as needed)\n",
    "split_ratio = 0.8\n",
    "train_size = int(len(colombo_df) * split_ratio)\n",
    "train_data, test_data = colombo_df[0:train_size], colombo_df[train_size:]\n",
    "\n",
    "# Define and fit the ARIMA model on training data\n",
    "model = ARIMA(train_data[\"HCHO reading\"], order=(1, 1, 1))  # Adjust order as needed\n",
    "model_fit = model.fit()\n",
    "\n",
    "# Forecast for test data\n",
    "forecast = model_fit.forecast(steps=len(test_data))\n",
    "\n",
    "# Calculate evaluation metrics on test data\n",
    "rmse = mean_squared_error(test_data[\"HCHO reading\"], forecast, squared=False)  # Root Mean Squared Error\n",
    "mse = mean_squared_error(test_data[\"HCHO reading\"], forecast)  # Mean Squared Error\n",
    "mape = mean_absolute_percentage_error(test_data[\"HCHO reading\"], forecast) * 100  # Mean Absolute Percentage Error\n",
    "\n",
    "# Print the evaluation metrics\n",
    "print(\"RMSE:\", rmse)\n",
    "print(\"MSE:\", mse)\n",
    "print(\"MAPE:\", mape)"
   ],
   "metadata": {
    "collapsed": false,
    "ExecuteTime": {
     "start_time": "2024-04-16T13:38:51.113464500Z"
    }
   },
   "id": "35b4e58f5c9b92d3"
  },
  {
   "cell_type": "code",
   "execution_count": null,
   "outputs": [],
   "source": [
    "# Split data into training and testing sets (adjust split ratio as needed)\n",
    "split_ratio = 0.8\n",
    "train_size = int(len(nuwaraEliya_df) * split_ratio)\n",
    "train_data, test_data = nuwaraEliya_df[0:train_size], nuwaraEliya_df[train_size:]\n",
    "\n",
    "# Define and fit the ARIMA model on training data\n",
    "model = ARIMA(train_data[\"HCHO reading\"], order=(1, 1, 1))  # Adjust order as needed\n",
    "model_fit = model.fit()\n",
    "\n",
    "# Forecast for test data\n",
    "forecast = model_fit.forecast(steps=len(test_data))\n",
    "\n",
    "# Calculate evaluation metrics on test data\n",
    "rmse = mean_squared_error(test_data[\"HCHO reading\"], forecast, squared=False)  # Root Mean Squared Error\n",
    "mse = mean_squared_error(test_data[\"HCHO reading\"], forecast)  # Mean Squared Error\n",
    "mape = mean_absolute_percentage_error(test_data[\"HCHO reading\"], forecast) * 100  # Mean Absolute Percentage Error\n",
    "\n",
    "# Print the evaluation metrics\n",
    "print(\"RMSE:\", rmse)\n",
    "print(\"MSE:\", mse)\n",
    "print(\"MAPE:\", mape)"
   ],
   "metadata": {
    "collapsed": false,
    "ExecuteTime": {
     "start_time": "2024-04-16T13:38:51.115463Z"
    }
   },
   "id": "7ee0ac01949c6e"
  },
  {
   "cell_type": "code",
   "execution_count": null,
   "outputs": [],
   "source": [
    "# Split data into training and testing sets (adjust split ratio as needed)\n",
    "split_ratio = 0.8\n",
    "train_size = int(len(deniyaya_df) * split_ratio)\n",
    "train_data, test_data = deniyaya_df[0:train_size], deniyaya_df[train_size:]\n",
    "\n",
    "# Define and fit the ARIMA model on training data\n",
    "model = ARIMA(train_data[\"HCHO reading\"], order=(1, 1, 1))  # Adjust order as needed\n",
    "model_fit = model.fit()\n",
    "\n",
    "# Forecast for test data\n",
    "forecast = model_fit.forecast(steps=len(test_data))\n",
    "\n",
    "# Calculate evaluation metrics on test data\n",
    "rmse = mean_squared_error(test_data[\"HCHO reading\"], forecast, squared=False)  # Root Mean Squared Error\n",
    "mse = mean_squared_error(test_data[\"HCHO reading\"], forecast)  # Mean Squared Error\n",
    "mape = mean_absolute_percentage_error(test_data[\"HCHO reading\"], forecast) * 100  # Mean Absolute Percentage Error\n",
    "\n",
    "# Print the evaluation metrics\n",
    "print(\"RMSE:\", rmse)\n",
    "print(\"MSE:\", mse)\n",
    "print(\"MAPE:\", mape)"
   ],
   "metadata": {
    "collapsed": false,
    "ExecuteTime": {
     "start_time": "2024-04-16T13:38:51.116462300Z"
    }
   },
   "id": "665a4a6e7afa2a0c"
  },
  {
   "cell_type": "code",
   "execution_count": null,
   "outputs": [],
   "source": [
    "# Split data into training and testing sets\n",
    "train_size = int(len(kandy_df) * 0.8)\n",
    "train_data, test_data = kandy_df[0:train_size], kandy_df[train_size:]\n",
    "\n",
    "# Define ARIMA model \n",
    "model = ARIMA(train_data['HCHO reading'], order=(1, 1, 0))\n",
    "model_fit = model.fit()\n",
    "\n",
    "forecast = model_fit.predict(end = 1800)\n",
    "print(model_fit.summary())\n",
    "\n",
    "kandy_df[\"HCHO reading\"].plot()\n",
    "forecast.plot()\n",
    "forecast"
   ],
   "metadata": {
    "collapsed": false,
    "ExecuteTime": {
     "start_time": "2024-04-16T13:38:51.117463600Z"
    }
   },
   "id": "f4e2de46b01951e0"
  },
  {
   "cell_type": "code",
   "execution_count": null,
   "outputs": [],
   "source": [
    "# from statsmodels.tsa.statespace.sarimax import SARIMAX\n",
    "# import numpy as np\n",
    "# \n",
    "# # Fit the SARIMA model\n",
    "# sarima_model = SARIMAX(colombo_df, order=(1, 1, 1), seasonal_order=(1, 1, 1, 12))\n",
    "# sarima_result = sarima_model.fit()\n",
    "# \n",
    "# # Visualization\n",
    "# plt.plot(colombo_df, label='Actual Data')\n",
    "# plt.plot(np.arange(len(colombo_df), len(colombo_df) + forecast_steps), forecast, label='Forecast')\n",
    "# plt.legend()\n",
    "# plt.show()"
   ],
   "metadata": {
    "collapsed": false,
    "ExecuteTime": {
     "end_time": "2024-04-16T13:38:51.138469200Z",
     "start_time": "2024-04-16T13:38:51.119464100Z"
    }
   },
   "id": "37a08a71349ad34e"
  },
  {
   "cell_type": "code",
   "execution_count": null,
   "outputs": [],
   "source": [
    "from statsmodels.tsa.statespace.sarimax import SARIMAX\n",
    "# Split data into training and testing sets\n",
    "train_size = int(len(colombo_df) * 0.8)\n",
    "train_data, test_data = colombo_df[0:train_size], colombo_df[train_size:]\n",
    "\n",
    "# Define ARIMA model \n",
    "model = SARIMAX(train_data['HCHO reading'], order=(1, 1, 0))\n",
    "model_fit = sarima_model.fit()\n",
    "\n",
    "forecast = model_fit.predict(end = 1800)\n",
    "print(model_fit.summary())\n",
    "\n",
    "colombo_df[\"HCHO reading\"].plot()\n",
    "forecast.plot()\n",
    "forecast"
   ],
   "metadata": {
    "collapsed": false,
    "ExecuteTime": {
     "start_time": "2024-04-16T13:38:51.120462900Z"
    }
   },
   "id": "c5f99ad867d0822a"
  },
  {
   "cell_type": "code",
   "execution_count": null,
   "outputs": [],
   "source": [
    "# Split data into training and testing sets\n",
    "train_size = int(len(bibile_df) * 0.8)\n",
    "train_data, test_data = bibile_df[0:train_size], bibile_df[train_size:]\n",
    "\n",
    "# Define ARIMA model \n",
    "model = ARIMA(train_data['HCHO reading'], order=(1, 1, 0))\n",
    "model_fit = model.fit()\n",
    "\n",
    "forecast = model_fit.predict(start= 0)\n",
    "print(model_fit.summary())\n",
    "\n",
    "bibile_df[\"HCHO reading\"].plot()\n",
    "forecast.plot()\n",
    "forecast"
   ],
   "metadata": {
    "collapsed": false,
    "ExecuteTime": {
     "start_time": "2024-04-16T13:38:51.121463700Z"
    }
   },
   "id": "7abebd40921fddbe"
  },
  {
   "cell_type": "code",
   "execution_count": null,
   "outputs": [],
   "source": [
    "# Split data into training and testing sets\n",
    "train_size = int(len(nuwaraEliya_df) * 0.8)\n",
    "train_data, test_data = nuwaraEliya_df[0:train_size], nuwaraEliya_df[train_size:]\n",
    "\n",
    "# Define ARIMA model \n",
    "model = ARIMA(train_data['HCHO reading'], order=(1, 1, 0))\n",
    "model_fit = model.fit()\n",
    "\n",
    "forecast = model_fit.predict(start= 0)\n",
    "print(model_fit.summary())\n",
    "\n",
    "nuwaraEliya_df[\"HCHO reading\"].plot()\n",
    "forecast.plot()\n",
    "forecast"
   ],
   "metadata": {
    "collapsed": false,
    "ExecuteTime": {
     "start_time": "2024-04-16T13:38:51.122462800Z"
    }
   },
   "id": "39e2bab72250a157"
  },
  {
   "cell_type": "code",
   "execution_count": null,
   "outputs": [],
   "source": [
    "# Split data into training and testing sets\n",
    "train_size = int(len(deniyaya_df) * 0.8)\n",
    "train_data, test_data = deniyaya_df[0:train_size], deniyaya_df[train_size:]\n",
    "\n",
    "# Define ARIMA model \n",
    "model = ARIMA(train_data['HCHO reading'], order=(1, 1, 0))\n",
    "model_fit = model.fit()\n",
    "\n",
    "forecast = model_fit.predict(start = 0)\n",
    "print(model_fit.summary())\n",
    "\n",
    "a = deniyaya_df[\"HCHO reading\"]\n",
    "a.plot()\n",
    "forecast.plot()\n",
    "forecast"
   ],
   "metadata": {
    "collapsed": false,
    "ExecuteTime": {
     "start_time": "2024-04-16T13:38:51.123462200Z"
    }
   },
   "id": "402e26119308f9c8"
  },
  {
   "cell_type": "code",
   "execution_count": null,
   "outputs": [],
   "source": [
    "deniyaya_df"
   ],
   "metadata": {
    "collapsed": false,
    "ExecuteTime": {
     "start_time": "2024-04-16T13:38:51.124461800Z"
    }
   },
   "id": "37cff982ba2fea15"
  },
  {
   "cell_type": "code",
   "execution_count": null,
   "outputs": [],
   "source": [
    "# Split data into training and testing sets\n",
    "train_size = int(len(kurunegala_df) * 0.8)\n",
    "train_data, test_data = kurunegala_df[0:train_size], kurunegala_df[train_size:]\n",
    "\n",
    "# Define ARIMA model \n",
    "model = ARIMA(train_data['HCHO reading'], order=(1, 1, 0))\n",
    "model_fit = model.fit()\n",
    "\n",
    "forecast = model_fit.predict(end = 1850)\n",
    "print(model_fit.summary())\n",
    "\n",
    "kurunegala_df[\"HCHO reading\"].plot()\n",
    "forecast.plot()\n",
    "forecast"
   ],
   "metadata": {
    "collapsed": false,
    "ExecuteTime": {
     "start_time": "2024-04-16T13:38:51.125464300Z"
    }
   },
   "id": "6f863a5153eefd3d"
  },
  {
   "cell_type": "code",
   "execution_count": null,
   "outputs": [],
   "source": [
    "kurunegala_df"
   ],
   "metadata": {
    "collapsed": false,
    "ExecuteTime": {
     "start_time": "2024-04-16T13:38:51.126463200Z"
    }
   },
   "id": "2fd3bb594f20ac70"
  },
  {
   "cell_type": "code",
   "execution_count": null,
   "outputs": [],
   "source": [
    "jaffna_df.shape"
   ],
   "metadata": {
    "collapsed": false,
    "ExecuteTime": {
     "start_time": "2024-04-16T13:38:51.127462900Z"
    }
   },
   "id": "703f82a9babafd64"
  },
  {
   "cell_type": "code",
   "execution_count": null,
   "outputs": [],
   "source": [
    "# Split data into training and testing sets\n",
    "train_size = int(len(jaffna_df) * 0.8)\n",
    "train_data, test_data = jaffna_df[0:train_size], jaffna_df[train_size:]\n",
    "\n",
    "# Define ARIMA model \n",
    "model = ARIMA(train_data['HCHO reading'], order=(1, 1, 0))\n",
    "model_fit = model.fit()\n",
    "\n",
    "forecast = model_fit.predict(start= 0, end= 1810)\n",
    "print(model_fit.summary())\n",
    "\n",
    "# jaffna_df[\"HCHO reading\"].plot()\n",
    "jaffna_df[\"HCHO reading\"].plot()\n",
    "forecast.plot()\n",
    "forecast"
   ],
   "metadata": {
    "collapsed": false,
    "ExecuteTime": {
     "start_time": "2024-04-16T13:38:51.128463300Z"
    }
   },
   "id": "97f794fd15232155"
  },
  {
   "cell_type": "code",
   "execution_count": null,
   "outputs": [],
   "source": [
    "forecast.shape"
   ],
   "metadata": {
    "collapsed": false,
    "ExecuteTime": {
     "start_time": "2024-04-16T13:38:51.129464300Z"
    }
   },
   "id": "f83b3b8c10390cd8"
  },
  {
   "cell_type": "code",
   "execution_count": null,
   "outputs": [],
   "source": [],
   "metadata": {
    "collapsed": false,
    "ExecuteTime": {
     "start_time": "2024-04-16T13:38:51.130463100Z"
    }
   },
   "id": "5a3d8eacf5603ac0"
  },
  {
   "cell_type": "code",
   "execution_count": null,
   "outputs": [],
   "source": [],
   "metadata": {
    "collapsed": false,
    "ExecuteTime": {
     "start_time": "2024-04-16T13:38:51.131465100Z"
    }
   },
   "id": "796be8338f134a9a"
  }
 ],
 "metadata": {
  "kernelspec": {
   "display_name": "Python 3",
   "language": "python",
   "name": "python3"
  },
  "language_info": {
   "codemirror_mode": {
    "name": "ipython",
    "version": 2
   },
   "file_extension": ".py",
   "mimetype": "text/x-python",
   "name": "python",
   "nbconvert_exporter": "python",
   "pygments_lexer": "ipython2",
   "version": "2.7.6"
  }
 },
 "nbformat": 4,
 "nbformat_minor": 5
}
