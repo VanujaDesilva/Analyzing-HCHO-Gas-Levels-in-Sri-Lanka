{
 "cells": [
  {
   "cell_type": "markdown",
   "source": [
    "# Data Pre Processing "
   ],
   "metadata": {
    "collapsed": false
   },
   "id": "e5cb4d654d52022f"
  },
  {
   "cell_type": "code",
   "execution_count": 18,
   "outputs": [],
   "source": [
    "import pandas as pd"
   ],
   "metadata": {
    "collapsed": false,
    "ExecuteTime": {
     "end_time": "2024-04-12T09:01:02.263473500Z",
     "start_time": "2024-04-12T09:01:02.220983500Z"
    }
   },
   "id": "cf469a685ad3607a"
  },
  {
   "cell_type": "code",
   "execution_count": 19,
   "id": "initial_id",
   "metadata": {
    "collapsed": true,
    "ExecuteTime": {
     "end_time": "2024-04-12T09:01:02.287709300Z",
     "start_time": "2024-04-12T09:01:02.239428700Z"
    }
   },
   "outputs": [
    {
     "data": {
      "text/plain": "             0               1           2           3\n0     0.000197  Colombo Proper  2019-01-01  2019-01-02\n1     0.000263  Colombo Proper  2019-01-02  2019-01-03\n2     0.000099  Colombo Proper  2019-01-03  2019-01-04\n3     0.000210  Colombo Proper  2019-01-04  2019-01-05\n4     0.000179  Colombo Proper  2019-01-05  2019-01-06\n...        ...             ...         ...         ...\n5473       NaN   Jaffna Proper  2023-12-27  2023-12-28\n5474  0.000051   Jaffna Proper  2023-12-28  2023-12-29\n5475  0.000127   Jaffna Proper  2023-12-29  2023-12-30\n5476  0.000117   Jaffna Proper  2023-12-30  2023-12-31\n5477  0.000065   Jaffna Proper  2023-12-31  2024-01-01\n\n[12782 rows x 4 columns]",
      "text/html": "<div>\n<style scoped>\n    .dataframe tbody tr th:only-of-type {\n        vertical-align: middle;\n    }\n\n    .dataframe tbody tr th {\n        vertical-align: top;\n    }\n\n    .dataframe thead th {\n        text-align: right;\n    }\n</style>\n<table border=\"1\" class=\"dataframe\">\n  <thead>\n    <tr style=\"text-align: right;\">\n      <th></th>\n      <th>0</th>\n      <th>1</th>\n      <th>2</th>\n      <th>3</th>\n    </tr>\n  </thead>\n  <tbody>\n    <tr>\n      <th>0</th>\n      <td>0.000197</td>\n      <td>Colombo Proper</td>\n      <td>2019-01-01</td>\n      <td>2019-01-02</td>\n    </tr>\n    <tr>\n      <th>1</th>\n      <td>0.000263</td>\n      <td>Colombo Proper</td>\n      <td>2019-01-02</td>\n      <td>2019-01-03</td>\n    </tr>\n    <tr>\n      <th>2</th>\n      <td>0.000099</td>\n      <td>Colombo Proper</td>\n      <td>2019-01-03</td>\n      <td>2019-01-04</td>\n    </tr>\n    <tr>\n      <th>3</th>\n      <td>0.000210</td>\n      <td>Colombo Proper</td>\n      <td>2019-01-04</td>\n      <td>2019-01-05</td>\n    </tr>\n    <tr>\n      <th>4</th>\n      <td>0.000179</td>\n      <td>Colombo Proper</td>\n      <td>2019-01-05</td>\n      <td>2019-01-06</td>\n    </tr>\n    <tr>\n      <th>...</th>\n      <td>...</td>\n      <td>...</td>\n      <td>...</td>\n      <td>...</td>\n    </tr>\n    <tr>\n      <th>5473</th>\n      <td>NaN</td>\n      <td>Jaffna Proper</td>\n      <td>2023-12-27</td>\n      <td>2023-12-28</td>\n    </tr>\n    <tr>\n      <th>5474</th>\n      <td>0.000051</td>\n      <td>Jaffna Proper</td>\n      <td>2023-12-28</td>\n      <td>2023-12-29</td>\n    </tr>\n    <tr>\n      <th>5475</th>\n      <td>0.000127</td>\n      <td>Jaffna Proper</td>\n      <td>2023-12-29</td>\n      <td>2023-12-30</td>\n    </tr>\n    <tr>\n      <th>5476</th>\n      <td>0.000117</td>\n      <td>Jaffna Proper</td>\n      <td>2023-12-30</td>\n      <td>2023-12-31</td>\n    </tr>\n    <tr>\n      <th>5477</th>\n      <td>0.000065</td>\n      <td>Jaffna Proper</td>\n      <td>2023-12-31</td>\n      <td>2024-01-01</td>\n    </tr>\n  </tbody>\n</table>\n<p>12782 rows × 4 columns</p>\n</div>"
     },
     "execution_count": 19,
     "metadata": {},
     "output_type": "execute_result"
    }
   ],
   "source": [
    "#read data from data set \n",
    "data1 = pd.read_csv(\"DataSets/col_mat_nuw_output.csv\",header = None)\n",
    "data2 = pd.read_csv(\"DataSets/kan_output.csv\", header=None)\n",
    "data3 = pd.read_csv(\"DataSets/mon_kur_jaf_output.csv\", header=None)\n",
    "data = pd.concat([data1,data2,data3])\n",
    "data"
   ]
  },
  {
   "cell_type": "code",
   "execution_count": 20,
   "outputs": [],
   "source": [
    "data.columns = [\"HCHO reading\", \"Location\", \"Current Date\", \"Next Date\"]"
   ],
   "metadata": {
    "collapsed": false,
    "ExecuteTime": {
     "end_time": "2024-04-12T09:01:02.307300600Z",
     "start_time": "2024-04-12T09:01:02.286699700Z"
    }
   },
   "id": "e33bebd4fe05ae7d"
  },
  {
   "cell_type": "code",
   "execution_count": 21,
   "outputs": [
    {
     "data": {
      "text/plain": "      HCHO reading        Location Current Date   Next Date\n0         0.000197  Colombo Proper   2019-01-01  2019-01-02\n1         0.000263  Colombo Proper   2019-01-02  2019-01-03\n2         0.000099  Colombo Proper   2019-01-03  2019-01-04\n3         0.000210  Colombo Proper   2019-01-04  2019-01-05\n4         0.000179  Colombo Proper   2019-01-05  2019-01-06\n...            ...             ...          ...         ...\n5473           NaN   Jaffna Proper   2023-12-27  2023-12-28\n5474      0.000051   Jaffna Proper   2023-12-28  2023-12-29\n5475      0.000127   Jaffna Proper   2023-12-29  2023-12-30\n5476      0.000117   Jaffna Proper   2023-12-30  2023-12-31\n5477      0.000065   Jaffna Proper   2023-12-31  2024-01-01\n\n[12782 rows x 4 columns]",
      "text/html": "<div>\n<style scoped>\n    .dataframe tbody tr th:only-of-type {\n        vertical-align: middle;\n    }\n\n    .dataframe tbody tr th {\n        vertical-align: top;\n    }\n\n    .dataframe thead th {\n        text-align: right;\n    }\n</style>\n<table border=\"1\" class=\"dataframe\">\n  <thead>\n    <tr style=\"text-align: right;\">\n      <th></th>\n      <th>HCHO reading</th>\n      <th>Location</th>\n      <th>Current Date</th>\n      <th>Next Date</th>\n    </tr>\n  </thead>\n  <tbody>\n    <tr>\n      <th>0</th>\n      <td>0.000197</td>\n      <td>Colombo Proper</td>\n      <td>2019-01-01</td>\n      <td>2019-01-02</td>\n    </tr>\n    <tr>\n      <th>1</th>\n      <td>0.000263</td>\n      <td>Colombo Proper</td>\n      <td>2019-01-02</td>\n      <td>2019-01-03</td>\n    </tr>\n    <tr>\n      <th>2</th>\n      <td>0.000099</td>\n      <td>Colombo Proper</td>\n      <td>2019-01-03</td>\n      <td>2019-01-04</td>\n    </tr>\n    <tr>\n      <th>3</th>\n      <td>0.000210</td>\n      <td>Colombo Proper</td>\n      <td>2019-01-04</td>\n      <td>2019-01-05</td>\n    </tr>\n    <tr>\n      <th>4</th>\n      <td>0.000179</td>\n      <td>Colombo Proper</td>\n      <td>2019-01-05</td>\n      <td>2019-01-06</td>\n    </tr>\n    <tr>\n      <th>...</th>\n      <td>...</td>\n      <td>...</td>\n      <td>...</td>\n      <td>...</td>\n    </tr>\n    <tr>\n      <th>5473</th>\n      <td>NaN</td>\n      <td>Jaffna Proper</td>\n      <td>2023-12-27</td>\n      <td>2023-12-28</td>\n    </tr>\n    <tr>\n      <th>5474</th>\n      <td>0.000051</td>\n      <td>Jaffna Proper</td>\n      <td>2023-12-28</td>\n      <td>2023-12-29</td>\n    </tr>\n    <tr>\n      <th>5475</th>\n      <td>0.000127</td>\n      <td>Jaffna Proper</td>\n      <td>2023-12-29</td>\n      <td>2023-12-30</td>\n    </tr>\n    <tr>\n      <th>5476</th>\n      <td>0.000117</td>\n      <td>Jaffna Proper</td>\n      <td>2023-12-30</td>\n      <td>2023-12-31</td>\n    </tr>\n    <tr>\n      <th>5477</th>\n      <td>0.000065</td>\n      <td>Jaffna Proper</td>\n      <td>2023-12-31</td>\n      <td>2024-01-01</td>\n    </tr>\n  </tbody>\n</table>\n<p>12782 rows × 4 columns</p>\n</div>"
     },
     "execution_count": 21,
     "metadata": {},
     "output_type": "execute_result"
    }
   ],
   "source": [
    "data"
   ],
   "metadata": {
    "collapsed": false,
    "ExecuteTime": {
     "end_time": "2024-04-12T09:01:02.359305500Z",
     "start_time": "2024-04-12T09:01:02.302719400Z"
    }
   },
   "id": "b4fe2e72ec2b40dd"
  },
  {
   "cell_type": "code",
   "execution_count": 27,
   "outputs": [
    {
     "name": "stdout",
     "output_type": "stream",
     "text": [
      "HCHO reading\n",
      "Location\n",
      "Current Date\n",
      "Next Date\n"
     ]
    }
   ],
   "source": [
    "for column in data:\n",
    "    \n",
    "    "
   ],
   "metadata": {
    "collapsed": false,
    "ExecuteTime": {
     "end_time": "2024-04-12T09:03:03.967320700Z",
     "start_time": "2024-04-12T09:03:03.950126700Z"
    }
   },
   "id": "18cf1d639443aea3"
  },
  {
   "cell_type": "code",
   "execution_count": 22,
   "outputs": [
    {
     "data": {
      "text/plain": "             0                    1           2           3\n0     0.000197       Colombo Proper  2019-01-01  2019-01-02\n1     0.000263       Colombo Proper  2019-01-02  2019-01-03\n2     0.000099       Colombo Proper  2019-01-03  2019-01-04\n3     0.000210       Colombo Proper  2019-01-04  2019-01-05\n4     0.000179       Colombo Proper  2019-01-05  2019-01-06\n...        ...                  ...         ...         ...\n5473       NaN  Nuwara Eliya Proper  2023-12-27  2023-12-28\n5474       NaN  Nuwara Eliya Proper  2023-12-28  2023-12-29\n5475       NaN  Nuwara Eliya Proper  2023-12-29  2023-12-30\n5476       NaN  Nuwara Eliya Proper  2023-12-30  2023-12-31\n5477       NaN  Nuwara Eliya Proper  2023-12-31  2024-01-01\n\n[5478 rows x 4 columns]",
      "text/html": "<div>\n<style scoped>\n    .dataframe tbody tr th:only-of-type {\n        vertical-align: middle;\n    }\n\n    .dataframe tbody tr th {\n        vertical-align: top;\n    }\n\n    .dataframe thead th {\n        text-align: right;\n    }\n</style>\n<table border=\"1\" class=\"dataframe\">\n  <thead>\n    <tr style=\"text-align: right;\">\n      <th></th>\n      <th>0</th>\n      <th>1</th>\n      <th>2</th>\n      <th>3</th>\n    </tr>\n  </thead>\n  <tbody>\n    <tr>\n      <th>0</th>\n      <td>0.000197</td>\n      <td>Colombo Proper</td>\n      <td>2019-01-01</td>\n      <td>2019-01-02</td>\n    </tr>\n    <tr>\n      <th>1</th>\n      <td>0.000263</td>\n      <td>Colombo Proper</td>\n      <td>2019-01-02</td>\n      <td>2019-01-03</td>\n    </tr>\n    <tr>\n      <th>2</th>\n      <td>0.000099</td>\n      <td>Colombo Proper</td>\n      <td>2019-01-03</td>\n      <td>2019-01-04</td>\n    </tr>\n    <tr>\n      <th>3</th>\n      <td>0.000210</td>\n      <td>Colombo Proper</td>\n      <td>2019-01-04</td>\n      <td>2019-01-05</td>\n    </tr>\n    <tr>\n      <th>4</th>\n      <td>0.000179</td>\n      <td>Colombo Proper</td>\n      <td>2019-01-05</td>\n      <td>2019-01-06</td>\n    </tr>\n    <tr>\n      <th>...</th>\n      <td>...</td>\n      <td>...</td>\n      <td>...</td>\n      <td>...</td>\n    </tr>\n    <tr>\n      <th>5473</th>\n      <td>NaN</td>\n      <td>Nuwara Eliya Proper</td>\n      <td>2023-12-27</td>\n      <td>2023-12-28</td>\n    </tr>\n    <tr>\n      <th>5474</th>\n      <td>NaN</td>\n      <td>Nuwara Eliya Proper</td>\n      <td>2023-12-28</td>\n      <td>2023-12-29</td>\n    </tr>\n    <tr>\n      <th>5475</th>\n      <td>NaN</td>\n      <td>Nuwara Eliya Proper</td>\n      <td>2023-12-29</td>\n      <td>2023-12-30</td>\n    </tr>\n    <tr>\n      <th>5476</th>\n      <td>NaN</td>\n      <td>Nuwara Eliya Proper</td>\n      <td>2023-12-30</td>\n      <td>2023-12-31</td>\n    </tr>\n    <tr>\n      <th>5477</th>\n      <td>NaN</td>\n      <td>Nuwara Eliya Proper</td>\n      <td>2023-12-31</td>\n      <td>2024-01-01</td>\n    </tr>\n  </tbody>\n</table>\n<p>5478 rows × 4 columns</p>\n</div>"
     },
     "execution_count": 22,
     "metadata": {},
     "output_type": "execute_result"
    }
   ],
   "source": [],
   "metadata": {
    "collapsed": false,
    "ExecuteTime": {
     "end_time": "2024-04-12T09:01:02.389601500Z",
     "start_time": "2024-04-12T09:01:02.331182Z"
    }
   },
   "id": "a300f7fc6a38d3d4"
  }
 ],
 "metadata": {
  "kernelspec": {
   "display_name": "Python 3",
   "language": "python",
   "name": "python3"
  },
  "language_info": {
   "codemirror_mode": {
    "name": "ipython",
    "version": 2
   },
   "file_extension": ".py",
   "mimetype": "text/x-python",
   "name": "python",
   "nbconvert_exporter": "python",
   "pygments_lexer": "ipython2",
   "version": "2.7.6"
  }
 },
 "nbformat": 4,
 "nbformat_minor": 5
}
