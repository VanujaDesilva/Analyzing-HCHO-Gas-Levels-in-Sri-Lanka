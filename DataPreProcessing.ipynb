{
 "cells": [
  {
   "cell_type": "markdown",
   "source": [
    "# Data Pre Processing "
   ],
   "metadata": {
    "collapsed": false
   },
   "id": "e5cb4d654d52022f"
  },
  {
   "cell_type": "code",
   "execution_count": 46,
   "outputs": [],
   "source": [
    "import pandas as pd"
   ],
   "metadata": {
    "collapsed": false,
    "ExecuteTime": {
     "end_time": "2024-04-12T12:49:36.407873600Z",
     "start_time": "2024-04-12T12:49:36.329581900Z"
    }
   },
   "id": "cf469a685ad3607a"
  },
  {
   "cell_type": "code",
   "execution_count": 47,
   "id": "initial_id",
   "metadata": {
    "collapsed": true,
    "ExecuteTime": {
     "end_time": "2024-04-12T12:49:36.409876700Z",
     "start_time": "2024-04-12T12:49:36.342427Z"
    }
   },
   "outputs": [
    {
     "data": {
      "text/plain": "(12782, 4)"
     },
     "execution_count": 47,
     "metadata": {},
     "output_type": "execute_result"
    }
   ],
   "source": [
    "#read data from data set \n",
    "data1 = pd.read_csv(\"DataSets/col_mat_nuw_output.csv\",header = None)\n",
    "data2 = pd.read_csv(\"DataSets/kan_output.csv\", header=None)\n",
    "data3 = pd.read_csv(\"DataSets/mon_kur_jaf_output.csv\", header=None)\n",
    "data = pd.concat([data1,data2,data3])\n",
    "data.shape"
   ]
  },
  {
   "cell_type": "code",
   "execution_count": 48,
   "outputs": [],
   "source": [
    "data.columns = [\"HCHO reading\", \"Location\", \"Current Date\", \"Next Date\"]"
   ],
   "metadata": {
    "collapsed": false,
    "ExecuteTime": {
     "end_time": "2024-04-12T12:49:36.410876700Z",
     "start_time": "2024-04-12T12:49:36.373780100Z"
    }
   },
   "id": "e33bebd4fe05ae7d"
  },
  {
   "cell_type": "code",
   "execution_count": 49,
   "outputs": [
    {
     "data": {
      "text/plain": "      HCHO reading        Location Current Date   Next Date\n0         0.000197  Colombo Proper   2019-01-01  2019-01-02\n1         0.000263  Colombo Proper   2019-01-02  2019-01-03\n2         0.000099  Colombo Proper   2019-01-03  2019-01-04\n3         0.000210  Colombo Proper   2019-01-04  2019-01-05\n4         0.000179  Colombo Proper   2019-01-05  2019-01-06\n...            ...             ...          ...         ...\n5473           NaN   Jaffna Proper   2023-12-27  2023-12-28\n5474      0.000051   Jaffna Proper   2023-12-28  2023-12-29\n5475      0.000127   Jaffna Proper   2023-12-29  2023-12-30\n5476      0.000117   Jaffna Proper   2023-12-30  2023-12-31\n5477      0.000065   Jaffna Proper   2023-12-31  2024-01-01\n\n[12782 rows x 4 columns]",
      "text/html": "<div>\n<style scoped>\n    .dataframe tbody tr th:only-of-type {\n        vertical-align: middle;\n    }\n\n    .dataframe tbody tr th {\n        vertical-align: top;\n    }\n\n    .dataframe thead th {\n        text-align: right;\n    }\n</style>\n<table border=\"1\" class=\"dataframe\">\n  <thead>\n    <tr style=\"text-align: right;\">\n      <th></th>\n      <th>HCHO reading</th>\n      <th>Location</th>\n      <th>Current Date</th>\n      <th>Next Date</th>\n    </tr>\n  </thead>\n  <tbody>\n    <tr>\n      <th>0</th>\n      <td>0.000197</td>\n      <td>Colombo Proper</td>\n      <td>2019-01-01</td>\n      <td>2019-01-02</td>\n    </tr>\n    <tr>\n      <th>1</th>\n      <td>0.000263</td>\n      <td>Colombo Proper</td>\n      <td>2019-01-02</td>\n      <td>2019-01-03</td>\n    </tr>\n    <tr>\n      <th>2</th>\n      <td>0.000099</td>\n      <td>Colombo Proper</td>\n      <td>2019-01-03</td>\n      <td>2019-01-04</td>\n    </tr>\n    <tr>\n      <th>3</th>\n      <td>0.000210</td>\n      <td>Colombo Proper</td>\n      <td>2019-01-04</td>\n      <td>2019-01-05</td>\n    </tr>\n    <tr>\n      <th>4</th>\n      <td>0.000179</td>\n      <td>Colombo Proper</td>\n      <td>2019-01-05</td>\n      <td>2019-01-06</td>\n    </tr>\n    <tr>\n      <th>...</th>\n      <td>...</td>\n      <td>...</td>\n      <td>...</td>\n      <td>...</td>\n    </tr>\n    <tr>\n      <th>5473</th>\n      <td>NaN</td>\n      <td>Jaffna Proper</td>\n      <td>2023-12-27</td>\n      <td>2023-12-28</td>\n    </tr>\n    <tr>\n      <th>5474</th>\n      <td>0.000051</td>\n      <td>Jaffna Proper</td>\n      <td>2023-12-28</td>\n      <td>2023-12-29</td>\n    </tr>\n    <tr>\n      <th>5475</th>\n      <td>0.000127</td>\n      <td>Jaffna Proper</td>\n      <td>2023-12-29</td>\n      <td>2023-12-30</td>\n    </tr>\n    <tr>\n      <th>5476</th>\n      <td>0.000117</td>\n      <td>Jaffna Proper</td>\n      <td>2023-12-30</td>\n      <td>2023-12-31</td>\n    </tr>\n    <tr>\n      <th>5477</th>\n      <td>0.000065</td>\n      <td>Jaffna Proper</td>\n      <td>2023-12-31</td>\n      <td>2024-01-01</td>\n    </tr>\n  </tbody>\n</table>\n<p>12782 rows × 4 columns</p>\n</div>"
     },
     "execution_count": 49,
     "metadata": {},
     "output_type": "execute_result"
    }
   ],
   "source": [
    "data"
   ],
   "metadata": {
    "collapsed": false,
    "ExecuteTime": {
     "end_time": "2024-04-12T12:49:36.446822Z",
     "start_time": "2024-04-12T12:49:36.413401500Z"
    }
   },
   "id": "b4fe2e72ec2b40dd"
  },
  {
   "cell_type": "code",
   "execution_count": 50,
   "outputs": [
    {
     "data": {
      "text/plain": "      HCHO reading        Location Current Date   Next Date\n0         0.000197  Colombo Proper   2019-01-01  2019-01-02\n1         0.000263  Colombo Proper   2019-01-02  2019-01-03\n2         0.000099  Colombo Proper   2019-01-03  2019-01-04\n3         0.000210  Colombo Proper   2019-01-04  2019-01-05\n4         0.000179  Colombo Proper   2019-01-05  2019-01-06\n...            ...             ...          ...         ...\n1821      0.000118  Colombo Proper   2023-12-27  2023-12-28\n1822           NaN  Colombo Proper   2023-12-28  2023-12-29\n1823           NaN  Colombo Proper   2023-12-29  2023-12-30\n1824      0.000140  Colombo Proper   2023-12-30  2023-12-31\n1825      0.000080  Colombo Proper   2023-12-31  2024-01-01\n\n[1826 rows x 4 columns]",
      "text/html": "<div>\n<style scoped>\n    .dataframe tbody tr th:only-of-type {\n        vertical-align: middle;\n    }\n\n    .dataframe tbody tr th {\n        vertical-align: top;\n    }\n\n    .dataframe thead th {\n        text-align: right;\n    }\n</style>\n<table border=\"1\" class=\"dataframe\">\n  <thead>\n    <tr style=\"text-align: right;\">\n      <th></th>\n      <th>HCHO reading</th>\n      <th>Location</th>\n      <th>Current Date</th>\n      <th>Next Date</th>\n    </tr>\n  </thead>\n  <tbody>\n    <tr>\n      <th>0</th>\n      <td>0.000197</td>\n      <td>Colombo Proper</td>\n      <td>2019-01-01</td>\n      <td>2019-01-02</td>\n    </tr>\n    <tr>\n      <th>1</th>\n      <td>0.000263</td>\n      <td>Colombo Proper</td>\n      <td>2019-01-02</td>\n      <td>2019-01-03</td>\n    </tr>\n    <tr>\n      <th>2</th>\n      <td>0.000099</td>\n      <td>Colombo Proper</td>\n      <td>2019-01-03</td>\n      <td>2019-01-04</td>\n    </tr>\n    <tr>\n      <th>3</th>\n      <td>0.000210</td>\n      <td>Colombo Proper</td>\n      <td>2019-01-04</td>\n      <td>2019-01-05</td>\n    </tr>\n    <tr>\n      <th>4</th>\n      <td>0.000179</td>\n      <td>Colombo Proper</td>\n      <td>2019-01-05</td>\n      <td>2019-01-06</td>\n    </tr>\n    <tr>\n      <th>...</th>\n      <td>...</td>\n      <td>...</td>\n      <td>...</td>\n      <td>...</td>\n    </tr>\n    <tr>\n      <th>1821</th>\n      <td>0.000118</td>\n      <td>Colombo Proper</td>\n      <td>2023-12-27</td>\n      <td>2023-12-28</td>\n    </tr>\n    <tr>\n      <th>1822</th>\n      <td>NaN</td>\n      <td>Colombo Proper</td>\n      <td>2023-12-28</td>\n      <td>2023-12-29</td>\n    </tr>\n    <tr>\n      <th>1823</th>\n      <td>NaN</td>\n      <td>Colombo Proper</td>\n      <td>2023-12-29</td>\n      <td>2023-12-30</td>\n    </tr>\n    <tr>\n      <th>1824</th>\n      <td>0.000140</td>\n      <td>Colombo Proper</td>\n      <td>2023-12-30</td>\n      <td>2023-12-31</td>\n    </tr>\n    <tr>\n      <th>1825</th>\n      <td>0.000080</td>\n      <td>Colombo Proper</td>\n      <td>2023-12-31</td>\n      <td>2024-01-01</td>\n    </tr>\n  </tbody>\n</table>\n<p>1826 rows × 4 columns</p>\n</div>"
     },
     "execution_count": 50,
     "metadata": {},
     "output_type": "execute_result"
    }
   ],
   "source": [
    "colombo_df = data[data['Location'] == \"Colombo Proper\"]\n",
    "colombo_df"
   ],
   "metadata": {
    "collapsed": false,
    "ExecuteTime": {
     "end_time": "2024-04-12T12:49:36.494757Z",
     "start_time": "2024-04-12T12:49:36.450805Z"
    }
   },
   "id": "4fee0c528e539716"
  },
  {
   "cell_type": "code",
   "execution_count": 51,
   "outputs": [
    {
     "data": {
      "text/plain": "HCHO reading    487\nLocation          0\nCurrent Date      0\nNext Date         0\ndtype: int64"
     },
     "execution_count": 51,
     "metadata": {},
     "output_type": "execute_result"
    }
   ],
   "source": [
    "colombo_df.isnull().sum()"
   ],
   "metadata": {
    "collapsed": false,
    "ExecuteTime": {
     "end_time": "2024-04-12T12:49:36.545742200Z",
     "start_time": "2024-04-12T12:49:36.469176400Z"
    }
   },
   "id": "1e9c67166c9811fe"
  },
  {
   "cell_type": "code",
   "execution_count": 52,
   "outputs": [
    {
     "name": "stderr",
     "output_type": "stream",
     "text": [
      "C:\\Users\\ASUS TUF\\AppData\\Local\\Temp\\ipykernel_26740\\3925198408.py:3: SettingWithCopyWarning: \n",
      "A value is trying to be set on a copy of a slice from a DataFrame\n",
      "\n",
      "See the caveats in the documentation: https://pandas.pydata.org/pandas-docs/stable/user_guide/indexing.html#returning-a-view-versus-a-copy\n",
      "  colombo_df['HCHO reading'].fillna(colombo_df_mode_value, inplace=True)\n"
     ]
    }
   ],
   "source": [
    "#Filling null values using mode method\n",
    "colombo_df_mode_value = colombo_df['HCHO reading'].mode()[0]\n",
    "colombo_df['HCHO reading'].fillna(colombo_df_mode_value, inplace=True)"
   ],
   "metadata": {
    "collapsed": false,
    "ExecuteTime": {
     "end_time": "2024-04-12T12:49:36.574439600Z",
     "start_time": "2024-04-12T12:49:36.482988100Z"
    }
   },
   "id": "37c60a8cbd771718"
  },
  {
   "cell_type": "code",
   "execution_count": 53,
   "outputs": [
    {
     "data": {
      "text/plain": "HCHO reading    0\nLocation        0\nCurrent Date    0\nNext Date       0\ndtype: int64"
     },
     "execution_count": 53,
     "metadata": {},
     "output_type": "execute_result"
    }
   ],
   "source": [
    "colombo_df.isnull().sum()"
   ],
   "metadata": {
    "collapsed": false,
    "ExecuteTime": {
     "end_time": "2024-04-12T12:49:36.576450400Z",
     "start_time": "2024-04-12T12:49:36.502449600Z"
    }
   },
   "id": "b30d921d1123fce2"
  },
  {
   "cell_type": "code",
   "execution_count": 54,
   "outputs": [
    {
     "data": {
      "text/plain": "<Figure size 800x600 with 1 Axes>",
      "image/png": "[encoded data removed]"
     },
     "metadata": {},
     "output_type": "display_data"
    }
   ],
   "source": [
    "import matplotlib.pyplot as plt\n",
    "# Create a box plot for age feature\n",
    "plt.figure(figsize=(8, 6))\n",
    "plt.boxplot(colombo_df['HCHO reading'])\n",
    "plt.title('Box plot of age data')\n",
    "plt.xlabel('age')\n",
    "plt.ylabel('Values')\n",
    "plt.show()"
   ],
   "metadata": {
    "collapsed": false,
    "ExecuteTime": {
     "end_time": "2024-04-12T12:49:36.697848100Z",
     "start_time": "2024-04-12T12:49:36.578726900Z"
    }
   },
   "id": "b7ff6461d241d03f"
  },
  {
   "cell_type": "code",
   "execution_count": 55,
   "outputs": [
    {
     "data": {
      "text/plain": "0"
     },
     "execution_count": 55,
     "metadata": {},
     "output_type": "execute_result"
    }
   ],
   "source": [
    "colombo_df[\"Current Date\"].duplicated().sum()"
   ],
   "metadata": {
    "collapsed": false,
    "ExecuteTime": {
     "end_time": "2024-04-12T12:49:36.717730300Z",
     "start_time": "2024-04-12T12:49:36.696845600Z"
    }
   },
   "id": "71cc67c7000dc04c"
  },
  {
   "cell_type": "code",
   "execution_count": 56,
   "outputs": [
    {
     "data": {
      "text/plain": "0"
     },
     "execution_count": 56,
     "metadata": {},
     "output_type": "execute_result"
    }
   ],
   "source": [
    "colombo_df[\"Next Date\"].duplicated().sum()"
   ],
   "metadata": {
    "collapsed": false,
    "ExecuteTime": {
     "end_time": "2024-04-12T12:49:36.813398900Z",
     "start_time": "2024-04-12T12:49:36.710385700Z"
    }
   },
   "id": "c4fc01adbee16ff4"
  },
  {
   "cell_type": "code",
   "execution_count": 57,
   "outputs": [],
   "source": [
    "import pandas as pd\n",
    "from statsmodels.tsa.stattools import adfuller"
   ],
   "metadata": {
    "collapsed": false,
    "ExecuteTime": {
     "end_time": "2024-04-12T12:49:36.816284700Z",
     "start_time": "2024-04-12T12:49:36.727663800Z"
    }
   },
   "id": "ba89232a64242259"
  },
  {
   "cell_type": "code",
   "execution_count": 58,
   "outputs": [
    {
     "name": "stdout",
     "output_type": "stream",
     "text": [
      "ADF Statistic: -6.470289\n",
      "p-value: 0.000000\n",
      "\t1%: -3.434\n",
      "\t5%: -2.863\n",
      "\t10%: -2.568\n"
     ]
    }
   ],
   "source": [
    "result = adfuller(colombo_df['HCHO reading'])\n",
    "print('ADF Statistic: %f' % result[0])\n",
    "print('p-value: %f' % result[1])\n",
    "for key, value in result[4].items():\n",
    " print('\\t%s: %.3f' % (key, value))"
   ],
   "metadata": {
    "collapsed": false,
    "ExecuteTime": {
     "end_time": "2024-04-12T12:49:36.838553500Z",
     "start_time": "2024-04-12T12:49:36.742286500Z"
    }
   },
   "id": "58d19bc8a0f813f7"
  },
  {
   "cell_type": "code",
   "execution_count": 58,
   "outputs": [],
   "source": [
    "#Making stationary colombo_df\n"
   ],
   "metadata": {
    "collapsed": false,
    "ExecuteTime": {
     "end_time": "2024-04-12T12:49:36.862997500Z",
     "start_time": "2024-04-12T12:49:36.819417600Z"
    }
   },
   "id": "5b39a52b86f15a52"
  }
 ],
 "metadata": {
  "kernelspec": {
   "display_name": "Python 3",
   "language": "python",
   "name": "python3"
  },
  "language_info": {
   "codemirror_mode": {
    "name": "ipython",
    "version": 2
   },
   "file_extension": ".py",
   "mimetype": "text/x-python",
   "name": "python",
   "nbconvert_exporter": "python",
   "pygments_lexer": "ipython2",
   "version": "2.7.6"
  }
 },
 "nbformat": 4,
 "nbformat_minor": 5
}
