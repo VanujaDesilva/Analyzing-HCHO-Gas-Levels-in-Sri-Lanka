{
 "cells": [
  {
   "cell_type": "markdown",
   "source": [
    "# Data Pre Processing "
   ],
   "metadata": {
    "collapsed": false
   },
   "id": "e5cb4d654d52022f"
  },
  {
   "cell_type": "code",
   "execution_count": 227,
   "outputs": [],
   "source": [
    "import pandas as pd"
   ],
   "metadata": {
    "collapsed": false,
    "ExecuteTime": {
     "end_time": "2024-04-14T15:10:56.518366600Z",
     "start_time": "2024-04-14T15:10:56.199265100Z"
    }
   },
   "id": "cf469a685ad3607a"
  },
  {
   "cell_type": "code",
   "execution_count": 228,
   "id": "initial_id",
   "metadata": {
    "collapsed": true,
    "ExecuteTime": {
     "end_time": "2024-04-14T15:10:56.600920800Z",
     "start_time": "2024-04-14T15:10:56.294912200Z"
    }
   },
   "outputs": [
    {
     "data": {
      "text/plain": "(12782, 4)"
     },
     "execution_count": 228,
     "metadata": {},
     "output_type": "execute_result"
    }
   ],
   "source": [
    "#read data from data set \n",
    "data1 = pd.read_csv(\"DataSets/col_mat_nuw_output.csv\",header = None)\n",
    "data2 = pd.read_csv(\"DataSets/kan_output.csv\", header=None)\n",
    "data3 = pd.read_csv(\"DataSets/mon_kur_jaf_output.csv\", header=None)\n",
    "data = pd.concat([data1,data2,data3])\n",
    "data.shape"
   ]
  },
  {
   "cell_type": "code",
   "execution_count": 229,
   "outputs": [
    {
     "data": {
      "text/plain": "      HCHO reading        Location Current Date   Next Date\n0         0.000197  Colombo Proper   2019-01-01  2019-01-02\n1         0.000263  Colombo Proper   2019-01-02  2019-01-03\n2         0.000099  Colombo Proper   2019-01-03  2019-01-04\n3         0.000210  Colombo Proper   2019-01-04  2019-01-05\n4         0.000179  Colombo Proper   2019-01-05  2019-01-06\n...            ...             ...          ...         ...\n5473           NaN   Jaffna Proper   2023-12-27  2023-12-28\n5474      0.000051   Jaffna Proper   2023-12-28  2023-12-29\n5475      0.000127   Jaffna Proper   2023-12-29  2023-12-30\n5476      0.000117   Jaffna Proper   2023-12-30  2023-12-31\n5477      0.000065   Jaffna Proper   2023-12-31  2024-01-01\n\n[12782 rows x 4 columns]",
      "text/html": "<div>\n<style scoped>\n    .dataframe tbody tr th:only-of-type {\n        vertical-align: middle;\n    }\n\n    .dataframe tbody tr th {\n        vertical-align: top;\n    }\n\n    .dataframe thead th {\n        text-align: right;\n    }\n</style>\n<table border=\"1\" class=\"dataframe\">\n  <thead>\n    <tr style=\"text-align: right;\">\n      <th></th>\n      <th>HCHO reading</th>\n      <th>Location</th>\n      <th>Current Date</th>\n      <th>Next Date</th>\n    </tr>\n  </thead>\n  <tbody>\n    <tr>\n      <th>0</th>\n      <td>0.000197</td>\n      <td>Colombo Proper</td>\n      <td>2019-01-01</td>\n      <td>2019-01-02</td>\n    </tr>\n    <tr>\n      <th>1</th>\n      <td>0.000263</td>\n      <td>Colombo Proper</td>\n      <td>2019-01-02</td>\n      <td>2019-01-03</td>\n    </tr>\n    <tr>\n      <th>2</th>\n      <td>0.000099</td>\n      <td>Colombo Proper</td>\n      <td>2019-01-03</td>\n      <td>2019-01-04</td>\n    </tr>\n    <tr>\n      <th>3</th>\n      <td>0.000210</td>\n      <td>Colombo Proper</td>\n      <td>2019-01-04</td>\n      <td>2019-01-05</td>\n    </tr>\n    <tr>\n      <th>4</th>\n      <td>0.000179</td>\n      <td>Colombo Proper</td>\n      <td>2019-01-05</td>\n      <td>2019-01-06</td>\n    </tr>\n    <tr>\n      <th>...</th>\n      <td>...</td>\n      <td>...</td>\n      <td>...</td>\n      <td>...</td>\n    </tr>\n    <tr>\n      <th>5473</th>\n      <td>NaN</td>\n      <td>Jaffna Proper</td>\n      <td>2023-12-27</td>\n      <td>2023-12-28</td>\n    </tr>\n    <tr>\n      <th>5474</th>\n      <td>0.000051</td>\n      <td>Jaffna Proper</td>\n      <td>2023-12-28</td>\n      <td>2023-12-29</td>\n    </tr>\n    <tr>\n      <th>5475</th>\n      <td>0.000127</td>\n      <td>Jaffna Proper</td>\n      <td>2023-12-29</td>\n      <td>2023-12-30</td>\n    </tr>\n    <tr>\n      <th>5476</th>\n      <td>0.000117</td>\n      <td>Jaffna Proper</td>\n      <td>2023-12-30</td>\n      <td>2023-12-31</td>\n    </tr>\n    <tr>\n      <th>5477</th>\n      <td>0.000065</td>\n      <td>Jaffna Proper</td>\n      <td>2023-12-31</td>\n      <td>2024-01-01</td>\n    </tr>\n  </tbody>\n</table>\n<p>12782 rows × 4 columns</p>\n</div>"
     },
     "execution_count": 229,
     "metadata": {},
     "output_type": "execute_result"
    }
   ],
   "source": [
    "data.columns = [\"HCHO reading\", \"Location\", \"Current Date\", \"Next Date\"]\n",
    "data"
   ],
   "metadata": {
    "collapsed": false,
    "ExecuteTime": {
     "end_time": "2024-04-14T15:10:56.631720Z",
     "start_time": "2024-04-14T15:10:56.569946800Z"
    }
   },
   "id": "e33bebd4fe05ae7d"
  },
  {
   "cell_type": "code",
   "execution_count": 230,
   "outputs": [
    {
     "name": "stdout",
     "output_type": "stream",
     "text": [
      "HCHO reading\n",
      "[1.96983440e-04 2.62552217e-04 9.85211890e-05 ... 1.26723537e-04\n",
      " 1.16658954e-04 6.54085299e-05]\n",
      "\n",
      "\n",
      "Location\n",
      "['Colombo Proper' 'Deniyaya, Matara' 'Nuwara Eliya Proper' 'Kandy Proper'\n",
      " 'Bibile, Monaragala' 'Kurunegala Proper' 'Jaffna Proper']\n",
      "\n",
      "\n",
      "Current Date\n",
      "['2019-01-01' '2019-01-02' '2019-01-03' ... '2023-12-29' '2023-12-30'\n",
      " '2023-12-31']\n",
      "\n",
      "\n",
      "Next Date\n",
      "['2019-01-02' '2019-01-03' '2019-01-04' ... '2023-12-30' '2023-12-31'\n",
      " '2024-01-01']\n"
     ]
    }
   ],
   "source": [
    "for column in data:\n",
    "    print(column)\n",
    "    print(data[column].unique())\n",
    "    print('\\n')"
   ],
   "metadata": {
    "collapsed": false,
    "ExecuteTime": {
     "end_time": "2024-04-14T15:10:56.675577300Z",
     "start_time": "2024-04-14T15:10:56.627205700Z"
    }
   },
   "id": "b4fe2e72ec2b40dd"
  },
  {
   "cell_type": "code",
   "execution_count": 231,
   "outputs": [],
   "source": [
    "colombo_df = data[data['Location'] == \"Colombo Proper\"]\n",
    "jaffna_df = data[data['Location'] == \"Jaffna Proper\"]\n",
    "deniyaya_df = data[data['Location'] == \"Deniyaya, Matara\"]\n",
    "nuwaraEliya_df = data[data['Location'] == \"Nuwara Eliya Proper\"]\n",
    "kandy_df = data[data['Location'] == \"Kandy Proper\"]\n",
    "bibile_df = data[data['Location'] == \"Bibile, Monaragala\"]\n",
    "kurunegala_df = data[data['Location'] == \"Kurunegala Proper\"]"
   ],
   "metadata": {
    "collapsed": false,
    "ExecuteTime": {
     "end_time": "2024-04-14T15:10:56.726696300Z",
     "start_time": "2024-04-14T15:10:56.661072900Z"
    }
   },
   "id": "4fee0c528e539716"
  },
  {
   "cell_type": "code",
   "execution_count": 232,
   "outputs": [
    {
     "data": {
      "text/plain": "      HCHO reading        Location Current Date   Next Date\n0         0.000197  Colombo Proper   2019-01-01  2019-01-02\n1         0.000263  Colombo Proper   2019-01-02  2019-01-03\n2         0.000099  Colombo Proper   2019-01-03  2019-01-04\n3         0.000210  Colombo Proper   2019-01-04  2019-01-05\n4         0.000179  Colombo Proper   2019-01-05  2019-01-06\n...            ...             ...          ...         ...\n1821      0.000118  Colombo Proper   2023-12-27  2023-12-28\n1822           NaN  Colombo Proper   2023-12-28  2023-12-29\n1823           NaN  Colombo Proper   2023-12-29  2023-12-30\n1824      0.000140  Colombo Proper   2023-12-30  2023-12-31\n1825      0.000080  Colombo Proper   2023-12-31  2024-01-01\n\n[1826 rows x 4 columns]",
      "text/html": "<div>\n<style scoped>\n    .dataframe tbody tr th:only-of-type {\n        vertical-align: middle;\n    }\n\n    .dataframe tbody tr th {\n        vertical-align: top;\n    }\n\n    .dataframe thead th {\n        text-align: right;\n    }\n</style>\n<table border=\"1\" class=\"dataframe\">\n  <thead>\n    <tr style=\"text-align: right;\">\n      <th></th>\n      <th>HCHO reading</th>\n      <th>Location</th>\n      <th>Current Date</th>\n      <th>Next Date</th>\n    </tr>\n  </thead>\n  <tbody>\n    <tr>\n      <th>0</th>\n      <td>0.000197</td>\n      <td>Colombo Proper</td>\n      <td>2019-01-01</td>\n      <td>2019-01-02</td>\n    </tr>\n    <tr>\n      <th>1</th>\n      <td>0.000263</td>\n      <td>Colombo Proper</td>\n      <td>2019-01-02</td>\n      <td>2019-01-03</td>\n    </tr>\n    <tr>\n      <th>2</th>\n      <td>0.000099</td>\n      <td>Colombo Proper</td>\n      <td>2019-01-03</td>\n      <td>2019-01-04</td>\n    </tr>\n    <tr>\n      <th>3</th>\n      <td>0.000210</td>\n      <td>Colombo Proper</td>\n      <td>2019-01-04</td>\n      <td>2019-01-05</td>\n    </tr>\n    <tr>\n      <th>4</th>\n      <td>0.000179</td>\n      <td>Colombo Proper</td>\n      <td>2019-01-05</td>\n      <td>2019-01-06</td>\n    </tr>\n    <tr>\n      <th>...</th>\n      <td>...</td>\n      <td>...</td>\n      <td>...</td>\n      <td>...</td>\n    </tr>\n    <tr>\n      <th>1821</th>\n      <td>0.000118</td>\n      <td>Colombo Proper</td>\n      <td>2023-12-27</td>\n      <td>2023-12-28</td>\n    </tr>\n    <tr>\n      <th>1822</th>\n      <td>NaN</td>\n      <td>Colombo Proper</td>\n      <td>2023-12-28</td>\n      <td>2023-12-29</td>\n    </tr>\n    <tr>\n      <th>1823</th>\n      <td>NaN</td>\n      <td>Colombo Proper</td>\n      <td>2023-12-29</td>\n      <td>2023-12-30</td>\n    </tr>\n    <tr>\n      <th>1824</th>\n      <td>0.000140</td>\n      <td>Colombo Proper</td>\n      <td>2023-12-30</td>\n      <td>2023-12-31</td>\n    </tr>\n    <tr>\n      <th>1825</th>\n      <td>0.000080</td>\n      <td>Colombo Proper</td>\n      <td>2023-12-31</td>\n      <td>2024-01-01</td>\n    </tr>\n  </tbody>\n</table>\n<p>1826 rows × 4 columns</p>\n</div>"
     },
     "execution_count": 232,
     "metadata": {},
     "output_type": "execute_result"
    }
   ],
   "source": [
    "colombo_df"
   ],
   "metadata": {
    "collapsed": false,
    "ExecuteTime": {
     "end_time": "2024-04-14T15:10:56.825930800Z",
     "start_time": "2024-04-14T15:10:56.703672Z"
    }
   },
   "id": "5cbc4d2abd86c153"
  },
  {
   "cell_type": "code",
   "execution_count": 233,
   "outputs": [
    {
     "data": {
      "text/plain": "      HCHO reading       Location Current Date   Next Date\n3652      0.000058  Jaffna Proper   2019-01-01  2019-01-02\n3653      0.000102  Jaffna Proper   2019-01-02  2019-01-03\n3654      0.000039  Jaffna Proper   2019-01-03  2019-01-04\n3655     -0.000002  Jaffna Proper   2019-01-04  2019-01-05\n3656      0.000159  Jaffna Proper   2019-01-05  2019-01-06\n...            ...            ...          ...         ...\n5473           NaN  Jaffna Proper   2023-12-27  2023-12-28\n5474      0.000051  Jaffna Proper   2023-12-28  2023-12-29\n5475      0.000127  Jaffna Proper   2023-12-29  2023-12-30\n5476      0.000117  Jaffna Proper   2023-12-30  2023-12-31\n5477      0.000065  Jaffna Proper   2023-12-31  2024-01-01\n\n[1826 rows x 4 columns]",
      "text/html": "<div>\n<style scoped>\n    .dataframe tbody tr th:only-of-type {\n        vertical-align: middle;\n    }\n\n    .dataframe tbody tr th {\n        vertical-align: top;\n    }\n\n    .dataframe thead th {\n        text-align: right;\n    }\n</style>\n<table border=\"1\" class=\"dataframe\">\n  <thead>\n    <tr style=\"text-align: right;\">\n      <th></th>\n      <th>HCHO reading</th>\n      <th>Location</th>\n      <th>Current Date</th>\n      <th>Next Date</th>\n    </tr>\n  </thead>\n  <tbody>\n    <tr>\n      <th>3652</th>\n      <td>0.000058</td>\n      <td>Jaffna Proper</td>\n      <td>2019-01-01</td>\n      <td>2019-01-02</td>\n    </tr>\n    <tr>\n      <th>3653</th>\n      <td>0.000102</td>\n      <td>Jaffna Proper</td>\n      <td>2019-01-02</td>\n      <td>2019-01-03</td>\n    </tr>\n    <tr>\n      <th>3654</th>\n      <td>0.000039</td>\n      <td>Jaffna Proper</td>\n      <td>2019-01-03</td>\n      <td>2019-01-04</td>\n    </tr>\n    <tr>\n      <th>3655</th>\n      <td>-0.000002</td>\n      <td>Jaffna Proper</td>\n      <td>2019-01-04</td>\n      <td>2019-01-05</td>\n    </tr>\n    <tr>\n      <th>3656</th>\n      <td>0.000159</td>\n      <td>Jaffna Proper</td>\n      <td>2019-01-05</td>\n      <td>2019-01-06</td>\n    </tr>\n    <tr>\n      <th>...</th>\n      <td>...</td>\n      <td>...</td>\n      <td>...</td>\n      <td>...</td>\n    </tr>\n    <tr>\n      <th>5473</th>\n      <td>NaN</td>\n      <td>Jaffna Proper</td>\n      <td>2023-12-27</td>\n      <td>2023-12-28</td>\n    </tr>\n    <tr>\n      <th>5474</th>\n      <td>0.000051</td>\n      <td>Jaffna Proper</td>\n      <td>2023-12-28</td>\n      <td>2023-12-29</td>\n    </tr>\n    <tr>\n      <th>5475</th>\n      <td>0.000127</td>\n      <td>Jaffna Proper</td>\n      <td>2023-12-29</td>\n      <td>2023-12-30</td>\n    </tr>\n    <tr>\n      <th>5476</th>\n      <td>0.000117</td>\n      <td>Jaffna Proper</td>\n      <td>2023-12-30</td>\n      <td>2023-12-31</td>\n    </tr>\n    <tr>\n      <th>5477</th>\n      <td>0.000065</td>\n      <td>Jaffna Proper</td>\n      <td>2023-12-31</td>\n      <td>2024-01-01</td>\n    </tr>\n  </tbody>\n</table>\n<p>1826 rows × 4 columns</p>\n</div>"
     },
     "execution_count": 233,
     "metadata": {},
     "output_type": "execute_result"
    }
   ],
   "source": [
    "jaffna_df"
   ],
   "metadata": {
    "collapsed": false,
    "ExecuteTime": {
     "end_time": "2024-04-14T15:10:56.848790500Z",
     "start_time": "2024-04-14T15:10:56.804887700Z"
    }
   },
   "id": "fe40bfaf9d9769a3"
  },
  {
   "cell_type": "code",
   "execution_count": 234,
   "outputs": [
    {
     "data": {
      "text/plain": "      HCHO reading          Location Current Date   Next Date\n1826           NaN  Deniyaya, Matara   2019-01-01  2019-01-02\n1827      0.000006  Deniyaya, Matara   2019-01-02  2019-01-03\n1828      0.000236  Deniyaya, Matara   2019-01-03  2019-01-04\n1829      0.000064  Deniyaya, Matara   2019-01-04  2019-01-05\n1830      0.000053  Deniyaya, Matara   2019-01-05  2019-01-06\n...            ...               ...          ...         ...\n3647      0.000228  Deniyaya, Matara   2023-12-27  2023-12-28\n3648           NaN  Deniyaya, Matara   2023-12-28  2023-12-29\n3649           NaN  Deniyaya, Matara   2023-12-29  2023-12-30\n3650      0.000116  Deniyaya, Matara   2023-12-30  2023-12-31\n3651           NaN  Deniyaya, Matara   2023-12-31  2024-01-01\n\n[1826 rows x 4 columns]",
      "text/html": "<div>\n<style scoped>\n    .dataframe tbody tr th:only-of-type {\n        vertical-align: middle;\n    }\n\n    .dataframe tbody tr th {\n        vertical-align: top;\n    }\n\n    .dataframe thead th {\n        text-align: right;\n    }\n</style>\n<table border=\"1\" class=\"dataframe\">\n  <thead>\n    <tr style=\"text-align: right;\">\n      <th></th>\n      <th>HCHO reading</th>\n      <th>Location</th>\n      <th>Current Date</th>\n      <th>Next Date</th>\n    </tr>\n  </thead>\n  <tbody>\n    <tr>\n      <th>1826</th>\n      <td>NaN</td>\n      <td>Deniyaya, Matara</td>\n      <td>2019-01-01</td>\n      <td>2019-01-02</td>\n    </tr>\n    <tr>\n      <th>1827</th>\n      <td>0.000006</td>\n      <td>Deniyaya, Matara</td>\n      <td>2019-01-02</td>\n      <td>2019-01-03</td>\n    </tr>\n    <tr>\n      <th>1828</th>\n      <td>0.000236</td>\n      <td>Deniyaya, Matara</td>\n      <td>2019-01-03</td>\n      <td>2019-01-04</td>\n    </tr>\n    <tr>\n      <th>1829</th>\n      <td>0.000064</td>\n      <td>Deniyaya, Matara</td>\n      <td>2019-01-04</td>\n      <td>2019-01-05</td>\n    </tr>\n    <tr>\n      <th>1830</th>\n      <td>0.000053</td>\n      <td>Deniyaya, Matara</td>\n      <td>2019-01-05</td>\n      <td>2019-01-06</td>\n    </tr>\n    <tr>\n      <th>...</th>\n      <td>...</td>\n      <td>...</td>\n      <td>...</td>\n      <td>...</td>\n    </tr>\n    <tr>\n      <th>3647</th>\n      <td>0.000228</td>\n      <td>Deniyaya, Matara</td>\n      <td>2023-12-27</td>\n      <td>2023-12-28</td>\n    </tr>\n    <tr>\n      <th>3648</th>\n      <td>NaN</td>\n      <td>Deniyaya, Matara</td>\n      <td>2023-12-28</td>\n      <td>2023-12-29</td>\n    </tr>\n    <tr>\n      <th>3649</th>\n      <td>NaN</td>\n      <td>Deniyaya, Matara</td>\n      <td>2023-12-29</td>\n      <td>2023-12-30</td>\n    </tr>\n    <tr>\n      <th>3650</th>\n      <td>0.000116</td>\n      <td>Deniyaya, Matara</td>\n      <td>2023-12-30</td>\n      <td>2023-12-31</td>\n    </tr>\n    <tr>\n      <th>3651</th>\n      <td>NaN</td>\n      <td>Deniyaya, Matara</td>\n      <td>2023-12-31</td>\n      <td>2024-01-01</td>\n    </tr>\n  </tbody>\n</table>\n<p>1826 rows × 4 columns</p>\n</div>"
     },
     "execution_count": 234,
     "metadata": {},
     "output_type": "execute_result"
    }
   ],
   "source": [
    "deniyaya_df"
   ],
   "metadata": {
    "collapsed": false,
    "ExecuteTime": {
     "end_time": "2024-04-14T15:10:56.900118300Z",
     "start_time": "2024-04-14T15:10:56.839274600Z"
    }
   },
   "id": "5566cb21f240381"
  },
  {
   "cell_type": "code",
   "execution_count": 235,
   "outputs": [
    {
     "data": {
      "text/plain": "      HCHO reading             Location Current Date   Next Date\n3652           NaN  Nuwara Eliya Proper   2019-01-01  2019-01-02\n3653           NaN  Nuwara Eliya Proper   2019-01-02  2019-01-03\n3654      0.000191  Nuwara Eliya Proper   2019-01-03  2019-01-04\n3655      0.000051  Nuwara Eliya Proper   2019-01-04  2019-01-05\n3656      0.000065  Nuwara Eliya Proper   2019-01-05  2019-01-06\n...            ...                  ...          ...         ...\n5473           NaN  Nuwara Eliya Proper   2023-12-27  2023-12-28\n5474           NaN  Nuwara Eliya Proper   2023-12-28  2023-12-29\n5475           NaN  Nuwara Eliya Proper   2023-12-29  2023-12-30\n5476           NaN  Nuwara Eliya Proper   2023-12-30  2023-12-31\n5477           NaN  Nuwara Eliya Proper   2023-12-31  2024-01-01\n\n[1826 rows x 4 columns]",
      "text/html": "<div>\n<style scoped>\n    .dataframe tbody tr th:only-of-type {\n        vertical-align: middle;\n    }\n\n    .dataframe tbody tr th {\n        vertical-align: top;\n    }\n\n    .dataframe thead th {\n        text-align: right;\n    }\n</style>\n<table border=\"1\" class=\"dataframe\">\n  <thead>\n    <tr style=\"text-align: right;\">\n      <th></th>\n      <th>HCHO reading</th>\n      <th>Location</th>\n      <th>Current Date</th>\n      <th>Next Date</th>\n    </tr>\n  </thead>\n  <tbody>\n    <tr>\n      <th>3652</th>\n      <td>NaN</td>\n      <td>Nuwara Eliya Proper</td>\n      <td>2019-01-01</td>\n      <td>2019-01-02</td>\n    </tr>\n    <tr>\n      <th>3653</th>\n      <td>NaN</td>\n      <td>Nuwara Eliya Proper</td>\n      <td>2019-01-02</td>\n      <td>2019-01-03</td>\n    </tr>\n    <tr>\n      <th>3654</th>\n      <td>0.000191</td>\n      <td>Nuwara Eliya Proper</td>\n      <td>2019-01-03</td>\n      <td>2019-01-04</td>\n    </tr>\n    <tr>\n      <th>3655</th>\n      <td>0.000051</td>\n      <td>Nuwara Eliya Proper</td>\n      <td>2019-01-04</td>\n      <td>2019-01-05</td>\n    </tr>\n    <tr>\n      <th>3656</th>\n      <td>0.000065</td>\n      <td>Nuwara Eliya Proper</td>\n      <td>2019-01-05</td>\n      <td>2019-01-06</td>\n    </tr>\n    <tr>\n      <th>...</th>\n      <td>...</td>\n      <td>...</td>\n      <td>...</td>\n      <td>...</td>\n    </tr>\n    <tr>\n      <th>5473</th>\n      <td>NaN</td>\n      <td>Nuwara Eliya Proper</td>\n      <td>2023-12-27</td>\n      <td>2023-12-28</td>\n    </tr>\n    <tr>\n      <th>5474</th>\n      <td>NaN</td>\n      <td>Nuwara Eliya Proper</td>\n      <td>2023-12-28</td>\n      <td>2023-12-29</td>\n    </tr>\n    <tr>\n      <th>5475</th>\n      <td>NaN</td>\n      <td>Nuwara Eliya Proper</td>\n      <td>2023-12-29</td>\n      <td>2023-12-30</td>\n    </tr>\n    <tr>\n      <th>5476</th>\n      <td>NaN</td>\n      <td>Nuwara Eliya Proper</td>\n      <td>2023-12-30</td>\n      <td>2023-12-31</td>\n    </tr>\n    <tr>\n      <th>5477</th>\n      <td>NaN</td>\n      <td>Nuwara Eliya Proper</td>\n      <td>2023-12-31</td>\n      <td>2024-01-01</td>\n    </tr>\n  </tbody>\n</table>\n<p>1826 rows × 4 columns</p>\n</div>"
     },
     "execution_count": 235,
     "metadata": {},
     "output_type": "execute_result"
    }
   ],
   "source": [
    "nuwaraEliya_df"
   ],
   "metadata": {
    "collapsed": false,
    "ExecuteTime": {
     "end_time": "2024-04-14T15:10:56.959273800Z",
     "start_time": "2024-04-14T15:10:56.871307200Z"
    }
   },
   "id": "9396f9325324030c"
  },
  {
   "cell_type": "code",
   "execution_count": 236,
   "outputs": [
    {
     "data": {
      "text/plain": "      HCHO reading      Location Current Date   Next Date\n0         0.000176  Kandy Proper   2019-01-01  2019-01-02\n1         0.000092  Kandy Proper   2019-01-02  2019-01-03\n2              NaN  Kandy Proper   2019-01-03  2019-01-04\n3         0.000191  Kandy Proper   2019-01-04  2019-01-05\n4         0.000122  Kandy Proper   2019-01-05  2019-01-06\n...            ...           ...          ...         ...\n1821           NaN  Kandy Proper   2023-12-27  2023-12-28\n1822           NaN  Kandy Proper   2023-12-28  2023-12-29\n1823           NaN  Kandy Proper   2023-12-29  2023-12-30\n1824      0.000056  Kandy Proper   2023-12-30  2023-12-31\n1825           NaN  Kandy Proper   2023-12-31  2024-01-01\n\n[1826 rows x 4 columns]",
      "text/html": "<div>\n<style scoped>\n    .dataframe tbody tr th:only-of-type {\n        vertical-align: middle;\n    }\n\n    .dataframe tbody tr th {\n        vertical-align: top;\n    }\n\n    .dataframe thead th {\n        text-align: right;\n    }\n</style>\n<table border=\"1\" class=\"dataframe\">\n  <thead>\n    <tr style=\"text-align: right;\">\n      <th></th>\n      <th>HCHO reading</th>\n      <th>Location</th>\n      <th>Current Date</th>\n      <th>Next Date</th>\n    </tr>\n  </thead>\n  <tbody>\n    <tr>\n      <th>0</th>\n      <td>0.000176</td>\n      <td>Kandy Proper</td>\n      <td>2019-01-01</td>\n      <td>2019-01-02</td>\n    </tr>\n    <tr>\n      <th>1</th>\n      <td>0.000092</td>\n      <td>Kandy Proper</td>\n      <td>2019-01-02</td>\n      <td>2019-01-03</td>\n    </tr>\n    <tr>\n      <th>2</th>\n      <td>NaN</td>\n      <td>Kandy Proper</td>\n      <td>2019-01-03</td>\n      <td>2019-01-04</td>\n    </tr>\n    <tr>\n      <th>3</th>\n      <td>0.000191</td>\n      <td>Kandy Proper</td>\n      <td>2019-01-04</td>\n      <td>2019-01-05</td>\n    </tr>\n    <tr>\n      <th>4</th>\n      <td>0.000122</td>\n      <td>Kandy Proper</td>\n      <td>2019-01-05</td>\n      <td>2019-01-06</td>\n    </tr>\n    <tr>\n      <th>...</th>\n      <td>...</td>\n      <td>...</td>\n      <td>...</td>\n      <td>...</td>\n    </tr>\n    <tr>\n      <th>1821</th>\n      <td>NaN</td>\n      <td>Kandy Proper</td>\n      <td>2023-12-27</td>\n      <td>2023-12-28</td>\n    </tr>\n    <tr>\n      <th>1822</th>\n      <td>NaN</td>\n      <td>Kandy Proper</td>\n      <td>2023-12-28</td>\n      <td>2023-12-29</td>\n    </tr>\n    <tr>\n      <th>1823</th>\n      <td>NaN</td>\n      <td>Kandy Proper</td>\n      <td>2023-12-29</td>\n      <td>2023-12-30</td>\n    </tr>\n    <tr>\n      <th>1824</th>\n      <td>0.000056</td>\n      <td>Kandy Proper</td>\n      <td>2023-12-30</td>\n      <td>2023-12-31</td>\n    </tr>\n    <tr>\n      <th>1825</th>\n      <td>NaN</td>\n      <td>Kandy Proper</td>\n      <td>2023-12-31</td>\n      <td>2024-01-01</td>\n    </tr>\n  </tbody>\n</table>\n<p>1826 rows × 4 columns</p>\n</div>"
     },
     "execution_count": 236,
     "metadata": {},
     "output_type": "execute_result"
    }
   ],
   "source": [
    "kandy_df"
   ],
   "metadata": {
    "collapsed": false,
    "ExecuteTime": {
     "end_time": "2024-04-14T15:10:57.037895300Z",
     "start_time": "2024-04-14T15:10:56.922716900Z"
    }
   },
   "id": "548776f14594f9e7"
  },
  {
   "cell_type": "code",
   "execution_count": 237,
   "outputs": [
    {
     "data": {
      "text/plain": "      HCHO reading            Location Current Date   Next Date\n0              NaN  Bibile, Monaragala   2019-01-01  2019-01-02\n1         0.000019  Bibile, Monaragala   2019-01-02  2019-01-03\n2         0.000028  Bibile, Monaragala   2019-01-03  2019-01-04\n3         0.000037  Bibile, Monaragala   2019-01-04  2019-01-05\n4        -0.000018  Bibile, Monaragala   2019-01-05  2019-01-06\n...            ...                 ...          ...         ...\n1821           NaN  Bibile, Monaragala   2023-12-27  2023-12-28\n1822           NaN  Bibile, Monaragala   2023-12-28  2023-12-29\n1823           NaN  Bibile, Monaragala   2023-12-29  2023-12-30\n1824           NaN  Bibile, Monaragala   2023-12-30  2023-12-31\n1825           NaN  Bibile, Monaragala   2023-12-31  2024-01-01\n\n[1826 rows x 4 columns]",
      "text/html": "<div>\n<style scoped>\n    .dataframe tbody tr th:only-of-type {\n        vertical-align: middle;\n    }\n\n    .dataframe tbody tr th {\n        vertical-align: top;\n    }\n\n    .dataframe thead th {\n        text-align: right;\n    }\n</style>\n<table border=\"1\" class=\"dataframe\">\n  <thead>\n    <tr style=\"text-align: right;\">\n      <th></th>\n      <th>HCHO reading</th>\n      <th>Location</th>\n      <th>Current Date</th>\n      <th>Next Date</th>\n    </tr>\n  </thead>\n  <tbody>\n    <tr>\n      <th>0</th>\n      <td>NaN</td>\n      <td>Bibile, Monaragala</td>\n      <td>2019-01-01</td>\n      <td>2019-01-02</td>\n    </tr>\n    <tr>\n      <th>1</th>\n      <td>0.000019</td>\n      <td>Bibile, Monaragala</td>\n      <td>2019-01-02</td>\n      <td>2019-01-03</td>\n    </tr>\n    <tr>\n      <th>2</th>\n      <td>0.000028</td>\n      <td>Bibile, Monaragala</td>\n      <td>2019-01-03</td>\n      <td>2019-01-04</td>\n    </tr>\n    <tr>\n      <th>3</th>\n      <td>0.000037</td>\n      <td>Bibile, Monaragala</td>\n      <td>2019-01-04</td>\n      <td>2019-01-05</td>\n    </tr>\n    <tr>\n      <th>4</th>\n      <td>-0.000018</td>\n      <td>Bibile, Monaragala</td>\n      <td>2019-01-05</td>\n      <td>2019-01-06</td>\n    </tr>\n    <tr>\n      <th>...</th>\n      <td>...</td>\n      <td>...</td>\n      <td>...</td>\n      <td>...</td>\n    </tr>\n    <tr>\n      <th>1821</th>\n      <td>NaN</td>\n      <td>Bibile, Monaragala</td>\n      <td>2023-12-27</td>\n      <td>2023-12-28</td>\n    </tr>\n    <tr>\n      <th>1822</th>\n      <td>NaN</td>\n      <td>Bibile, Monaragala</td>\n      <td>2023-12-28</td>\n      <td>2023-12-29</td>\n    </tr>\n    <tr>\n      <th>1823</th>\n      <td>NaN</td>\n      <td>Bibile, Monaragala</td>\n      <td>2023-12-29</td>\n      <td>2023-12-30</td>\n    </tr>\n    <tr>\n      <th>1824</th>\n      <td>NaN</td>\n      <td>Bibile, Monaragala</td>\n      <td>2023-12-30</td>\n      <td>2023-12-31</td>\n    </tr>\n    <tr>\n      <th>1825</th>\n      <td>NaN</td>\n      <td>Bibile, Monaragala</td>\n      <td>2023-12-31</td>\n      <td>2024-01-01</td>\n    </tr>\n  </tbody>\n</table>\n<p>1826 rows × 4 columns</p>\n</div>"
     },
     "execution_count": 237,
     "metadata": {},
     "output_type": "execute_result"
    }
   ],
   "source": [
    "bibile_df"
   ],
   "metadata": {
    "collapsed": false,
    "ExecuteTime": {
     "end_time": "2024-04-14T15:10:57.193509700Z",
     "start_time": "2024-04-14T15:10:56.993836100Z"
    }
   },
   "id": "6c34ab8673ef6d1a"
  },
  {
   "cell_type": "code",
   "execution_count": 238,
   "outputs": [
    {
     "data": {
      "text/plain": "      HCHO reading           Location Current Date   Next Date\n1826      0.000088  Kurunegala Proper   2019-01-01  2019-01-02\n1827      0.000137  Kurunegala Proper   2019-01-02  2019-01-03\n1828      0.000148  Kurunegala Proper   2019-01-03  2019-01-04\n1829     -0.000002  Kurunegala Proper   2019-01-04  2019-01-05\n1830      0.000249  Kurunegala Proper   2019-01-05  2019-01-06\n...            ...                ...          ...         ...\n3647      0.000075  Kurunegala Proper   2023-12-27  2023-12-28\n3648           NaN  Kurunegala Proper   2023-12-28  2023-12-29\n3649           NaN  Kurunegala Proper   2023-12-29  2023-12-30\n3650      0.000158  Kurunegala Proper   2023-12-30  2023-12-31\n3651           NaN  Kurunegala Proper   2023-12-31  2024-01-01\n\n[1826 rows x 4 columns]",
      "text/html": "<div>\n<style scoped>\n    .dataframe tbody tr th:only-of-type {\n        vertical-align: middle;\n    }\n\n    .dataframe tbody tr th {\n        vertical-align: top;\n    }\n\n    .dataframe thead th {\n        text-align: right;\n    }\n</style>\n<table border=\"1\" class=\"dataframe\">\n  <thead>\n    <tr style=\"text-align: right;\">\n      <th></th>\n      <th>HCHO reading</th>\n      <th>Location</th>\n      <th>Current Date</th>\n      <th>Next Date</th>\n    </tr>\n  </thead>\n  <tbody>\n    <tr>\n      <th>1826</th>\n      <td>0.000088</td>\n      <td>Kurunegala Proper</td>\n      <td>2019-01-01</td>\n      <td>2019-01-02</td>\n    </tr>\n    <tr>\n      <th>1827</th>\n      <td>0.000137</td>\n      <td>Kurunegala Proper</td>\n      <td>2019-01-02</td>\n      <td>2019-01-03</td>\n    </tr>\n    <tr>\n      <th>1828</th>\n      <td>0.000148</td>\n      <td>Kurunegala Proper</td>\n      <td>2019-01-03</td>\n      <td>2019-01-04</td>\n    </tr>\n    <tr>\n      <th>1829</th>\n      <td>-0.000002</td>\n      <td>Kurunegala Proper</td>\n      <td>2019-01-04</td>\n      <td>2019-01-05</td>\n    </tr>\n    <tr>\n      <th>1830</th>\n      <td>0.000249</td>\n      <td>Kurunegala Proper</td>\n      <td>2019-01-05</td>\n      <td>2019-01-06</td>\n    </tr>\n    <tr>\n      <th>...</th>\n      <td>...</td>\n      <td>...</td>\n      <td>...</td>\n      <td>...</td>\n    </tr>\n    <tr>\n      <th>3647</th>\n      <td>0.000075</td>\n      <td>Kurunegala Proper</td>\n      <td>2023-12-27</td>\n      <td>2023-12-28</td>\n    </tr>\n    <tr>\n      <th>3648</th>\n      <td>NaN</td>\n      <td>Kurunegala Proper</td>\n      <td>2023-12-28</td>\n      <td>2023-12-29</td>\n    </tr>\n    <tr>\n      <th>3649</th>\n      <td>NaN</td>\n      <td>Kurunegala Proper</td>\n      <td>2023-12-29</td>\n      <td>2023-12-30</td>\n    </tr>\n    <tr>\n      <th>3650</th>\n      <td>0.000158</td>\n      <td>Kurunegala Proper</td>\n      <td>2023-12-30</td>\n      <td>2023-12-31</td>\n    </tr>\n    <tr>\n      <th>3651</th>\n      <td>NaN</td>\n      <td>Kurunegala Proper</td>\n      <td>2023-12-31</td>\n      <td>2024-01-01</td>\n    </tr>\n  </tbody>\n</table>\n<p>1826 rows × 4 columns</p>\n</div>"
     },
     "execution_count": 238,
     "metadata": {},
     "output_type": "execute_result"
    }
   ],
   "source": [
    "kurunegala_df"
   ],
   "metadata": {
    "collapsed": false,
    "ExecuteTime": {
     "end_time": "2024-04-14T15:10:57.321218300Z",
     "start_time": "2024-04-14T15:10:57.170958200Z"
    }
   },
   "id": "b4285b203991e568"
  },
  {
   "cell_type": "code",
   "execution_count": 239,
   "outputs": [
    {
     "data": {
      "text/plain": "HCHO reading    487\nLocation          0\nCurrent Date      0\nNext Date         0\ndtype: int64"
     },
     "execution_count": 239,
     "metadata": {},
     "output_type": "execute_result"
    }
   ],
   "source": [
    "colombo_df.isnull().sum()"
   ],
   "metadata": {
    "collapsed": false,
    "ExecuteTime": {
     "end_time": "2024-04-14T15:10:57.400796800Z",
     "start_time": "2024-04-14T15:10:57.279988900Z"
    }
   },
   "id": "1e9c67166c9811fe"
  },
  {
   "cell_type": "code",
   "execution_count": 240,
   "outputs": [
    {
     "name": "stderr",
     "output_type": "stream",
     "text": [
      "C:\\Users\\ASUS TUF\\AppData\\Local\\Temp\\ipykernel_4220\\3565745044.py:3: SettingWithCopyWarning: \n",
      "A value is trying to be set on a copy of a slice from a DataFrame\n",
      "\n",
      "See the caveats in the documentation: https://pandas.pydata.org/pandas-docs/stable/user_guide/indexing.html#returning-a-view-versus-a-copy\n",
      "  colombo_df['HCHO reading'].fillna(colombo_df_mode_value, inplace=True)\n"
     ]
    }
   ],
   "source": [
    "#Filling null values using mode method\n",
    "colombo_df_mode_value = colombo_df[\"HCHO reading\"].fillna(method='bfill').fillna(method='ffill')\n",
    "colombo_df['HCHO reading'].fillna(colombo_df_mode_value, inplace=True)"
   ],
   "metadata": {
    "collapsed": false,
    "ExecuteTime": {
     "end_time": "2024-04-14T15:10:57.501386400Z",
     "start_time": "2024-04-14T15:10:57.360773400Z"
    }
   },
   "id": "37c60a8cbd771718"
  },
  {
   "cell_type": "code",
   "execution_count": 241,
   "outputs": [
    {
     "data": {
      "text/plain": "HCHO reading    0\nLocation        0\nCurrent Date    0\nNext Date       0\ndtype: int64"
     },
     "execution_count": 241,
     "metadata": {},
     "output_type": "execute_result"
    }
   ],
   "source": [
    "colombo_df.isnull().sum()"
   ],
   "metadata": {
    "collapsed": false,
    "ExecuteTime": {
     "end_time": "2024-04-14T15:10:57.599495200Z",
     "start_time": "2024-04-14T15:10:57.482364400Z"
    }
   },
   "id": "b30d921d1123fce2"
  },
  {
   "cell_type": "code",
   "execution_count": 242,
   "outputs": [
    {
     "data": {
      "text/plain": "HCHO reading    365\nLocation          0\nCurrent Date      0\nNext Date         0\ndtype: int64"
     },
     "execution_count": 242,
     "metadata": {},
     "output_type": "execute_result"
    }
   ],
   "source": [
    "jaffna_df.isnull().sum()"
   ],
   "metadata": {
    "collapsed": false,
    "ExecuteTime": {
     "end_time": "2024-04-14T15:10:57.688064700Z",
     "start_time": "2024-04-14T15:10:57.606013100Z"
    }
   },
   "id": "216e87676147848b"
  },
  {
   "cell_type": "code",
   "execution_count": 243,
   "outputs": [
    {
     "name": "stderr",
     "output_type": "stream",
     "text": [
      "C:\\Users\\ASUS TUF\\AppData\\Local\\Temp\\ipykernel_4220\\3096387436.py:2: SettingWithCopyWarning: \n",
      "A value is trying to be set on a copy of a slice from a DataFrame\n",
      "\n",
      "See the caveats in the documentation: https://pandas.pydata.org/pandas-docs/stable/user_guide/indexing.html#returning-a-view-versus-a-copy\n",
      "  jaffna_df['HCHO reading'].fillna(jaffna_mode_value, inplace=True)\n"
     ]
    }
   ],
   "source": [
    "jaffna_mode_value = jaffna_df[\"HCHO reading\"].fillna(method='bfill').fillna(method='ffill')\n",
    "jaffna_df['HCHO reading'].fillna(jaffna_mode_value, inplace=True)"
   ],
   "metadata": {
    "collapsed": false,
    "ExecuteTime": {
     "end_time": "2024-04-14T15:10:57.711088100Z",
     "start_time": "2024-04-14T15:10:57.651381800Z"
    }
   },
   "id": "798c5c5aeaff0d77"
  },
  {
   "cell_type": "code",
   "execution_count": 244,
   "outputs": [
    {
     "data": {
      "text/plain": "HCHO reading    0\nLocation        0\nCurrent Date    0\nNext Date       0\ndtype: int64"
     },
     "execution_count": 244,
     "metadata": {},
     "output_type": "execute_result"
    }
   ],
   "source": [
    "jaffna_df.isnull().sum()"
   ],
   "metadata": {
    "collapsed": false,
    "ExecuteTime": {
     "end_time": "2024-04-14T15:10:57.761588700Z",
     "start_time": "2024-04-14T15:10:57.696577700Z"
    }
   },
   "id": "f87c4fc663d9c095"
  },
  {
   "cell_type": "code",
   "execution_count": 245,
   "outputs": [
    {
     "data": {
      "text/plain": "HCHO reading    793\nLocation          0\nCurrent Date      0\nNext Date         0\ndtype: int64"
     },
     "execution_count": 245,
     "metadata": {},
     "output_type": "execute_result"
    }
   ],
   "source": [
    "kandy_df.isnull().sum()"
   ],
   "metadata": {
    "collapsed": false,
    "ExecuteTime": {
     "end_time": "2024-04-14T15:10:57.766602900Z",
     "start_time": "2024-04-14T15:10:57.719381600Z"
    }
   },
   "id": "cc889a70987910d3"
  },
  {
   "cell_type": "code",
   "execution_count": 246,
   "outputs": [
    {
     "name": "stderr",
     "output_type": "stream",
     "text": [
      "C:\\Users\\ASUS TUF\\AppData\\Local\\Temp\\ipykernel_4220\\3838777035.py:2: SettingWithCopyWarning: \n",
      "A value is trying to be set on a copy of a slice from a DataFrame\n",
      "\n",
      "See the caveats in the documentation: https://pandas.pydata.org/pandas-docs/stable/user_guide/indexing.html#returning-a-view-versus-a-copy\n",
      "  kandy_df['HCHO reading'].fillna(kandy_mode_value, inplace=True)\n"
     ]
    }
   ],
   "source": [
    "kandy_mode_value = kandy_df[\"HCHO reading\"].fillna(method='bfill').fillna(method='ffill')\n",
    "kandy_df['HCHO reading'].fillna(kandy_mode_value, inplace=True)"
   ],
   "metadata": {
    "collapsed": false,
    "ExecuteTime": {
     "end_time": "2024-04-14T15:10:57.811001800Z",
     "start_time": "2024-04-14T15:10:57.770602Z"
    }
   },
   "id": "3a80141012b00036"
  },
  {
   "cell_type": "code",
   "execution_count": 247,
   "outputs": [
    {
     "data": {
      "text/plain": "HCHO reading    0\nLocation        0\nCurrent Date    0\nNext Date       0\ndtype: int64"
     },
     "execution_count": 247,
     "metadata": {},
     "output_type": "execute_result"
    }
   ],
   "source": [
    "kandy_df.isnull().sum()"
   ],
   "metadata": {
    "collapsed": false,
    "ExecuteTime": {
     "end_time": "2024-04-14T15:10:57.856731700Z",
     "start_time": "2024-04-14T15:10:57.795487800Z"
    }
   },
   "id": "79dc476539aa50d5"
  },
  {
   "cell_type": "code",
   "execution_count": 248,
   "outputs": [
    {
     "data": {
      "text/plain": "HCHO reading    1085\nLocation           0\nCurrent Date       0\nNext Date          0\ndtype: int64"
     },
     "execution_count": 248,
     "metadata": {},
     "output_type": "execute_result"
    }
   ],
   "source": [
    "nuwaraEliya_df.isnull().sum()"
   ],
   "metadata": {
    "collapsed": false,
    "ExecuteTime": {
     "end_time": "2024-04-14T15:10:57.894304Z",
     "start_time": "2024-04-14T15:10:57.859728500Z"
    }
   },
   "id": "f0415daa69c593b8"
  },
  {
   "cell_type": "code",
   "execution_count": 249,
   "outputs": [
    {
     "name": "stderr",
     "output_type": "stream",
     "text": [
      "C:\\Users\\ASUS TUF\\AppData\\Local\\Temp\\ipykernel_4220\\2630545475.py:2: SettingWithCopyWarning: \n",
      "A value is trying to be set on a copy of a slice from a DataFrame\n",
      "\n",
      "See the caveats in the documentation: https://pandas.pydata.org/pandas-docs/stable/user_guide/indexing.html#returning-a-view-versus-a-copy\n",
      "  nuwaraEliya_df['HCHO reading'].fillna(nuwaraEliya_mode_value, inplace = True)\n"
     ]
    }
   ],
   "source": [
    "nuwaraEliya_mode_value = nuwaraEliya_df[\"HCHO reading\"].fillna(method='bfill').fillna(method='ffill')\n",
    "nuwaraEliya_df['HCHO reading'].fillna(nuwaraEliya_mode_value, inplace = True)"
   ],
   "metadata": {
    "collapsed": false,
    "ExecuteTime": {
     "end_time": "2024-04-14T15:10:57.927070200Z",
     "start_time": "2024-04-14T15:10:57.879257500Z"
    }
   },
   "id": "2333ef5454e559cc"
  },
  {
   "cell_type": "code",
   "execution_count": 250,
   "outputs": [
    {
     "data": {
      "text/plain": "HCHO reading    0\nLocation        0\nCurrent Date    0\nNext Date       0\ndtype: int64"
     },
     "execution_count": 250,
     "metadata": {},
     "output_type": "execute_result"
    }
   ],
   "source": [
    "nuwaraEliya_df.isnull().sum()"
   ],
   "metadata": {
    "collapsed": false,
    "ExecuteTime": {
     "end_time": "2024-04-14T15:10:57.964811200Z",
     "start_time": "2024-04-14T15:10:57.904813800Z"
    }
   },
   "id": "87d84b917597f853"
  },
  {
   "cell_type": "code",
   "execution_count": 251,
   "outputs": [
    {
     "data": {
      "text/plain": "HCHO reading    695\nLocation          0\nCurrent Date      0\nNext Date         0\ndtype: int64"
     },
     "execution_count": 251,
     "metadata": {},
     "output_type": "execute_result"
    }
   ],
   "source": [
    "bibile_df.isnull().sum()"
   ],
   "metadata": {
    "collapsed": false,
    "ExecuteTime": {
     "end_time": "2024-04-14T15:10:58.005018900Z",
     "start_time": "2024-04-14T15:10:57.967812700Z"
    }
   },
   "id": "5b2be70a5709ee15"
  },
  {
   "cell_type": "code",
   "execution_count": 252,
   "outputs": [
    {
     "name": "stderr",
     "output_type": "stream",
     "text": [
      "C:\\Users\\ASUS TUF\\AppData\\Local\\Temp\\ipykernel_4220\\2566195689.py:2: SettingWithCopyWarning: \n",
      "A value is trying to be set on a copy of a slice from a DataFrame\n",
      "\n",
      "See the caveats in the documentation: https://pandas.pydata.org/pandas-docs/stable/user_guide/indexing.html#returning-a-view-versus-a-copy\n",
      "  bibile_df['HCHO reading'].fillna(bibille_mode_value, inplace = True)\n"
     ]
    }
   ],
   "source": [
    "bibille_mode_value = bibile_df[\"HCHO reading\"].fillna(method='bfill').fillna(method='ffill')\n",
    "bibile_df['HCHO reading'].fillna(bibille_mode_value, inplace = True)"
   ],
   "metadata": {
    "collapsed": false,
    "ExecuteTime": {
     "end_time": "2024-04-14T15:10:58.043665300Z",
     "start_time": "2024-04-14T15:10:57.995000400Z"
    }
   },
   "id": "c443511a210e5212"
  },
  {
   "cell_type": "code",
   "execution_count": 253,
   "outputs": [
    {
     "data": {
      "text/plain": "HCHO reading    0\nLocation        0\nCurrent Date    0\nNext Date       0\ndtype: int64"
     },
     "execution_count": 253,
     "metadata": {},
     "output_type": "execute_result"
    }
   ],
   "source": [
    "bibile_df.isnull().sum()"
   ],
   "metadata": {
    "collapsed": false,
    "ExecuteTime": {
     "end_time": "2024-04-14T15:10:58.059182100Z",
     "start_time": "2024-04-14T15:10:58.034153200Z"
    }
   },
   "id": "fd8acdff2d682bb"
  },
  {
   "cell_type": "code",
   "execution_count": 254,
   "outputs": [
    {
     "data": {
      "text/plain": "HCHO reading    847\nLocation          0\nCurrent Date      0\nNext Date         0\ndtype: int64"
     },
     "execution_count": 254,
     "metadata": {},
     "output_type": "execute_result"
    }
   ],
   "source": [
    "deniyaya_df.isnull().sum()"
   ],
   "metadata": {
    "collapsed": false,
    "ExecuteTime": {
     "end_time": "2024-04-14T15:10:58.090740300Z",
     "start_time": "2024-04-14T15:10:58.052188700Z"
    }
   },
   "id": "5868b44d7ae12c8d"
  },
  {
   "cell_type": "code",
   "execution_count": 255,
   "outputs": [
    {
     "name": "stderr",
     "output_type": "stream",
     "text": [
      "C:\\Users\\ASUS TUF\\AppData\\Local\\Temp\\ipykernel_4220\\3225443557.py:2: SettingWithCopyWarning: \n",
      "A value is trying to be set on a copy of a slice from a DataFrame\n",
      "\n",
      "See the caveats in the documentation: https://pandas.pydata.org/pandas-docs/stable/user_guide/indexing.html#returning-a-view-versus-a-copy\n",
      "  deniyaya_df[\"HCHO reading\"].fillna(deniyaya_mode_value, inplace = True)\n"
     ]
    }
   ],
   "source": [
    "deniyaya_mode_value =deniyaya_df[\"HCHO reading\"].fillna(method='bfill').fillna(method='ffill')\n",
    "deniyaya_df[\"HCHO reading\"].fillna(deniyaya_mode_value, inplace = True)"
   ],
   "metadata": {
    "collapsed": false,
    "ExecuteTime": {
     "end_time": "2024-04-14T15:10:58.108893300Z",
     "start_time": "2024-04-14T15:10:58.067693500Z"
    }
   },
   "id": "b9bc263d6c6c4ecb"
  },
  {
   "cell_type": "code",
   "execution_count": 256,
   "outputs": [
    {
     "data": {
      "text/plain": "HCHO reading    0\nLocation        0\nCurrent Date    0\nNext Date       0\ndtype: int64"
     },
     "execution_count": 256,
     "metadata": {},
     "output_type": "execute_result"
    }
   ],
   "source": [
    "deniyaya_df.isnull().sum()"
   ],
   "metadata": {
    "collapsed": false,
    "ExecuteTime": {
     "end_time": "2024-04-14T15:10:58.140669200Z",
     "start_time": "2024-04-14T15:10:58.102893800Z"
    }
   },
   "id": "97bfa19066f47ac5"
  },
  {
   "cell_type": "code",
   "execution_count": 257,
   "outputs": [
    {
     "data": {
      "text/plain": "HCHO reading    592\nLocation          0\nCurrent Date      0\nNext Date         0\ndtype: int64"
     },
     "execution_count": 257,
     "metadata": {},
     "output_type": "execute_result"
    }
   ],
   "source": [
    "kurunegala_df.isnull().sum()"
   ],
   "metadata": {
    "collapsed": false,
    "ExecuteTime": {
     "end_time": "2024-04-14T15:10:58.184874900Z",
     "start_time": "2024-04-14T15:10:58.138161800Z"
    }
   },
   "id": "aeaae5e4ed9950e8"
  },
  {
   "cell_type": "code",
   "execution_count": 258,
   "outputs": [
    {
     "name": "stderr",
     "output_type": "stream",
     "text": [
      "C:\\Users\\ASUS TUF\\AppData\\Local\\Temp\\ipykernel_4220\\445054732.py:2: SettingWithCopyWarning: \n",
      "A value is trying to be set on a copy of a slice from a DataFrame\n",
      "\n",
      "See the caveats in the documentation: https://pandas.pydata.org/pandas-docs/stable/user_guide/indexing.html#returning-a-view-versus-a-copy\n",
      "  kurunegala_df[\"HCHO reading\"].fillna(kurunegala_mode_value,inplace = True)\n"
     ]
    }
   ],
   "source": [
    "kurunegala_mode_value =kurunegala_df[\"HCHO reading\"].fillna(method='bfill').fillna(method='ffill')\n",
    "kurunegala_df[\"HCHO reading\"].fillna(kurunegala_mode_value,inplace = True)"
   ],
   "metadata": {
    "collapsed": false,
    "ExecuteTime": {
     "end_time": "2024-04-14T15:10:58.199385Z",
     "start_time": "2024-04-14T15:10:58.176733600Z"
    }
   },
   "id": "ad9fa8c1f46927ae"
  },
  {
   "cell_type": "code",
   "execution_count": 259,
   "outputs": [
    {
     "data": {
      "text/plain": "HCHO reading    0\nLocation        0\nCurrent Date    0\nNext Date       0\ndtype: int64"
     },
     "execution_count": 259,
     "metadata": {},
     "output_type": "execute_result"
    }
   ],
   "source": [
    "kurunegala_df.isnull().sum()"
   ],
   "metadata": {
    "collapsed": false,
    "ExecuteTime": {
     "end_time": "2024-04-14T15:10:58.233971700Z",
     "start_time": "2024-04-14T15:10:58.192388Z"
    }
   },
   "id": "e7381527010b044f"
  },
  {
   "cell_type": "code",
   "execution_count": 260,
   "outputs": [
    {
     "data": {
      "text/plain": "<Figure size 800x600 with 1 Axes>",
      "image/png": "[encoded data removed]"
     },
     "metadata": {},
     "output_type": "display_data"
    }
   ],
   "source": [
    "import matplotlib.pyplot as plt\n",
    "plt.figure(figsize=(8, 6))\n",
    "plt.boxplot(colombo_df['HCHO reading'])\n",
    "plt.title('Box plot of colombo reading')\n",
    "plt.xlabel('HCHO reading')\n",
    "plt.ylabel('Values')\n",
    "plt.show()"
   ],
   "metadata": {
    "collapsed": false,
    "ExecuteTime": {
     "end_time": "2024-04-14T15:10:58.382923600Z",
     "start_time": "2024-04-14T15:10:58.207896500Z"
    }
   },
   "id": "b7ff6461d241d03f"
  },
  {
   "cell_type": "code",
   "execution_count": 261,
   "outputs": [
    {
     "data": {
      "text/plain": "<Figure size 800x600 with 1 Axes>",
      "image/png": "[encoded data removed]"
     },
     "metadata": {},
     "output_type": "display_data"
    }
   ],
   "source": [
    "plt.figure(figsize=(8, 6))\n",
    "plt.boxplot(kandy_df['HCHO reading'])\n",
    "plt.title('Box plot of Kandy reading')\n",
    "plt.xlabel('HCHO reading')\n",
    "plt.ylabel('Values')\n",
    "plt.show()"
   ],
   "metadata": {
    "collapsed": false,
    "ExecuteTime": {
     "end_time": "2024-04-14T15:10:58.481499Z",
     "start_time": "2024-04-14T15:10:58.311000700Z"
    }
   },
   "id": "4b5111bf1f9fb304"
  },
  {
   "cell_type": "code",
   "execution_count": 262,
   "outputs": [
    {
     "data": {
      "text/plain": "<Figure size 800x600 with 1 Axes>",
      "image/png": "[encoded data removed]"
     },
     "metadata": {},
     "output_type": "display_data"
    }
   ],
   "source": [
    "plt.figure(figsize=(8, 6))\n",
    "plt.boxplot(deniyaya_df['HCHO reading'])\n",
    "plt.title('Box plot of Deniyaya reading')\n",
    "plt.xlabel('HCHO reading')\n",
    "plt.ylabel('Values')\n",
    "plt.show()"
   ],
   "metadata": {
    "collapsed": false,
    "ExecuteTime": {
     "end_time": "2024-04-14T15:10:58.551660900Z",
     "start_time": "2024-04-14T15:10:58.418787900Z"
    }
   },
   "id": "1968082e7033989"
  },
  {
   "cell_type": "code",
   "execution_count": 263,
   "outputs": [
    {
     "name": "stdout",
     "output_type": "stream",
     "text": [
      "Upper bound within the boxplot: 0.0002964527594232\n"
     ]
    }
   ],
   "source": [
    "# Upper Bound and lower bound of the Dataset\n",
    "# Calculate Q1, Q3, and IQR\n",
    "Q1 = deniyaya_df['HCHO reading'].quantile(0.25)\n",
    "Q3 = deniyaya_df['HCHO reading'].quantile(0.75)\n",
    "IQR = Q3 - Q1\n",
    "\n",
    "# Compute upper whisker and lower whisker value\n",
    "upper_whisker = Q3 + 1.5 * IQR\n",
    "lower_whisker = Q1 - 1.5 * IQR\n",
    "# Find the highest data point within the upper whisker range\n",
    "upper_bound_data = deniyaya_df['HCHO reading'][deniyaya_df['HCHO reading'] <= upper_whisker].max()\n",
    "\n",
    "print(\"Upper bound within the boxplot:\", upper_bound_data)"
   ],
   "metadata": {
    "collapsed": false,
    "ExecuteTime": {
     "end_time": "2024-04-14T15:10:58.552664800Z",
     "start_time": "2024-04-14T15:10:58.529119300Z"
    }
   },
   "id": "ed1821adb82cb939"
  },
  {
   "cell_type": "code",
   "execution_count": 264,
   "outputs": [],
   "source": [
    "deniyaya_df = deniyaya_df.drop(deniyaya_df[(deniyaya_df['HCHO reading'] >= 0.0005638530012409)].index)"
   ],
   "metadata": {
    "collapsed": false,
    "ExecuteTime": {
     "end_time": "2024-04-14T15:10:58.570685800Z",
     "start_time": "2024-04-14T15:10:58.544150900Z"
    }
   },
   "id": "43fd5592d1a4996f"
  },
  {
   "cell_type": "code",
   "execution_count": 265,
   "outputs": [
    {
     "data": {
      "text/plain": "<Figure size 800x600 with 1 Axes>",
      "image/png": "[encoded data removed]"
     },
     "metadata": {},
     "output_type": "display_data"
    }
   ],
   "source": [
    "plt.figure(figsize=(8, 6))\n",
    "plt.boxplot(deniyaya_df['HCHO reading'])\n",
    "plt.title('Box plot of Deniyaya reading')\n",
    "plt.xlabel('HCHO reading')\n",
    "plt.ylabel('Values')\n",
    "plt.show()"
   ],
   "metadata": {
    "collapsed": false,
    "ExecuteTime": {
     "end_time": "2024-04-14T15:10:58.686973400Z",
     "start_time": "2024-04-14T15:10:58.558660900Z"
    }
   },
   "id": "931f084caa9485e3"
  },
  {
   "cell_type": "code",
   "execution_count": 266,
   "outputs": [
    {
     "data": {
      "text/plain": "<Figure size 800x600 with 1 Axes>",
      "image/png": "[encoded data removed]"
     },
     "metadata": {},
     "output_type": "display_data"
    }
   ],
   "source": [
    "plt.figure(figsize=(8, 6))\n",
    "plt.boxplot(kurunegala_df['HCHO reading'])\n",
    "plt.title('Box plot of Kurunegala reading')\n",
    "plt.xlabel('HCHO reading')\n",
    "plt.ylabel('Values')\n",
    "plt.show()"
   ],
   "metadata": {
    "collapsed": false,
    "ExecuteTime": {
     "end_time": "2024-04-14T15:10:58.827313200Z",
     "start_time": "2024-04-14T15:10:58.684970300Z"
    }
   },
   "id": "5d930f27fbfcd80"
  },
  {
   "cell_type": "code",
   "execution_count": 267,
   "outputs": [
    {
     "data": {
      "text/plain": "<Figure size 800x600 with 1 Axes>",
      "image/png": "[encoded data removed]"
     },
     "metadata": {},
     "output_type": "display_data"
    }
   ],
   "source": [
    "plt.figure(figsize=(8, 6))\n",
    "plt.boxplot(nuwaraEliya_df['HCHO reading'])\n",
    "plt.title('Box plot of NuwaraEliya reading')\n",
    "plt.xlabel('HCHO reading')\n",
    "plt.ylabel('Values')\n",
    "plt.show()"
   ],
   "metadata": {
    "collapsed": false,
    "ExecuteTime": {
     "end_time": "2024-04-14T15:10:58.923984500Z",
     "start_time": "2024-04-14T15:10:58.809412100Z"
    }
   },
   "id": "6073b156e6707bb9"
  },
  {
   "cell_type": "code",
   "execution_count": 268,
   "outputs": [
    {
     "name": "stdout",
     "output_type": "stream",
     "text": [
      "Upper bound within the boxplot: 0.0002771661984116\n"
     ]
    }
   ],
   "source": [
    "# Upper Bound and lower bound of the Dataset\n",
    "# Calculate Q1, Q3, and IQR\n",
    "Q1 = nuwaraEliya_df['HCHO reading'].quantile(0.25)\n",
    "Q3 = nuwaraEliya_df['HCHO reading'].quantile(0.75)\n",
    "IQR = Q3 - Q1\n",
    "\n",
    "# Compute upper whisker and lower whisker value\n",
    "upper_whisker = Q3 + 1.5 * IQR\n",
    "lower_whisker = Q1 - 1.5 * IQR\n",
    "# Find the highest data point within the upper whisker range\n",
    "upper_bound_data = nuwaraEliya_df['HCHO reading'][nuwaraEliya_df['HCHO reading'] <= upper_whisker].max()\n",
    "\n",
    "\n",
    "print(\"Upper bound within the boxplot:\", upper_bound_data)"
   ],
   "metadata": {
    "collapsed": false,
    "ExecuteTime": {
     "end_time": "2024-04-14T15:10:58.935494500Z",
     "start_time": "2024-04-14T15:10:58.919467Z"
    }
   },
   "id": "d35a1a2e76c54d7a"
  },
  {
   "cell_type": "code",
   "execution_count": 269,
   "outputs": [],
   "source": [
    "nuwaraEliya_df = nuwaraEliya_df.drop(nuwaraEliya_df[(nuwaraEliya_df['HCHO reading'] >= 0.0003689670671425)].index)"
   ],
   "metadata": {
    "collapsed": false,
    "ExecuteTime": {
     "end_time": "2024-04-14T15:10:59.004123800Z",
     "start_time": "2024-04-14T15:10:58.936494300Z"
    }
   },
   "id": "607c4dd1a51a5657"
  },
  {
   "cell_type": "code",
   "execution_count": 270,
   "outputs": [
    {
     "data": {
      "text/plain": "<Figure size 800x600 with 1 Axes>",
      "image/png": "[encoded data removed]"
     },
     "metadata": {},
     "output_type": "display_data"
    }
   ],
   "source": [
    "plt.figure(figsize=(8, 6))\n",
    "plt.boxplot(nuwaraEliya_df['HCHO reading'])\n",
    "plt.title('Box plot of NuwaraEliya reading')\n",
    "plt.xlabel('HCHO reading')\n",
    "plt.ylabel('Values')\n",
    "plt.show()"
   ],
   "metadata": {
    "collapsed": false,
    "ExecuteTime": {
     "end_time": "2024-04-14T15:10:59.061749Z",
     "start_time": "2024-04-14T15:10:58.951012500Z"
    }
   },
   "id": "b57d7925c807db49"
  },
  {
   "cell_type": "code",
   "execution_count": 271,
   "outputs": [
    {
     "data": {
      "text/plain": "<Figure size 800x600 with 1 Axes>",
      "image/png": "[encoded data removed]"
     },
     "metadata": {},
     "output_type": "display_data"
    }
   ],
   "source": [
    "plt.figure(figsize=(8, 6))\n",
    "plt.boxplot(jaffna_df['HCHO reading'])\n",
    "plt.title('Box plot of Jaffna reading')\n",
    "plt.xlabel('HCHO reading')\n",
    "plt.ylabel('Values')\n",
    "plt.show()"
   ],
   "metadata": {
    "collapsed": false,
    "ExecuteTime": {
     "end_time": "2024-04-14T15:10:59.169463500Z",
     "start_time": "2024-04-14T15:10:59.060742200Z"
    }
   },
   "id": "7b27c99c168cabe9"
  },
  {
   "cell_type": "code",
   "execution_count": 272,
   "outputs": [
    {
     "name": "stdout",
     "output_type": "stream",
     "text": [
      "Upper bound within the boxplot: 0.0002729933174109\n",
      "Lower bound within the boxplot: -6.91114370543075e-05\n"
     ]
    }
   ],
   "source": [
    "# Upper Bound and lower bound of the Dataset\n",
    "# Calculate Q1, Q3, and IQR\n",
    "Q1 = jaffna_df['HCHO reading'].quantile(0.25)\n",
    "Q3 = jaffna_df['HCHO reading'].quantile(0.75)\n",
    "IQR = Q3 - Q1\n",
    "\n",
    "# Compute upper whisker and lower whisker value\n",
    "upper_whisker = Q3 + 1.5 * IQR\n",
    "lower_whisker = Q1 - 1.5 * IQR\n",
    "# Find the highest data point within the upper whisker range\n",
    "upper_bound_data = jaffna_df['HCHO reading'][jaffna_df['HCHO reading'] <= upper_whisker].max()\n",
    "# Find the lowest data point within the lower whisker range\n",
    "lower_bound_data = jaffna_df['HCHO reading'][jaffna_df['HCHO reading'] >= lower_whisker].min()\n",
    "\n",
    "print(\"Upper bound within the boxplot:\", upper_bound_data)\n",
    "print(\"Lower bound within the boxplot:\", lower_bound_data)"
   ],
   "metadata": {
    "collapsed": false,
    "ExecuteTime": {
     "end_time": "2024-04-14T15:10:59.239339500Z",
     "start_time": "2024-04-14T15:10:59.169463500Z"
    }
   },
   "id": "acff656e28dd84ca"
  },
  {
   "cell_type": "code",
   "execution_count": 273,
   "outputs": [],
   "source": [
    "jaffna_df = jaffna_df.drop(jaffna_df[(jaffna_df['HCHO reading'] >= 0.000307007082162)].index)\n",
    "jaffna_df = jaffna_df.drop(jaffna_df[(jaffna_df['HCHO reading'] <= -0.0001409249825353)].index)"
   ],
   "metadata": {
    "collapsed": false,
    "ExecuteTime": {
     "end_time": "2024-04-14T15:10:59.243854800Z",
     "start_time": "2024-04-14T15:10:59.185031200Z"
    }
   },
   "id": "b7a5d5fab0a2a5e6"
  },
  {
   "cell_type": "code",
   "execution_count": 274,
   "outputs": [
    {
     "data": {
      "text/plain": "<Figure size 800x600 with 1 Axes>",
      "image/png": "[encoded data removed]"
     },
     "metadata": {},
     "output_type": "display_data"
    }
   ],
   "source": [
    "plt.figure(figsize=(8, 6))\n",
    "plt.boxplot(jaffna_df['HCHO reading'])\n",
    "plt.title('Box plot of Jaffna reading')\n",
    "plt.xlabel('HCHO reading')\n",
    "plt.ylabel('Values')\n",
    "plt.show()"
   ],
   "metadata": {
    "collapsed": false,
    "ExecuteTime": {
     "end_time": "2024-04-14T15:10:59.315865700Z",
     "start_time": "2024-04-14T15:10:59.199541300Z"
    }
   },
   "id": "21b1a6fde6e9ed08"
  },
  {
   "cell_type": "code",
   "execution_count": 275,
   "outputs": [
    {
     "data": {
      "text/plain": "<Figure size 800x600 with 1 Axes>",
      "image/png": "[encoded data removed]"
     },
     "metadata": {},
     "output_type": "display_data"
    }
   ],
   "source": [
    "plt.figure(figsize=(8, 6))\n",
    "plt.boxplot(bibile_df['HCHO reading'])\n",
    "plt.title('Box plot of Bible reading')\n",
    "plt.xlabel('HCHO reading')\n",
    "plt.ylabel('Values')\n",
    "plt.show()"
   ],
   "metadata": {
    "collapsed": false,
    "ExecuteTime": {
     "end_time": "2024-04-14T15:10:59.407729600Z",
     "start_time": "2024-04-14T15:10:59.296957600Z"
    }
   },
   "id": "acb065a1b3433d00"
  },
  {
   "cell_type": "code",
   "execution_count": 276,
   "outputs": [
    {
     "data": {
      "text/plain": "0"
     },
     "execution_count": 276,
     "metadata": {},
     "output_type": "execute_result"
    }
   ],
   "source": [
    "colombo_df[\"Current Date\"].duplicated().sum()"
   ],
   "metadata": {
    "collapsed": false,
    "ExecuteTime": {
     "end_time": "2024-04-14T15:10:59.419246400Z",
     "start_time": "2024-04-14T15:10:59.402722700Z"
    }
   },
   "id": "71cc67c7000dc04c"
  },
  {
   "cell_type": "code",
   "execution_count": 277,
   "outputs": [
    {
     "data": {
      "text/plain": "0"
     },
     "execution_count": 277,
     "metadata": {},
     "output_type": "execute_result"
    }
   ],
   "source": [
    "colombo_df[\"Next Date\"].duplicated().sum()"
   ],
   "metadata": {
    "collapsed": false,
    "ExecuteTime": {
     "end_time": "2024-04-14T15:10:59.490882900Z",
     "start_time": "2024-04-14T15:10:59.419246400Z"
    }
   },
   "id": "c4fc01adbee16ff4"
  },
  {
   "cell_type": "code",
   "execution_count": 278,
   "outputs": [],
   "source": [
    "import pandas as pd\n",
    "from statsmodels.tsa.stattools import adfuller"
   ],
   "metadata": {
    "collapsed": false,
    "ExecuteTime": {
     "end_time": "2024-04-14T15:10:59.491890500Z",
     "start_time": "2024-04-14T15:10:59.433291Z"
    }
   },
   "id": "ba89232a64242259"
  },
  {
   "cell_type": "code",
   "execution_count": 279,
   "outputs": [
    {
     "name": "stdout",
     "output_type": "stream",
     "text": [
      "ADF Statistic: -4.815579\n",
      "p-value: 0.000051\n",
      "\t1%: -3.434\n",
      "\t5%: -2.863\n",
      "\t10%: -2.568\n",
      "The dataframe is stationary\n"
     ]
    }
   ],
   "source": [
    "result = adfuller(colombo_df['HCHO reading'])\n",
    "print('ADF Statistic: %f' % result[0])\n",
    "print('p-value: %f' % result[1])\n",
    "for key, value in result[4].items():\n",
    " print('\\t%s: %.3f' % (key, value))\n",
    "if result[1] <= 0.05:\n",
    "    print(\"The dataframe is stationary\")"
   ],
   "metadata": {
    "collapsed": false,
    "ExecuteTime": {
     "end_time": "2024-04-14T15:10:59.557732500Z",
     "start_time": "2024-04-14T15:10:59.449802200Z"
    }
   },
   "id": "58d19bc8a0f813f7"
  },
  {
   "cell_type": "code",
   "execution_count": 280,
   "outputs": [
    {
     "name": "stdout",
     "output_type": "stream",
     "text": [
      "ADF Statistic: -12.409392\n",
      "p-value: 0.000000\n",
      "\t1%: -3.434\n",
      "\t5%: -2.863\n",
      "\t10%: -2.568\n",
      "The dataframe is stationary\n"
     ]
    }
   ],
   "source": [
    "result = adfuller(kandy_df['HCHO reading'])\n",
    "print('ADF Statistic: %f' % result[0])\n",
    "print('p-value: %f' % result[1])\n",
    "for key, value in result[4].items():\n",
    " print('\\t%s: %.3f' % (key, value))\n",
    "if result[1] <= 0.05:\n",
    "    print(\"The dataframe is stationary\")"
   ],
   "metadata": {
    "collapsed": false,
    "ExecuteTime": {
     "end_time": "2024-04-14T15:10:59.603841300Z",
     "start_time": "2024-04-14T15:10:59.540016700Z"
    }
   },
   "id": "5b39a52b86f15a52"
  },
  {
   "cell_type": "code",
   "execution_count": 281,
   "outputs": [
    {
     "name": "stdout",
     "output_type": "stream",
     "text": [
      "ADF Statistic: -5.774069\n",
      "p-value: 0.000001\n",
      "\t1%: -3.434\n",
      "\t5%: -2.863\n",
      "\t10%: -2.568\n",
      "5.309545438436768e-07\n",
      "The dataframe is stationary\n"
     ]
    }
   ],
   "source": [
    "result = adfuller(bibile_df['HCHO reading'])\n",
    "print('ADF Statistic: %f' % result[0])\n",
    "print('p-value: %f' % result[1])\n",
    "for key, value in result[4].items():\n",
    " print('\\t%s: %.3f' % (key, value))\n",
    "print (result[1])\n",
    "if result[1] <= 0.05:\n",
    "    print(\"The dataframe is stationary\")"
   ],
   "metadata": {
    "collapsed": false,
    "ExecuteTime": {
     "end_time": "2024-04-14T15:10:59.669234500Z",
     "start_time": "2024-04-14T15:10:59.593315900Z"
    }
   },
   "id": "c9a84e7cf8ee50b2"
  },
  {
   "cell_type": "code",
   "execution_count": 282,
   "outputs": [
    {
     "name": "stdout",
     "output_type": "stream",
     "text": [
      "ADF Statistic: -7.987862\n",
      "p-value: 0.000000\n",
      "\t1%: -3.434\n",
      "\t5%: -2.863\n",
      "\t10%: -2.568\n",
      "2.5204950033302695e-12\n",
      "The dataframe is stationary\n"
     ]
    }
   ],
   "source": [
    "result = adfuller(kurunegala_df['HCHO reading'])\n",
    "print('ADF Statistic: %f' % result[0])\n",
    "print('p-value: %f' % result[1])\n",
    "for key, value in result[4].items():\n",
    " print('\\t%s: %.3f' % (key, value))\n",
    "print (result[1])\n",
    "if result[1] <= 0.05:\n",
    "    print(\"the The dataframe is stationary\")\n",
    "    "
   ],
   "metadata": {
    "collapsed": false,
    "ExecuteTime": {
     "end_time": "2024-04-14T15:10:59.736660900Z",
     "start_time": "2024-04-14T15:10:59.670743900Z"
    }
   },
   "id": "61a170ca0d6b0db1"
  },
  {
   "cell_type": "code",
   "execution_count": 283,
   "outputs": [
    {
     "name": "stdout",
     "output_type": "stream",
     "text": [
      "ADF Statistic: -6.695546\n",
      "p-value: 0.000000\n",
      "\t1%: -3.434\n",
      "\t5%: -2.863\n",
      "\t10%: -2.568\n",
      "4.008304170888003e-09\n",
      "The dataframe is stationary\n"
     ]
    }
   ],
   "source": [
    "result = adfuller(jaffna_df['HCHO reading'])\n",
    "print('ADF Statistic: %f' % result[0])\n",
    "print('p-value: %f' % result[1])\n",
    "for key, value in result[4].items():\n",
    " print('\\t%s: %.3f' % (key, value))\n",
    "print (result[1])\n",
    "if result[1] <= 0.05:\n",
    "    print(\"The dataframe is stationary\")"
   ],
   "metadata": {
    "collapsed": false,
    "ExecuteTime": {
     "end_time": "2024-04-14T15:10:59.795622800Z",
     "start_time": "2024-04-14T15:10:59.733661600Z"
    }
   },
   "id": "8625afd8d5d52951"
  },
  {
   "cell_type": "code",
   "execution_count": 284,
   "outputs": [
    {
     "name": "stdout",
     "output_type": "stream",
     "text": [
      "ADF Statistic: -11.338915\n",
      "p-value: 0.000000\n",
      "\t1%: -3.434\n",
      "\t5%: -2.863\n",
      "\t10%: -2.568\n",
      "1.0665408960737032e-20\n",
      "The dataframe is stationary\n"
     ]
    }
   ],
   "source": [
    "result = adfuller(nuwaraEliya_df['HCHO reading'])\n",
    "print('ADF Statistic: %f' % result[0])\n",
    "print('p-value: %f' % result[1])\n",
    "for key, value in result[4].items():\n",
    " print('\\t%s: %.3f' % (key, value))\n",
    "print (result[1])\n",
    "if result[1] <= 0.05:\n",
    "    print(\"The dataframe is stationary\")"
   ],
   "metadata": {
    "collapsed": false,
    "ExecuteTime": {
     "end_time": "2024-04-14T15:10:59.862027500Z",
     "start_time": "2024-04-14T15:10:59.795622800Z"
    }
   },
   "id": "73ba37f0e531a499"
  },
  {
   "cell_type": "code",
   "execution_count": 285,
   "outputs": [
    {
     "name": "stdout",
     "output_type": "stream",
     "text": [
      "ADF Statistic: -16.124882\n",
      "p-value: 0.000000\n",
      "\t1%: -3.434\n",
      "\t5%: -2.863\n",
      "\t10%: -2.568\n",
      "4.8539087099264634e-29\n",
      "The dataframe is stationary\n"
     ]
    }
   ],
   "source": [
    "result = adfuller(deniyaya_df['HCHO reading'])\n",
    "print('ADF Statistic: %f' % result[0])\n",
    "print('p-value: %f' % result[1])\n",
    "for key, value in result[4].items():\n",
    " print('\\t%s: %.3f' % (key, value))\n",
    "print (result[1])\n",
    "if result[1] <= 0.05:\n",
    "    print(\"The dataframe is stationary\")"
   ],
   "metadata": {
    "collapsed": false,
    "ExecuteTime": {
     "end_time": "2024-04-14T15:10:59.972078800Z",
     "start_time": "2024-04-14T15:10:59.857993200Z"
    }
   },
   "id": "d8df2065ca6caf37"
  },
  {
   "cell_type": "code",
   "execution_count": 288,
   "outputs": [],
   "source": [
    "from statsmodels.tsa.arima.model import ARIMA\n",
    "from sklearn.metrics import mean_squared_error, mean_absolute_percentage_error\n"
   ],
   "metadata": {
    "collapsed": false,
    "ExecuteTime": {
     "end_time": "2024-04-14T15:18:42.197868800Z",
     "start_time": "2024-04-14T15:18:41.618539500Z"
    }
   },
   "id": "a0c94066e72059e1"
  },
  {
   "cell_type": "code",
   "execution_count": 289,
   "outputs": [
    {
     "name": "stdout",
     "output_type": "stream",
     "text": [
      "RMSE: 0.00010340039179900689\n",
      "MSE: 1.0691641024188131e-08\n",
      "MAPE: 143.5945262105585\n"
     ]
    },
    {
     "name": "stderr",
     "output_type": "stream",
     "text": [
      "C:\\Users\\ASUS TUF\\AppData\\Local\\Programs\\Python\\Python38\\lib\\site-packages\\statsmodels\\base\\model.py:607: ConvergenceWarning: Maximum Likelihood optimization failed to converge. Check mle_retvals\n",
      "  warnings.warn(\"Maximum Likelihood optimization failed to \"\n"
     ]
    }
   ],
   "source": [
    "# Split data into training and testing sets (adjust split ratio as needed)\n",
    "split_ratio = 0.8\n",
    "train_size = int(len(colombo_df) * split_ratio)\n",
    "train_data, test_data = colombo_df[0:train_size], colombo_df[train_size:]\n",
    "\n",
    "# Define and fit the ARIMA model on training data\n",
    "model = ARIMA(train_data[\"HCHO reading\"], order=(1, 1, 1))  # Adjust order as needed\n",
    "model_fit = model.fit()\n",
    "\n",
    "# Forecast for test data\n",
    "forecast = model_fit.forecast(steps=len(test_data))\n",
    "\n",
    "# Calculate evaluation metrics on test data\n",
    "rmse = mean_squared_error(test_data[\"HCHO reading\"], forecast, squared=False)  # Root Mean Squared Error\n",
    "mse = mean_squared_error(test_data[\"HCHO reading\"], forecast)  # Mean Squared Error\n",
    "mape = mean_absolute_percentage_error(test_data[\"HCHO reading\"], forecast) * 100  # Mean Absolute Percentage Error\n",
    "\n",
    "# Print the evaluation metrics\n",
    "print(\"RMSE:\", rmse)\n",
    "print(\"MSE:\", mse)\n",
    "print(\"MAPE:\", mape)"
   ],
   "metadata": {
    "collapsed": false,
    "ExecuteTime": {
     "end_time": "2024-04-14T15:18:45.707491600Z",
     "start_time": "2024-04-14T15:18:45.456632400Z"
    }
   },
   "id": "35b4e58f5c9b92d3"
  },
  {
   "cell_type": "code",
   "execution_count": 290,
   "outputs": [
    {
     "name": "stderr",
     "output_type": "stream",
     "text": [
      "C:\\Users\\ASUS TUF\\AppData\\Local\\Programs\\Python\\Python38\\lib\\site-packages\\statsmodels\\tsa\\base\\tsa_model.py:473: ValueWarning: An unsupported index was provided and will be ignored when e.g. forecasting.\n",
      "  self._init_dates(dates, freq)\n",
      "C:\\Users\\ASUS TUF\\AppData\\Local\\Programs\\Python\\Python38\\lib\\site-packages\\statsmodels\\tsa\\base\\tsa_model.py:473: ValueWarning: An unsupported index was provided and will be ignored when e.g. forecasting.\n",
      "  self._init_dates(dates, freq)\n",
      "C:\\Users\\ASUS TUF\\AppData\\Local\\Programs\\Python\\Python38\\lib\\site-packages\\statsmodels\\tsa\\base\\tsa_model.py:473: ValueWarning: An unsupported index was provided and will be ignored when e.g. forecasting.\n",
      "  self._init_dates(dates, freq)\n"
     ]
    },
    {
     "name": "stdout",
     "output_type": "stream",
     "text": [
      "RMSE: 0.00010988975542743162\n",
      "MSE: 1.2075758347900736e-08\n",
      "MAPE: 101.315512731711\n"
     ]
    },
    {
     "name": "stderr",
     "output_type": "stream",
     "text": [
      "C:\\Users\\ASUS TUF\\AppData\\Local\\Programs\\Python\\Python38\\lib\\site-packages\\statsmodels\\base\\model.py:607: ConvergenceWarning: Maximum Likelihood optimization failed to converge. Check mle_retvals\n",
      "  warnings.warn(\"Maximum Likelihood optimization failed to \"\n",
      "C:\\Users\\ASUS TUF\\AppData\\Local\\Programs\\Python\\Python38\\lib\\site-packages\\statsmodels\\tsa\\base\\tsa_model.py:836: ValueWarning: No supported index is available. Prediction results will be given with an integer index beginning at `start`.\n",
      "  return get_prediction_index(\n",
      "C:\\Users\\ASUS TUF\\AppData\\Local\\Programs\\Python\\Python38\\lib\\site-packages\\statsmodels\\tsa\\base\\tsa_model.py:836: FutureWarning: No supported index is available. In the next version, calling this method in a model without a supported index will result in an exception.\n",
      "  return get_prediction_index(\n"
     ]
    }
   ],
   "source": [
    "# Split data into training and testing sets (adjust split ratio as needed)\n",
    "split_ratio = 0.8\n",
    "train_size = int(len(nuwaraEliya_df) * split_ratio)\n",
    "train_data, test_data = nuwaraEliya_df[0:train_size], nuwaraEliya_df[train_size:]\n",
    "\n",
    "# Define and fit the ARIMA model on training data\n",
    "model = ARIMA(train_data[\"HCHO reading\"], order=(1, 1, 1))  # Adjust order as needed\n",
    "model_fit = model.fit()\n",
    "\n",
    "# Forecast for test data\n",
    "forecast = model_fit.forecast(steps=len(test_data))\n",
    "\n",
    "# Calculate evaluation metrics on test data\n",
    "rmse = mean_squared_error(test_data[\"HCHO reading\"], forecast, squared=False)  # Root Mean Squared Error\n",
    "mse = mean_squared_error(test_data[\"HCHO reading\"], forecast)  # Mean Squared Error\n",
    "mape = mean_absolute_percentage_error(test_data[\"HCHO reading\"], forecast) * 100  # Mean Absolute Percentage Error\n",
    "\n",
    "# Print the evaluation metrics\n",
    "print(\"RMSE:\", rmse)\n",
    "print(\"MSE:\", mse)\n",
    "print(\"MAPE:\", mape)"
   ],
   "metadata": {
    "collapsed": false,
    "ExecuteTime": {
     "end_time": "2024-04-14T15:29:12.237778800Z",
     "start_time": "2024-04-14T15:29:11.938935500Z"
    }
   },
   "id": "7ee0ac01949c6e"
  },
  {
   "cell_type": "code",
   "execution_count": 291,
   "outputs": [
    {
     "name": "stderr",
     "output_type": "stream",
     "text": [
      "C:\\Users\\ASUS TUF\\AppData\\Local\\Programs\\Python\\Python38\\lib\\site-packages\\statsmodels\\tsa\\base\\tsa_model.py:473: ValueWarning: An unsupported index was provided and will be ignored when e.g. forecasting.\n",
      "  self._init_dates(dates, freq)\n",
      "C:\\Users\\ASUS TUF\\AppData\\Local\\Programs\\Python\\Python38\\lib\\site-packages\\statsmodels\\tsa\\base\\tsa_model.py:473: ValueWarning: An unsupported index was provided and will be ignored when e.g. forecasting.\n",
      "  self._init_dates(dates, freq)\n",
      "C:\\Users\\ASUS TUF\\AppData\\Local\\Programs\\Python\\Python38\\lib\\site-packages\\statsmodels\\tsa\\base\\tsa_model.py:473: ValueWarning: An unsupported index was provided and will be ignored when e.g. forecasting.\n",
      "  self._init_dates(dates, freq)\n"
     ]
    },
    {
     "name": "stdout",
     "output_type": "stream",
     "text": [
      "RMSE: 9.428983400399764e-05\n",
      "MSE: 8.890572796501429e-09\n",
      "MAPE: 2918.7776498339977\n"
     ]
    },
    {
     "name": "stderr",
     "output_type": "stream",
     "text": [
      "C:\\Users\\ASUS TUF\\AppData\\Local\\Programs\\Python\\Python38\\lib\\site-packages\\statsmodels\\base\\model.py:607: ConvergenceWarning: Maximum Likelihood optimization failed to converge. Check mle_retvals\n",
      "  warnings.warn(\"Maximum Likelihood optimization failed to \"\n",
      "C:\\Users\\ASUS TUF\\AppData\\Local\\Programs\\Python\\Python38\\lib\\site-packages\\statsmodels\\tsa\\base\\tsa_model.py:836: ValueWarning: No supported index is available. Prediction results will be given with an integer index beginning at `start`.\n",
      "  return get_prediction_index(\n",
      "C:\\Users\\ASUS TUF\\AppData\\Local\\Programs\\Python\\Python38\\lib\\site-packages\\statsmodels\\tsa\\base\\tsa_model.py:836: FutureWarning: No supported index is available. In the next version, calling this method in a model without a supported index will result in an exception.\n",
      "  return get_prediction_index(\n"
     ]
    }
   ],
   "source": [
    "# Split data into training and testing sets (adjust split ratio as needed)\n",
    "split_ratio = 0.8\n",
    "train_size = int(len(deniyaya_df) * split_ratio)\n",
    "train_data, test_data = deniyaya_df[0:train_size], deniyaya_df[train_size:]\n",
    "\n",
    "# Define and fit the ARIMA model on training data\n",
    "model = ARIMA(train_data[\"HCHO reading\"], order=(1, 1, 1))  # Adjust order as needed\n",
    "model_fit = model.fit()\n",
    "\n",
    "# Forecast for test data\n",
    "forecast = model_fit.forecast(steps=len(test_data))\n",
    "\n",
    "# Calculate evaluation metrics on test data\n",
    "rmse = mean_squared_error(test_data[\"HCHO reading\"], forecast, squared=False)  # Root Mean Squared Error\n",
    "mse = mean_squared_error(test_data[\"HCHO reading\"], forecast)  # Mean Squared Error\n",
    "mape = mean_absolute_percentage_error(test_data[\"HCHO reading\"], forecast) * 100  # Mean Absolute Percentage Error\n",
    "\n",
    "# Print the evaluation metrics\n",
    "print(\"RMSE:\", rmse)\n",
    "print(\"MSE:\", mse)\n",
    "print(\"MAPE:\", mape)"
   ],
   "metadata": {
    "collapsed": false,
    "ExecuteTime": {
     "end_time": "2024-04-14T15:29:59.529072100Z",
     "start_time": "2024-04-14T15:29:59.238393200Z"
    }
   },
   "id": "665a4a6e7afa2a0c"
  },
  {
   "cell_type": "code",
   "execution_count": null,
   "outputs": [],
   "source": [],
   "metadata": {
    "collapsed": false
   },
   "id": "f4e2de46b01951e0"
  }
 ],
 "metadata": {
  "kernelspec": {
   "display_name": "Python 3",
   "language": "python",
   "name": "python3"
  },
  "language_info": {
   "codemirror_mode": {
    "name": "ipython",
    "version": 2
   },
   "file_extension": ".py",
   "mimetype": "text/x-python",
   "name": "python",
   "nbconvert_exporter": "python",
   "pygments_lexer": "ipython2",
   "version": "2.7.6"
  }
 },
 "nbformat": 4,
 "nbformat_minor": 5
}
