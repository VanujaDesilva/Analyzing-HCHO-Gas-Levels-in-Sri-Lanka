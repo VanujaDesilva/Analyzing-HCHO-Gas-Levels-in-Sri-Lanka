{
 "cells": [
  {
   "cell_type": "code",
   "execution_count": 1,
   "id": "initial_id",
   "metadata": {
    "collapsed": true,
    "ExecuteTime": {
     "end_time": "2024-04-17T16:38:52.844408700Z",
     "start_time": "2024-04-17T16:38:50.478104600Z"
    }
   },
   "outputs": [],
   "source": [
    "import pandas as pd\n",
    "from statsmodels.tsa.statespace.sarimax import SARIMAX\n",
    "from sklearn.metrics import mean_squared_error, mean_absolute_percentage_error"
   ]
  },
  {
   "cell_type": "code",
   "execution_count": 11,
   "outputs": [],
   "source": [
    "colombo_df = pd.read_csv('DataSets/ColomboData.csv')\n",
    "kandy_df = pd.read_csv('DataSets/KandyData.csv')\n",
    "bible_df = pd.read_csv('DataSets/BibileData.csv')\n",
    "nuwaraEliya_df = pd.read_csv('DataSets/NuwaraEliyData.csv')\n",
    "deniyaya_df = pd.read_csv('DataSets/DeniyayaData.csv')\n",
    "jaffna_df = pd.read_csv('DataSets/JaffnaData.csv')\n",
    "kurunegala_df = pd.read_csv('DataSets/KurunegalaData.csv')"
   ],
   "metadata": {
    "collapsed": false,
    "ExecuteTime": {
     "end_time": "2024-04-17T16:52:47.249117400Z",
     "start_time": "2024-04-17T16:52:47.223390900Z"
    }
   },
   "id": "d726df36c16c468e"
  },
  {
   "cell_type": "code",
   "execution_count": 42,
   "outputs": [
    {
     "data": {
      "text/plain": "(1430, 3)"
     },
     "execution_count": 42,
     "metadata": {},
     "output_type": "execute_result"
    }
   ],
   "source": [
    "# Split data into training and testing sets (adjust split ratio as needed)\n",
    "split_ratio = 0.8\n",
    "train_size = int(len(colombo_df) * split_ratio)\n",
    "train_data, test_data = colombo_df[0:train_size], colombo_df[train_size:]\n",
    "colombo_shape = train_data.shape\n",
    "colombo_shape"
   ],
   "metadata": {
    "collapsed": false,
    "ExecuteTime": {
     "end_time": "2024-04-17T17:08:05.922696300Z",
     "start_time": "2024-04-17T17:08:05.897156Z"
    }
   },
   "id": "11ee9a0f6373a173"
  },
  {
   "cell_type": "code",
   "execution_count": 45,
   "outputs": [
    {
     "name": "stdout",
     "output_type": "stream",
     "text": [
      "RMSE: 0.00041893674419326356\n",
      "MSE: 1.7550799563525197e-07\n",
      "MAPE: 502.4678489537278\n"
     ]
    },
    {
     "name": "stderr",
     "output_type": "stream",
     "text": [
      "C:\\Users\\ASUS TUF\\AppData\\Local\\Programs\\Python\\Python38\\lib\\site-packages\\statsmodels\\base\\model.py:607: ConvergenceWarning: Maximum Likelihood optimization failed to converge. Check mle_retvals\n",
      "  warnings.warn(\"Maximum Likelihood optimization failed to \"\n"
     ]
    }
   ],
   "source": [
    "# Define and fit the ARIMA model on training data\n",
    "model = SARIMAX(colombo_df[\"HCHO reading\"][:1429], order=(1, 1, 1), seasonal_order=(1, 1, 1, 12))  # Adjust order as needed\n",
    "model_fit = model.fit()\n",
    "\n",
    "# Forecast for test data\n",
    "forecast = model_fit.forecast(steps=len(test_data))\n",
    "\n",
    "# Calculate evaluation metrics on test data\n",
    "rmse = mean_squared_error(test_data[\"HCHO reading\"], forecast, squared=False)  # Root Mean Squared Error\n",
    "mse = mean_squared_error(test_data[\"HCHO reading\"], forecast)  # Mean Squared Error\n",
    "mape = mean_absolute_percentage_error(test_data[\"HCHO reading\"], forecast) * 100  # Mean Absolute Percentage Error\n",
    "\n",
    "# Print the evaluation metrics\n",
    "print(\"RMSE:\", rmse)\n",
    "print(\"MSE:\", mse)\n",
    "print(\"MAPE:\", mape)"
   ],
   "metadata": {
    "collapsed": false,
    "ExecuteTime": {
     "end_time": "2024-04-17T17:09:03.505597300Z",
     "start_time": "2024-04-17T17:09:01.715679600Z"
    }
   },
   "id": "1c6a8c2415e6e212"
  },
  {
   "cell_type": "code",
   "execution_count": 33,
   "outputs": [
    {
     "data": {
      "text/plain": "(1428, 3)"
     },
     "execution_count": 33,
     "metadata": {},
     "output_type": "execute_result"
    }
   ],
   "source": [
    "split_ratio = 0.8\n",
    "train_size = int(len(kandy_df) * split_ratio)\n",
    "train_data, test_data = kandy_df[0:train_size], kandy_df[train_size:]\n",
    "kandy_df_shape = train_data.shape\n",
    "kandy_df_shape"
   ],
   "metadata": {
    "collapsed": false,
    "ExecuteTime": {
     "end_time": "2024-04-17T17:05:36.556009500Z",
     "start_time": "2024-04-17T17:05:36.534977800Z"
    }
   },
   "id": "f9e06ba8141b4da7"
  },
  {
   "cell_type": "code",
   "execution_count": 35,
   "outputs": [
    {
     "name": "stdout",
     "output_type": "stream",
     "text": [
      "RMSE: 0.00010310060568897983\n",
      "MSE: 1.0629734893434502e-08\n",
      "MAPE: 454.36329403673784\n"
     ]
    },
    {
     "name": "stderr",
     "output_type": "stream",
     "text": [
      "C:\\Users\\ASUS TUF\\AppData\\Local\\Programs\\Python\\Python38\\lib\\site-packages\\statsmodels\\base\\model.py:607: ConvergenceWarning: Maximum Likelihood optimization failed to converge. Check mle_retvals\n",
      "  warnings.warn(\"Maximum Likelihood optimization failed to \"\n"
     ]
    }
   ],
   "source": [
    "# Define and fit the ARIMA model on training data\n",
    "model = SARIMAX(kandy_df[\"HCHO reading\"][0:1428], order=(1, 1, 1), seasonal_order=(1, 1, 1, 12)) \n",
    "model_fit = model.fit()\n",
    "# Calculate evaluation metrics on test data\n",
    "rmse = mean_squared_error(test_data[\"HCHO reading\"], forecast, squared=False)  # Root Mean Squared Error\n",
    "mse = mean_squared_error(test_data[\"HCHO reading\"], forecast)  # Mean Squared Error\n",
    "mape = mean_absolute_percentage_error(test_data[\"HCHO reading\"], forecast) * 100  # Mean Absolute Percentage Error\n",
    "\n",
    "# Print the evaluation metrics\n",
    "print(\"RMSE:\", rmse)\n",
    "print(\"MSE:\", mse)\n",
    "print(\"MAPE:\", mape)\n"
   ],
   "metadata": {
    "collapsed": false,
    "ExecuteTime": {
     "end_time": "2024-04-17T17:06:13.057221700Z",
     "start_time": "2024-04-17T17:06:10.999681300Z"
    }
   },
   "id": "b2f1fd7ca7d7dac1"
  },
  {
   "cell_type": "code",
   "execution_count": null,
   "outputs": [],
   "source": [],
   "metadata": {
    "collapsed": false
   },
   "id": "e8e1d2bc98aacf7e"
  }
 ],
 "metadata": {
  "kernelspec": {
   "display_name": "Python 3",
   "language": "python",
   "name": "python3"
  },
  "language_info": {
   "codemirror_mode": {
    "name": "ipython",
    "version": 2
   },
   "file_extension": ".py",
   "mimetype": "text/x-python",
   "name": "python",
   "nbconvert_exporter": "python",
   "pygments_lexer": "ipython2",
   "version": "2.7.6"
  }
 },
 "nbformat": 4,
 "nbformat_minor": 5
}
